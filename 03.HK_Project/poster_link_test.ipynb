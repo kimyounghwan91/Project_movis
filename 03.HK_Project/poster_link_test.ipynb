{
 "cells": [
  {
   "cell_type": "code",
   "execution_count": 2,
   "metadata": {},
   "outputs": [],
   "source": [
    "import scrapy\n",
    "import requests\n",
    "from scrapy.http import TextResponse\n",
    "from selenium import webdriver\n",
    "from selenium.webdriver.chrome.service import Service\n",
    "from webdriver_manager.chrome import ChromeDriverManager\n",
    "from selenium.webdriver.common.by import By\n",
    "from selenium.webdriver.support import expected_conditions as EC\n",
    "import time\n",
    "import pandas as pd\n",
    "from scrapy.selector import Selector\n",
    "from scrapy.selector import Selector\n",
    "from scrapy.http import HtmlResponse\n",
    "from bs4 import BeautifulSoup\n",
    "import urllib.request\n",
    "import warnings\n",
    "warnings.filterwarnings(\"ignore\")"
   ]
  },
  {
   "cell_type": "code",
   "execution_count": 3,
   "metadata": {},
   "outputs": [],
   "source": [
    "def get_chrome_driver():\n",
    "    # 1. 크롬 옵션 세팅\n",
    "    chrome_options = webdriver.ChromeOptions()\n",
    "    WINDOW_SIZE = \"1080,720\"\n",
    "    \n",
    "    # chrome_options.add_argument(\"--headless\")\n",
    "    chrome_options.add_argument(\"--no-sandbox\")\n",
    "    chrome_options.add_argument(\"--disable-gpu\")\n",
    "    chrome_options.add_argument(f\"--window-size={WINDOW_SIZE}\")\n",
    "    # 2. driver 생성하기\n",
    "    driver = webdriver.Chrome(\n",
    "        service=Service(ChromeDriverManager().install()), # 가장 많이 바뀐 부분\n",
    "        options=chrome_options\n",
    "    )\n",
    "    \n",
    "    return driver"
   ]
  },
  {
   "cell_type": "code",
   "execution_count": 11,
   "metadata": {},
   "outputs": [
    {
     "name": "stderr",
     "output_type": "stream",
     "text": [
      "\n",
      "\n",
      "====== WebDriver manager ======\n",
      "Current google-chrome version is 99.0.4844\n",
      "Get LATEST chromedriver version for 99.0.4844 google-chrome\n",
      "Trying to download new driver from https://chromedriver.storage.googleapis.com/99.0.4844.51/chromedriver_win32.zip\n",
      "Driver has been saved in cache [C:\\Users\\Kims\\.wdm\\drivers\\chromedriver\\win32\\99.0.4844.51]\n"
     ]
    }
   ],
   "source": [
    "driver = get_chrome_driver()"
   ]
  },
  {
   "cell_type": "code",
   "execution_count": 12,
   "metadata": {},
   "outputs": [],
   "source": [
    "# urls = []\n",
    "# for year in map(str,range(2005,2006)):\n",
    "#     url = 'https://www.justwatch.com/kr/%EB%8F%99%EC%98%81%EC%83%81%EC%84%9C%EB%B9%84%EC%8A%A4/netflix?content_type=movie&release_year_from={}&release_year_until={}'.format(year, year)\n",
    "#     urls.append(url)"
   ]
  },
  {
   "cell_type": "code",
   "execution_count": 13,
   "metadata": {},
   "outputs": [],
   "source": [
    "url = 'https://www.justwatch.com/kr/%EC%98%81%ED%99%94/the-adam-project'\n",
    "driver.get(url)\n",
    "# 스크롤 높이 가져옴\n",
    "last_height = driver.execute_script(\"return document.body.scrollHeight\")\n",
    "while True:\n",
    "    # 끝까지 스크롤 다운\n",
    "    driver.execute_script(\"window.scrollTo(0, document.body.scrollHeight);\")\n",
    "    # 1초 대기\n",
    "    time.sleep(1)\n",
    "    # 스크롤 다운 후 스크롤 높이 다시 가져옴\n",
    "    new_height = driver.execute_script(\"return document.body.scrollHeight\")\n",
    "    if new_height == last_height:\n",
    "        break\n",
    "    last_height = new_height\n",
    "    # elem = driver.find_elements_by_css_selector('div.title-list-grid div.title-list-grid__item a.title-list-grid__item--link')\n",
    "    # linkUrls = []\n",
    "    # for e in elem:\n",
    "    #     linkUrl = e.get_attribute('href')\n",
    "    #     linkUrls.append(linkUrl)   "
   ]
  },
  {
   "cell_type": "code",
   "execution_count": 144,
   "metadata": {},
   "outputs": [],
   "source": [
    "title_list = []\n",
    "openingdate_list = []\n",
    "just_rating_list = []\n",
    "imdb_rating_list = []\n",
    "genre_list = []\n",
    "runtime_list = []\n",
    "director_list = []\n",
    "synopsis_list = []\n",
    "actors_list = []\n",
    "poster_list = []"
   ]
  },
  {
   "cell_type": "code",
   "execution_count": 146,
   "metadata": {},
   "outputs": [],
   "source": [
    "\n",
    "headers = { \"User-Agent\": \"Mozilla/5.0 (Macintosh; Intel Mac OS X 10_15_1) AppleWebKit/537.36 (KHTML, like Gecko) Chrome/78.0.3904.108 Safari/537.36\" }\n",
    "req = requests.get(url, headers=headers)\n",
    "response = TextResponse(req.url, body=req.text, encoding=\"utf-8\")\n",
    "response\n",
    "title_kor = response.css(\"div.title-block > div > h1::text\").get().strip()        \n",
    "opening_date = response.css(\"div.title-block > div > span::text\").get().replace(\"(\",\"\").replace(\")\",\"\").strip()\n",
    "try:\n",
    "    just_rating = response.css('div.detail-infos > div > div > div > a::text')[0].get().strip()\n",
    "except:\n",
    "    just_rating = None\n",
    "try:\n",
    "    imdb_rating = response.css('div.detail-infos > div > div > div > a::text')[1].get().strip()\n",
    "except:\n",
    "    imdb_rating = None   \n",
    "genre = response.xpath('//*[@id=\"base\"]/div[2]/div/div[2]/div[2]/div/div[1]/div[1]/div/div[2]/span/text()').getall()     # 뽑아낸 값이 리스트형태로 뽑힘 str 형태로 바꿔야함 모르겠음..\n",
    "genre = \",\".join(genre).replace(\" \",\"\")\n",
    "genre = genre\n",
    "runtime = response.xpath('//*[@id=\"base\"]/div[2]/div/div[2]/div[2]/div/div[1]/div[1]/div[3]/div[2]/text()').getall()\n",
    "runtime = \",\".join(runtime).replace(\" \",\"\")\n",
    "runtime = runtime\n",
    "director = response.xpath('//*[@id=\"base\"]/div[2]/div/div[2]/div[2]/div/div[1]/div[1]/div[4]/div[2]/span/a/text()').getall() # 뽑아낸 값이 리스트형태로 뽑힘 str 형태로 바꿔야함 모르겠음..\n",
    "director = \",\".join(director).replace(\" \",\"\")\n",
    "director = director\n",
    "actors = response.xpath('//*[@id=\"base\"]/div[2]/div/div[2]/div[2]/div/div[1]/div[3]/div/div/a/text()').getall() # 뽑아낸 값이 리스트형태로 뽑힘 str 형태로 바꿔야함 모르겠음...\n",
    "actors = \",\".join(actors).replace(\" \",\"\")\n",
    "actors = actors\n",
    "\n",
    "try:\n",
    "    synopsis = response.xpath('//*[@id=\"base\"]/div[2]/div/div[2]/div[2]/div/div[1]/div[4]/p/span/text()').get()\n",
    "except:\n",
    "    synopsis= None\n",
    "poster = response.xpath('//*[@id=\"base\"]/div[2]/div/div[1]/div/aside/div/div/picture').css('img').attrib['data-src'].strip()\n",
    "\n",
    "\n",
    "\n",
    "\n",
    "title_list.append(title_kor)\n",
    "openingdate_list.append(opening_date)\n",
    "just_rating_list.append(just_rating)\n",
    "just_rating_list.append(imdb_rating)\n",
    "genre_list.append(genre)\n",
    "runtime_list.append(runtime)\n",
    "director_list.append(director)\n",
    "synopsis_list.append(synopsis)\n",
    "actors_list.append(actors)\n",
    "poster_list.append(poster)"
   ]
  },
  {
   "cell_type": "code",
   "execution_count": 147,
   "metadata": {},
   "outputs": [
    {
     "data": {
      "text/plain": [
       "['애덤 프로젝트']"
      ]
     },
     "execution_count": 147,
     "metadata": {},
     "output_type": "execute_result"
    }
   ],
   "source": [
    "title_list\n"
   ]
  },
  {
   "cell_type": "code",
   "execution_count": 148,
   "metadata": {},
   "outputs": [
    {
     "data": {
      "text/plain": [
       "['https://images.justwatch.com/poster/265386974/s592']"
      ]
     },
     "execution_count": 148,
     "metadata": {},
     "output_type": "execute_result"
    }
   ],
   "source": [
    "poster_list"
   ]
  },
  {
   "cell_type": "code",
   "execution_count": 143,
   "metadata": {},
   "outputs": [],
   "source": [
    "driver.quit()"
   ]
  },
  {
   "cell_type": "code",
   "execution_count": null,
   "metadata": {},
   "outputs": [],
   "source": []
  }
 ],
 "metadata": {
  "interpreter": {
   "hash": "46ae208522317b1e0ccd05dd07d6b276f13b06ba5c87d9313b8ca5c34df924de"
  },
  "kernelspec": {
   "display_name": "Python 3.9.7 ('base')",
   "language": "python",
   "name": "python3"
  },
  "language_info": {
   "codemirror_mode": {
    "name": "ipython",
    "version": 3
   },
   "file_extension": ".py",
   "mimetype": "text/x-python",
   "name": "python",
   "nbconvert_exporter": "python",
   "pygments_lexer": "ipython3",
   "version": "3.9.7"
  },
  "orig_nbformat": 4
 },
 "nbformat": 4,
 "nbformat_minor": 2
}
