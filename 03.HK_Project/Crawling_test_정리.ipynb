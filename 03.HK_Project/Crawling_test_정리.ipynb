{
 "cells": [
  {
   "cell_type": "markdown",
   "metadata": {},
   "source": [
    "### BeautifulSoup 사용해서 저스트와치 상세페이지 포스터 이미지 다운로드"
   ]
  },
  {
   "cell_type": "code",
   "execution_count": 313,
   "metadata": {},
   "outputs": [
    {
     "data": {
      "text/plain": [
       "'yeojayi-hamjeong'"
      ]
     },
     "execution_count": 313,
     "metadata": {},
     "output_type": "execute_result"
    }
   ],
   "source": [
    "# csv파일 읽어오기\n",
    "import pandas as pd\n",
    "csv_test = pd.read_csv(\"C:/Users/Kims/Desktop/HK_Project_Team5/key_wavve.csv\")\n",
    "csv_test.head()\n",
    "csv_test2 = csv_test.drop([\"Unnamed: 0\"], axis=1)\n",
    "csv_test03 = csv_test2['~03']\n",
    "csv_test03.values[1090]"
   ]
  },
  {
   "cell_type": "markdown",
   "metadata": {},
   "source": [
    "#### 영화 poster 크롤링 "
   ]
  },
  {
   "cell_type": "code",
   "execution_count": 135,
   "metadata": {},
   "outputs": [],
   "source": [
    "import urllib.request\n",
    "from bs4 import BeautifulSoup\n",
    "path = \"crawled_img/\"\n",
    "target_url = \"https://www.justwatch.com/kr/%EC%98%81%ED%99%94/{}\".format(i)\n",
    "for i in csv_test03.values[0:30]:\n",
    "    req = urllib.request.Request(target_url)\n",
    "    res = urllib.request.urlopen(target_url).read()\n",
    "    target_url = \"https://www.justwatch.com/kr/%EC%98%81%ED%99%94/{}\".format(i)\n",
    "    soup = BeautifulSoup(res, 'html.parser') # soup을 이용해 url를 parser    \n",
    "    poster = soup.find(\"div\", class_=\"title-poster title-poster--no-radius-bottom\") # 포스터 태그로 이동\n",
    "    filename = poster.find(\"img\")[\"alt\"]\n",
    "    filename = \"\".join(i for i in filename if i not in \"\\/:*?<>|\")\n",
    "    img_url = poster.find(\"img\")[\"data-src\"]# 포스터 태그에서 img의 경로를 받아온다 \n",
    "    \n",
    "    urllib.request.urlretrieve(img_url, path+'/'+filename+'.jpg') # urlretrieve는 다운로드 함수, 경로지정,# img.alt 는 이미지 이름"
   ]
  },
  {
   "cell_type": "markdown",
   "metadata": {},
   "source": [
    "#### 세부정보 크롤링"
   ]
  },
  {
   "cell_type": "code",
   "execution_count": 1,
   "metadata": {},
   "outputs": [
    {
     "data": {
      "text/html": [
       "<div>\n",
       "<style scoped>\n",
       "    .dataframe tbody tr th:only-of-type {\n",
       "        vertical-align: middle;\n",
       "    }\n",
       "\n",
       "    .dataframe tbody tr th {\n",
       "        vertical-align: top;\n",
       "    }\n",
       "\n",
       "    .dataframe thead th {\n",
       "        text-align: right;\n",
       "    }\n",
       "</style>\n",
       "<table border=\"1\" class=\"dataframe\">\n",
       "  <thead>\n",
       "    <tr style=\"text-align: right;\">\n",
       "      <th></th>\n",
       "      <th>Unnamed: 0</th>\n",
       "      <th>~03</th>\n",
       "      <th>04~11</th>\n",
       "      <th>12~14</th>\n",
       "      <th>15~16</th>\n",
       "      <th>17~18</th>\n",
       "      <th>19~20</th>\n",
       "      <th>21~22</th>\n",
       "    </tr>\n",
       "  </thead>\n",
       "  <tbody>\n",
       "    <tr>\n",
       "      <th>0</th>\n",
       "      <td>0</td>\n",
       "      <td>banjiyi-jewang-banji-weonjeongdae</td>\n",
       "      <td>the-time-travelers-wife</td>\n",
       "      <td>john-wick</td>\n",
       "      <td>13sigan</td>\n",
       "      <td>murder-on-the-orient-express</td>\n",
       "      <td>bugseumateu</td>\n",
       "      <td>peurenci-diseupaeci</td>\n",
       "    </tr>\n",
       "    <tr>\n",
       "      <th>1</th>\n",
       "      <td>1</td>\n",
       "      <td>namsaegdaemun</td>\n",
       "      <td>peuropojeu</td>\n",
       "      <td>the-grand-budapest-hotel</td>\n",
       "      <td>miseu-seulroun</td>\n",
       "      <td>the-witch-part-1-the-subversion</td>\n",
       "      <td>jokeo</td>\n",
       "      <td>ssing2gedeo</td>\n",
       "    </tr>\n",
       "    <tr>\n",
       "      <th>2</th>\n",
       "      <td>2</td>\n",
       "      <td>meolholraendeu-deuraibeu</td>\n",
       "      <td>the-prestige</td>\n",
       "      <td>begin-again</td>\n",
       "      <td>fantastic-beasts-and-where-to-find-them</td>\n",
       "      <td>redi-peulreieo-weon</td>\n",
       "      <td>1917</td>\n",
       "      <td>dyun</td>\n",
       "    </tr>\n",
       "    <tr>\n",
       "      <th>3</th>\n",
       "      <td>3</td>\n",
       "      <td>harry-potter-and-the-philosophers-stone</td>\n",
       "      <td>the-debt</td>\n",
       "      <td>the-dark-knight-rises</td>\n",
       "      <td>maedeu-maegseu-bunnoyi-doro</td>\n",
       "      <td>asako</td>\n",
       "      <td>peoseuteu-kau</td>\n",
       "      <td>benom-2-res-deeo-bi-kaniji</td>\n",
       "    </tr>\n",
       "    <tr>\n",
       "      <th>4</th>\n",
       "      <td>4</td>\n",
       "      <td>peolpeu-pigsyeon</td>\n",
       "      <td>inception</td>\n",
       "      <td>whiplash</td>\n",
       "      <td>keontaegteu</td>\n",
       "      <td>benom</td>\n",
       "      <td>megi</td>\n",
       "      <td>deo-raseuteu-dyueol</td>\n",
       "    </tr>\n",
       "  </tbody>\n",
       "</table>\n",
       "</div>"
      ],
      "text/plain": [
       "   Unnamed: 0                                      ~03  \\\n",
       "0           0        banjiyi-jewang-banji-weonjeongdae   \n",
       "1           1                            namsaegdaemun   \n",
       "2           2                 meolholraendeu-deuraibeu   \n",
       "3           3  harry-potter-and-the-philosophers-stone   \n",
       "4           4                         peolpeu-pigsyeon   \n",
       "\n",
       "                     04~11                     12~14  \\\n",
       "0  the-time-travelers-wife                 john-wick   \n",
       "1               peuropojeu  the-grand-budapest-hotel   \n",
       "2             the-prestige               begin-again   \n",
       "3                 the-debt     the-dark-knight-rises   \n",
       "4                inception                  whiplash   \n",
       "\n",
       "                                     15~16                            17~18  \\\n",
       "0                                  13sigan     murder-on-the-orient-express   \n",
       "1                           miseu-seulroun  the-witch-part-1-the-subversion   \n",
       "2  fantastic-beasts-and-where-to-find-them              redi-peulreieo-weon   \n",
       "3              maedeu-maegseu-bunnoyi-doro                            asako   \n",
       "4                              keontaegteu                            benom   \n",
       "\n",
       "           19~20                       21~22  \n",
       "0    bugseumateu         peurenci-diseupaeci  \n",
       "1          jokeo                 ssing2gedeo  \n",
       "2           1917                        dyun  \n",
       "3  peoseuteu-kau  benom-2-res-deeo-bi-kaniji  \n",
       "4           megi         deo-raseuteu-dyueol  "
      ]
     },
     "execution_count": 1,
     "metadata": {},
     "output_type": "execute_result"
    }
   ],
   "source": [
    "# csv파일 읽어오기\n",
    "import pandas as pd\n",
    "csv_test = pd.read_csv(\"C:/Users/Kims/Desktop/HK_Project_Team5/key_wavve.csv\")\n",
    "csv_test.head()"
   ]
  },
  {
   "cell_type": "code",
   "execution_count": 28,
   "metadata": {},
   "outputs": [
    {
     "data": {
      "text/plain": [
       "'gamunyi-yeonggwang'"
      ]
     },
     "execution_count": 28,
     "metadata": {},
     "output_type": "execute_result"
    }
   ],
   "source": [
    "csv_test2 = csv_test.drop([\"Unnamed: 0\"], axis=1)\n",
    "csv_test03 = csv_test2['~03']\n",
    "csv_test03.values[1089]"
   ]
  },
  {
   "cell_type": "code",
   "execution_count": 16,
   "metadata": {},
   "outputs": [],
   "source": [
    "title_list =[]\n",
    "openingdate_list = []\n",
    "rate_list = []\n",
    "genre_list = []\n",
    "runtime_list = []\n",
    "director_list = []\n",
    "synopsis_list = []\n",
    "ac_list = []"
   ]
  },
  {
   "cell_type": "code",
   "execution_count": 48,
   "metadata": {},
   "outputs": [
    {
     "name": "stdout",
     "output_type": "stream",
     "text": [
      "=======================================================================================================================================\n",
      "여자의 함정 (1982)   1시간 44분  Lee Gyeong-tae\n",
      "None\n",
      "Jeong Yun-hui,Yoon Il-bong,Hwang Jung-seun\n"
     ]
    }
   ],
   "source": [
    "from urllib.request import urlopen\n",
    "from bs4 import BeautifulSoup\n",
    "import urllib.request\n",
    "\n",
    "\n",
    "\n",
    "def get_soup(target_url):\n",
    "    html = urllib.request.urlopen(target_url)\n",
    "    soup = BeautifulSoup(html, \"html.parser\")\n",
    "    return soup\n",
    "\n",
    "def extract_data(soup):\n",
    "    detail_info = soup.find(\"div\", {\"class\": \"title-info visible-xs visible-sm\"})\n",
    "    divs = detail_info.find_all(\"div\")    \n",
    "    div_2 = soup.find_all(\"div\", class_=\"detail-infos\")\n",
    "    rate = div_2[0].text.strip().replace(\"평점\",\"\")\n",
    "    genre = div_2[1].text.strip().replace(\"장르\",\"\")\n",
    "    runtime = div_2[2].text.strip().replace(\"재생 시간\",\"\")\n",
    "    director = div_2[3].text.strip().replace(\"감독\",\"\")\n",
    "\n",
    "\n",
    "    actors = soup.find(\"div\", class_=\"hidden-horizontal-scrollbar__items\")\n",
    "    actors = actors.find_all(\"a\", class_=\"title-credit-name\")\n",
    "    actors_list = []\n",
    "    for actor in actors:\n",
    "        actor = actor.get_text().strip()\n",
    "        actors_list.append(actor)         # 함수 내에서 for 문으로 뽑아낸 값을 actor_list로 저장\n",
    "    actors_list = \",\".join(actors_list)   #여기까지 tpye은 스트링 출력\n",
    "\n",
    "    title = soup.find(\"div\", class_=\"title-block\")\n",
    "    title_kor = title.find(\"h1\").get_text().strip()\n",
    "    opening_data = title.find(\"span\", class_=\"text-muted\").get_text().strip()\n",
    "    #synopsis = soup.select(\"#base > div.jw-info-box > div > div.jw-info-box__container-content > div:nth-child(2) > div > div > div > p > span\")[0].text.strip()    \n",
    "    try:\n",
    "        synopsis = soup.select(\"#base > div.jw-info-box > div > div.jw-info-box__container-content > div:nth-child(2) > div > div > div > p > span\")[0].text.strip()\n",
    "    except:\n",
    "        synopsis=None\n",
    "    \n",
    "    \n",
    "    # if synopsis == None or synopsis == '':\n",
    "    #     synopsis = None\n",
    "    \n",
    "   \n",
    "    title_list.append(title_kor)\n",
    "    openingdate_list.append(opening_data)\n",
    "    rate_list.append(rate)\n",
    "    genre_list.append(genre)\n",
    "    runtime_list.append(runtime)\n",
    "    director_list.append(director)\n",
    "    synopsis_list.append(synopsis)\n",
    "    ac_list.append(actors_list)                 # 위 for 문에서 뽑아낸 데이터 정보를 함수 밖의 ac_list로 저장\n",
    "    \n",
    "    print(\"=======================================================================================================================================\")\n",
    "    print(title_kor, opening_data, rate, genre, runtime, director)\n",
    "    print(synopsis)\n",
    "    print(actors_list)    # 함수값 안에서의 출연진 값이 print 값으로 표시됨\n",
    "\n",
    "\n",
    "for i in csv_test03.values[1090:1091]:\n",
    "    target_url = \"https://www.justwatch.com/kr/%EC%98%81%ED%99%94/{}\".format(i)\n",
    "    soup = get_soup(target_url)\n",
    "    extract_data(soup)"
   ]
  },
  {
   "cell_type": "code",
   "execution_count": 49,
   "metadata": {},
   "outputs": [
    {
     "ename": "ValueError",
     "evalue": "All arrays must be of the same length",
     "output_type": "error",
     "traceback": [
      "\u001b[1;31m---------------------------------------------------------------------------\u001b[0m",
      "\u001b[1;31mValueError\u001b[0m                                Traceback (most recent call last)",
      "\u001b[1;32m~\\AppData\\Local\\Temp/ipykernel_27172/1353504311.py\u001b[0m in \u001b[0;36m<module>\u001b[1;34m\u001b[0m\n\u001b[1;32m----> 1\u001b[1;33m df = pd.DataFrame({\n\u001b[0m\u001b[0;32m      2\u001b[0m     \"제목\":title_list,'개봉일':openingdate_list,'평점':rate_list, '장르':genre_list, '재생시간':runtime_list, '감독':director_list,\"출연진\":ac_list, \"시놉시스\":synopsis_list})\n\u001b[0;32m      3\u001b[0m \u001b[0mdf\u001b[0m\u001b[1;33m\u001b[0m\u001b[1;33m\u001b[0m\u001b[0m\n",
      "\u001b[1;32m~\\anaconda3\\lib\\site-packages\\pandas\\core\\frame.py\u001b[0m in \u001b[0;36m__init__\u001b[1;34m(self, data, index, columns, dtype, copy)\u001b[0m\n\u001b[0;32m    612\u001b[0m         \u001b[1;32melif\u001b[0m \u001b[0misinstance\u001b[0m\u001b[1;33m(\u001b[0m\u001b[0mdata\u001b[0m\u001b[1;33m,\u001b[0m \u001b[0mdict\u001b[0m\u001b[1;33m)\u001b[0m\u001b[1;33m:\u001b[0m\u001b[1;33m\u001b[0m\u001b[1;33m\u001b[0m\u001b[0m\n\u001b[0;32m    613\u001b[0m             \u001b[1;31m# GH#38939 de facto copy defaults to False only in non-dict cases\u001b[0m\u001b[1;33m\u001b[0m\u001b[1;33m\u001b[0m\u001b[0m\n\u001b[1;32m--> 614\u001b[1;33m             \u001b[0mmgr\u001b[0m \u001b[1;33m=\u001b[0m \u001b[0mdict_to_mgr\u001b[0m\u001b[1;33m(\u001b[0m\u001b[0mdata\u001b[0m\u001b[1;33m,\u001b[0m \u001b[0mindex\u001b[0m\u001b[1;33m,\u001b[0m \u001b[0mcolumns\u001b[0m\u001b[1;33m,\u001b[0m \u001b[0mdtype\u001b[0m\u001b[1;33m=\u001b[0m\u001b[0mdtype\u001b[0m\u001b[1;33m,\u001b[0m \u001b[0mcopy\u001b[0m\u001b[1;33m=\u001b[0m\u001b[0mcopy\u001b[0m\u001b[1;33m,\u001b[0m \u001b[0mtyp\u001b[0m\u001b[1;33m=\u001b[0m\u001b[0mmanager\u001b[0m\u001b[1;33m)\u001b[0m\u001b[1;33m\u001b[0m\u001b[1;33m\u001b[0m\u001b[0m\n\u001b[0m\u001b[0;32m    615\u001b[0m         \u001b[1;32melif\u001b[0m \u001b[0misinstance\u001b[0m\u001b[1;33m(\u001b[0m\u001b[0mdata\u001b[0m\u001b[1;33m,\u001b[0m \u001b[0mma\u001b[0m\u001b[1;33m.\u001b[0m\u001b[0mMaskedArray\u001b[0m\u001b[1;33m)\u001b[0m\u001b[1;33m:\u001b[0m\u001b[1;33m\u001b[0m\u001b[1;33m\u001b[0m\u001b[0m\n\u001b[0;32m    616\u001b[0m             \u001b[1;32mimport\u001b[0m \u001b[0mnumpy\u001b[0m\u001b[1;33m.\u001b[0m\u001b[0mma\u001b[0m\u001b[1;33m.\u001b[0m\u001b[0mmrecords\u001b[0m \u001b[1;32mas\u001b[0m \u001b[0mmrecords\u001b[0m\u001b[1;33m\u001b[0m\u001b[1;33m\u001b[0m\u001b[0m\n",
      "\u001b[1;32m~\\anaconda3\\lib\\site-packages\\pandas\\core\\internals\\construction.py\u001b[0m in \u001b[0;36mdict_to_mgr\u001b[1;34m(data, index, columns, dtype, typ, copy)\u001b[0m\n\u001b[0;32m    462\u001b[0m         \u001b[1;31m# TODO: can we get rid of the dt64tz special case above?\u001b[0m\u001b[1;33m\u001b[0m\u001b[1;33m\u001b[0m\u001b[0m\n\u001b[0;32m    463\u001b[0m \u001b[1;33m\u001b[0m\u001b[0m\n\u001b[1;32m--> 464\u001b[1;33m     return arrays_to_mgr(\n\u001b[0m\u001b[0;32m    465\u001b[0m         \u001b[0marrays\u001b[0m\u001b[1;33m,\u001b[0m \u001b[0mdata_names\u001b[0m\u001b[1;33m,\u001b[0m \u001b[0mindex\u001b[0m\u001b[1;33m,\u001b[0m \u001b[0mcolumns\u001b[0m\u001b[1;33m,\u001b[0m \u001b[0mdtype\u001b[0m\u001b[1;33m=\u001b[0m\u001b[0mdtype\u001b[0m\u001b[1;33m,\u001b[0m \u001b[0mtyp\u001b[0m\u001b[1;33m=\u001b[0m\u001b[0mtyp\u001b[0m\u001b[1;33m,\u001b[0m \u001b[0mconsolidate\u001b[0m\u001b[1;33m=\u001b[0m\u001b[0mcopy\u001b[0m\u001b[1;33m\u001b[0m\u001b[1;33m\u001b[0m\u001b[0m\n\u001b[0;32m    466\u001b[0m     )\n",
      "\u001b[1;32m~\\anaconda3\\lib\\site-packages\\pandas\\core\\internals\\construction.py\u001b[0m in \u001b[0;36marrays_to_mgr\u001b[1;34m(arrays, arr_names, index, columns, dtype, verify_integrity, typ, consolidate)\u001b[0m\n\u001b[0;32m    117\u001b[0m         \u001b[1;31m# figure out the index, if necessary\u001b[0m\u001b[1;33m\u001b[0m\u001b[1;33m\u001b[0m\u001b[0m\n\u001b[0;32m    118\u001b[0m         \u001b[1;32mif\u001b[0m \u001b[0mindex\u001b[0m \u001b[1;32mis\u001b[0m \u001b[1;32mNone\u001b[0m\u001b[1;33m:\u001b[0m\u001b[1;33m\u001b[0m\u001b[1;33m\u001b[0m\u001b[0m\n\u001b[1;32m--> 119\u001b[1;33m             \u001b[0mindex\u001b[0m \u001b[1;33m=\u001b[0m \u001b[0m_extract_index\u001b[0m\u001b[1;33m(\u001b[0m\u001b[0marrays\u001b[0m\u001b[1;33m)\u001b[0m\u001b[1;33m\u001b[0m\u001b[1;33m\u001b[0m\u001b[0m\n\u001b[0m\u001b[0;32m    120\u001b[0m         \u001b[1;32melse\u001b[0m\u001b[1;33m:\u001b[0m\u001b[1;33m\u001b[0m\u001b[1;33m\u001b[0m\u001b[0m\n\u001b[0;32m    121\u001b[0m             \u001b[0mindex\u001b[0m \u001b[1;33m=\u001b[0m \u001b[0mensure_index\u001b[0m\u001b[1;33m(\u001b[0m\u001b[0mindex\u001b[0m\u001b[1;33m)\u001b[0m\u001b[1;33m\u001b[0m\u001b[1;33m\u001b[0m\u001b[0m\n",
      "\u001b[1;32m~\\anaconda3\\lib\\site-packages\\pandas\\core\\internals\\construction.py\u001b[0m in \u001b[0;36m_extract_index\u001b[1;34m(data)\u001b[0m\n\u001b[0;32m    633\u001b[0m             \u001b[0mlengths\u001b[0m \u001b[1;33m=\u001b[0m \u001b[0mlist\u001b[0m\u001b[1;33m(\u001b[0m\u001b[0mset\u001b[0m\u001b[1;33m(\u001b[0m\u001b[0mraw_lengths\u001b[0m\u001b[1;33m)\u001b[0m\u001b[1;33m)\u001b[0m\u001b[1;33m\u001b[0m\u001b[1;33m\u001b[0m\u001b[0m\n\u001b[0;32m    634\u001b[0m             \u001b[1;32mif\u001b[0m \u001b[0mlen\u001b[0m\u001b[1;33m(\u001b[0m\u001b[0mlengths\u001b[0m\u001b[1;33m)\u001b[0m \u001b[1;33m>\u001b[0m \u001b[1;36m1\u001b[0m\u001b[1;33m:\u001b[0m\u001b[1;33m\u001b[0m\u001b[1;33m\u001b[0m\u001b[0m\n\u001b[1;32m--> 635\u001b[1;33m                 \u001b[1;32mraise\u001b[0m \u001b[0mValueError\u001b[0m\u001b[1;33m(\u001b[0m\u001b[1;34m\"All arrays must be of the same length\"\u001b[0m\u001b[1;33m)\u001b[0m\u001b[1;33m\u001b[0m\u001b[1;33m\u001b[0m\u001b[0m\n\u001b[0m\u001b[0;32m    636\u001b[0m \u001b[1;33m\u001b[0m\u001b[0m\n\u001b[0;32m    637\u001b[0m             \u001b[1;32mif\u001b[0m \u001b[0mhave_dicts\u001b[0m\u001b[1;33m:\u001b[0m\u001b[1;33m\u001b[0m\u001b[1;33m\u001b[0m\u001b[0m\n",
      "\u001b[1;31mValueError\u001b[0m: All arrays must be of the same length"
     ]
    }
   ],
   "source": [
    "df = pd.DataFrame({\n",
    "    \"제목\":title_list,'개봉일':openingdate_list,'평점':rate_list, '장르':genre_list, '재생시간':runtime_list, '감독':director_list,\"출연진\":ac_list, \"시놉시스\":synopsis_list})\n",
    "df"
   ]
  },
  {
   "cell_type": "code",
   "execution_count": 23,
   "metadata": {},
   "outputs": [],
   "source": [
    "df.to_excel(\"test_wavve1000_error.xlsx\")"
   ]
  },
  {
   "cell_type": "code",
   "execution_count": null,
   "metadata": {},
   "outputs": [],
   "source": []
  }
 ],
 "metadata": {
  "interpreter": {
   "hash": "46ae208522317b1e0ccd05dd07d6b276f13b06ba5c87d9313b8ca5c34df924de"
  },
  "kernelspec": {
   "display_name": "Python 3.9.7 ('base')",
   "language": "python",
   "name": "python3"
  },
  "language_info": {
   "codemirror_mode": {
    "name": "ipython",
    "version": 3
   },
   "file_extension": ".py",
   "mimetype": "text/x-python",
   "name": "python",
   "nbconvert_exporter": "python",
   "pygments_lexer": "ipython3",
   "version": "3.9.7"
  },
  "orig_nbformat": 4
 },
 "nbformat": 4,
 "nbformat_minor": 2
}
