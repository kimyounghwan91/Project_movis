{
 "cells": [
  {
   "cell_type": "code",
   "execution_count": 1,
   "metadata": {},
   "outputs": [],
   "source": [
    "import scrapy\n",
    "import requests\n",
    "from scrapy.http import TextResponse\n",
    "from selenium import webdriver\n",
    "from selenium.webdriver.chrome.service import Service\n",
    "from webdriver_manager.chrome import ChromeDriverManager\n",
    "from selenium.webdriver.common.by import By\n",
    "from selenium.webdriver.support import expected_conditions as EC\n",
    "import time\n",
    "import pandas as pd\n",
    "from scrapy.selector import Selector\n",
    "from scrapy.selector import Selector\n",
    "from scrapy.http import HtmlResponse\n",
    "from bs4 import BeautifulSoup\n",
    "import urllib.request\n",
    "import warnings\n",
    "warnings.filterwarnings(\"ignore\")"
   ]
  },
  {
   "cell_type": "code",
   "execution_count": 2,
   "metadata": {},
   "outputs": [],
   "source": [
    "# from fake_useragent import UserAgent\n",
    "# url = \"https://www.justwatch.com/kr/%EB%8F%99%EC%98%81%EC%83%81%EC%84%9C%EB%B9%84%EC%8A%A4/netflix?content_type=movie&release_year_from=2022&release_year_until=2022\"\n",
    "# headers = { \"User-Agent\": \"Mozilla/5.0 (Macintosh; Intel Mac OS X 10_15_1) AppleWebKit/537.36 (KHTML, like Gecko) Chrome/78.0.3904.108 Safari/537.36\" }\n",
    "# req = requests.get(url, headers=headers)\n",
    "# response = TextResponse(req.url, body=req.text, encoding=\"utf-8\") \n",
    "# response"
   ]
  },
  {
   "cell_type": "code",
   "execution_count": 2,
   "metadata": {},
   "outputs": [],
   "source": [
    "def get_chrome_driver():\n",
    "    # 1. 크롬 옵션 세팅\n",
    "    chrome_options = webdriver.ChromeOptions()\n",
    "    WINDOW_SIZE = \"1920,1080\"\n",
    "    \n",
    "    # chrome_options.add_argument(\"--headless\")\n",
    "    chrome_options.add_argument(\"--no-sandbox\")\n",
    "    chrome_options.add_argument(\"--disable-gpu\")\n",
    "    chrome_options.add_argument(f\"--window-size={WINDOW_SIZE}\")\n",
    "    # 2. driver 생성하기\n",
    "    driver = webdriver.Chrome(\n",
    "        service=Service(ChromeDriverManager().install()), # 가장 많이 바뀐 부분\n",
    "        options=chrome_options\n",
    "    )\n",
    "    \n",
    "    return driver"
   ]
  },
  {
   "cell_type": "code",
   "execution_count": 3,
   "metadata": {},
   "outputs": [
    {
     "name": "stderr",
     "output_type": "stream",
     "text": [
      "\n",
      "\n",
      "====== WebDriver manager ======\n",
      "Current google-chrome version is 99.0.4844\n",
      "Get LATEST chromedriver version for 99.0.4844 google-chrome\n",
      "Trying to download new driver from https://chromedriver.storage.googleapis.com/99.0.4844.51/chromedriver_win32.zip\n",
      "Driver has been saved in cache [C:\\Users\\Kims\\.wdm\\drivers\\chromedriver\\win32\\99.0.4844.51]\n"
     ]
    }
   ],
   "source": [
    "driver = get_chrome_driver()"
   ]
  },
  {
   "cell_type": "code",
   "execution_count": 4,
   "metadata": {},
   "outputs": [],
   "source": [
    "urls = []\n",
    "for year in map(str,range(2005,2006)):\n",
    "    url = 'https://www.justwatch.com/kr/%EB%8F%99%EC%98%81%EC%83%81%EC%84%9C%EB%B9%84%EC%8A%A4/netflix?content_type=movie&release_year_from={}&release_year_until={}'.format(year, year)\n",
    "    urls.append(url)"
   ]
  },
  {
   "cell_type": "code",
   "execution_count": 5,
   "metadata": {},
   "outputs": [],
   "source": [
    "for url in urls:\n",
    "    driver.get(url)\n",
    "    # 스크롤 높이 가져옴\n",
    "    last_height = driver.execute_script(\"return document.body.scrollHeight\")\n",
    "    while True:\n",
    "        # 끝까지 스크롤 다운\n",
    "        driver.execute_script(\"window.scrollTo(0, document.body.scrollHeight);\")\n",
    "        # 1초 대기\n",
    "        time.sleep(1)\n",
    "        # 스크롤 다운 후 스크롤 높이 다시 가져옴\n",
    "        new_height = driver.execute_script(\"return document.body.scrollHeight\")\n",
    "        if new_height == last_height:\n",
    "            break\n",
    "        last_height = new_height        \n",
    "\n",
    "        elem = driver.find_elements_by_css_selector('div.title-list-grid div.title-list-grid__item a.title-list-grid__item--link')\n",
    "        linkUrls = []\n",
    "        for e in elem:\n",
    "            linkUrl = e.get_attribute('href')\n",
    "            linkUrls.append(linkUrl)    "
   ]
  },
  {
   "cell_type": "code",
   "execution_count": 6,
   "metadata": {},
   "outputs": [
    {
     "data": {
      "text/plain": [
       "44"
      ]
     },
     "execution_count": 6,
     "metadata": {},
     "output_type": "execute_result"
    }
   ],
   "source": [
    "len(linkUrls)"
   ]
  },
  {
   "cell_type": "code",
   "execution_count": 7,
   "metadata": {},
   "outputs": [],
   "source": [
    "title_list = []\n",
    "openingdate_list = []\n",
    "just_rating_list = []\n",
    "imdb_rating_list = []\n",
    "genre_list = []\n",
    "runtime_list = []\n",
    "director_list = []\n",
    "synopsis_list = []\n",
    "actors_list = []\n",
    "poster_list = []"
   ]
  },
  {
   "cell_type": "code",
   "execution_count": 8,
   "metadata": {},
   "outputs": [],
   "source": [
    "for i in range(0,len(linkUrls)):\n",
    "    url = linkUrls[i]\n",
    "    headers = { \"User-Agent\": \"Mozilla/5.0 (Macintosh; Intel Mac OS X 10_15_1) AppleWebKit/537.36 (KHTML, like Gecko) Chrome/78.0.3904.108 Safari/537.36\" }\n",
    "    req = requests.get(url, headers=headers)\n",
    "    response = TextResponse(req.url, body=req.text, encoding=\"utf-8\")\n",
    "    response\n",
    "\n",
    "    \n",
    "    title_kor = response.css(\"div.title-block > div > h1::text\").get().strip()        \n",
    "    opening_date = response.css(\"div.title-block > div > span::text\").get().replace(\"(\",\"\").replace(\")\",\"\").strip()\n",
    "\n",
    "    try:\n",
    "        just_rating = response.css('div.detail-infos > div > div > div > a::text')[0].get().strip()\n",
    "    except:\n",
    "        just_rating = None\n",
    "    try:\n",
    "        imdb_rating = response.css('div.detail-infos > div > div > div > a::text')[1].get().strip()\n",
    "    except:\n",
    "        imdb_rating = None   \n",
    "    genre = response.xpath('//*[@id=\"base\"]/div[2]/div/div[2]/div[2]/div/div[1]/div[1]/div/div[2]/span/text()').getall()     # 뽑아낸 값이 리스트형태로 뽑힘 str 형태로 바꿔야함 모르겠음..\n",
    "    genre = \",\".join(genre).replace(\" \",\"\")\n",
    "    genre = genre\n",
    "    runtime = response.xpath('//*[@id=\"base\"]/div[2]/div/div[2]/div[2]/div/div[1]/div[1]/div[3]/div[2]/text()').getall()\n",
    "    runtime = \",\".join(runtime).replace(\" \",\"\")\n",
    "    runtime = runtime\n",
    "    director = response.xpath('//*[@id=\"base\"]/div[2]/div/div[2]/div[2]/div/div[1]/div[1]/div[4]/div[2]/span/a/text()').getall() # 뽑아낸 값이 리스트형태로 뽑힘 str 형태로 바꿔야함 모르겠음..\n",
    "    director = \",\".join(director).replace(\" \",\"\")\n",
    "    director = director\n",
    "    actors = response.xpath('//*[@id=\"base\"]/div[2]/div/div[2]/div[2]/div/div[1]/div[3]/div/div/a/text()').getall() # 뽑아낸 값이 리스트형태로 뽑힘 str 형태로 바꿔야함 모르겠음...\n",
    "    actors = \",\".join(actors).replace(\" \",\"\")\n",
    "    actors = actors\n",
    "    \n",
    "    try:\n",
    "        synopsis = response.xpath('//*[@id=\"base\"]/div[2]/div/div[2]/div[2]/div/div[1]/div[4]/p/span/text()').get()\n",
    "    except:\n",
    "        synopsis= None\n",
    "\n",
    "    # poster = response.xpath('//*[@id=\"base\"]/div[2]/div/div[1]/div/aside/div[2]/div/picture/img/@data-src').get()\n",
    "    poster = response.css('source').getall()\n",
    "    \n",
    "    \n",
    "    title_list.append(title_kor)\n",
    "    openingdate_list.append(opening_date)\n",
    "    just_rating_list.append(just_rating)\n",
    "    just_rating_list.append(imdb_rating)\n",
    "    genre_list.append(genre)\n",
    "    runtime_list.append(runtime)\n",
    "    director_list.append(director)\n",
    "    synopsis_list.append(synopsis)\n",
    "    actors_list.append(actors)\n",
    "    poster_list.append(poster)"
   ]
  },
  {
   "cell_type": "code",
   "execution_count": 9,
   "metadata": {},
   "outputs": [
    {
     "data": {
      "text/plain": [
       "['Kureyon Shinchan: Densetsu o Yobu Buriburi: Sanpun Bokkiri Daishingeki',\n",
       " '콘스탄틴',\n",
       " '오만과 편견',\n",
       " '찰리와 초콜릿 공장',\n",
       " '브로크백 마운틴',\n",
       " '마다가스카',\n",
       " '디센트',\n",
       " '우주전쟁',\n",
       " '연애의 목적',\n",
       " '유령 신부',\n",
       " '자헤드: 그들만의 전쟁',\n",
       " '미스터 & 미세스 스미스',\n",
       " '거북이는 의외로 빨리 헤엄친다',\n",
       " '친절한 금자씨',\n",
       " '게이샤의 추억',\n",
       " '시노비',\n",
       " '저스트 프렌드',\n",
       " '말아톤',\n",
       " '오징어와 고래',\n",
       " '아미티빌 호러',\n",
       " '혈의 누',\n",
       " '내 생애 가장 아름다운 일주일',\n",
       " '웰컴 투 동막골',\n",
       " '용서받지 못한 자',\n",
       " '주먹이 운다',\n",
       " '이니셜 D',\n",
       " '나나',\n",
       " '태극권',\n",
       " '흑사회',\n",
       " '마파도',\n",
       " '미스터 소크라테스',\n",
       " '왕의 남자',\n",
       " '메종 드 히미코',\n",
       " '분홍신',\n",
       " '극장전',\n",
       " '가문의 영광 2 - 가문의 위기',\n",
       " '야수와 미녀',\n",
       " '작업의 정석',\n",
       " '박수칠 때 떠나라',\n",
       " '그때 그 사람들',\n",
       " '태풍',\n",
       " '루팡 3세 천사의 책략 - 꿈의 조각은 살인의 향기',\n",
       " '미스터 주부 퀴즈왕',\n",
       " '공공의 적 2']"
      ]
     },
     "execution_count": 9,
     "metadata": {},
     "output_type": "execute_result"
    }
   ],
   "source": [
    "title_list"
   ]
  },
  {
   "cell_type": "code",
   "execution_count": 10,
   "metadata": {},
   "outputs": [],
   "source": [
    "poster_list"
   ]
  },
  {
   "cell_type": "code",
   "execution_count": 61,
   "metadata": {},
   "outputs": [
    {
     "name": "stdout",
     "output_type": "stream",
     "text": [
      "제목: 공공의 적 2 개봉일: 2005 저스트와치 평점: 72% IMDB 평점: 6.0 장르: ['스릴러 ', '드라마 ', '액션 '] 재생시간: 2시간 28분 감독: [' Kang Woo-suk '] 출연자: [' Sol Kyung-gu ', ' Jung Joon-ho ', ' Kang Shin-il ', ' Park Geun-hyung ', ' Byun Hee-bong ', ' Park Sang-wook ', ' Uhm Tae-woong ', ' Jeong Gyu-su ', ' Choi Jung-woo ', ' Park Woong '] 시놉시스: 검찰청 최고의 꼴통검사 강철중, 룸싸롱은 주로 쳐들어 가기 위해 자주 들르고 책상머리의 서류철 들여다보기 보다 컵라면 우물거리며 잠복근무가 체질인 그는 나쁜 짓 하는 놈 잡기 위해 부하와 동료의 피를 볼 순 없다는 일념으로 총기류 사용도 마다하지 않는 다혈질 검사다. 그렇지만 어제도 오늘도 그의 하루는 늘 나름대로 스마일~로 시작된다.  그런 그에게 명선 재단 이사장 한상우 사건이 접수되고 특유의 기질로 나쁜 냄새를 직감한 강검사, 자기 담당도 아닌 사건을 조사하기 시작한다. 명선고교는 다름아닌 강검사의 모교이며 학교 재단 이사장의 둘째 아들인 한상우 또한 자신과 3년 동안 같은 반에서 수학한 동기동창이었던 것. 재단을 물려받기로 되어 있던 명선 재단 큰 아들의 사고로 인해 재단 이사장으로 급부상한 한상우, 때마침 명선 재단 큰 아들이 숨을 거두고 그 죽음에 대한 의문이 제기되면서 강철중 검사의 수사는 큰 파문을 불러 일으킨다. 이에 철중은 조사인의 자격으로 상우를 검찰청에서 마주하게 되는데.\n"
     ]
    },
    {
     "data": {
      "text/plain": [
       "str"
      ]
     },
     "execution_count": 61,
     "metadata": {},
     "output_type": "execute_result"
    }
   ],
   "source": [
    "print(\"제목:\",title_kor, \"개봉일:\",opening_date,\"저스트와치 평점:\", just_rating,\"IMDB 평점:\",imdb_rating, \"장르:\",genre, \"재생시간:\",runtime, \"감독:\",director,\"출연자:\", actors, \"시놉시스:\",synopsis)\n",
    "type(title_kor)"
   ]
  },
  {
   "cell_type": "code",
   "execution_count": null,
   "metadata": {},
   "outputs": [],
   "source": [
    "import pandas as pd\n",
    "# df = pd.DataFrame({\n",
    "#     \"제목\":title_list,\"개봉일\":openingdate_list,\"저스트와치 평점\":just_rating_list,\"장르\":genre_list,\"재생시간\":runtime_list, \"감독\":director_list,\"시놉시스\":synopsis_list})\n",
    "# df.tail(5)\n",
    "df = pd.DataFrame({\n",
    "    \"제목\":title_list,\"개봉일\":openingdate_list})\n",
    "df"
   ]
  },
  {
   "cell_type": "code",
   "execution_count": 1,
   "metadata": {},
   "outputs": [
    {
     "ename": "NameError",
     "evalue": "name 'driver' is not defined",
     "output_type": "error",
     "traceback": [
      "\u001b[1;31m---------------------------------------------------------------------------\u001b[0m",
      "\u001b[1;31mNameError\u001b[0m                                 Traceback (most recent call last)",
      "\u001b[1;32m~\\AppData\\Local\\Temp/ipykernel_12880/4006584204.py\u001b[0m in \u001b[0;36m<module>\u001b[1;34m\u001b[0m\n\u001b[1;32m----> 1\u001b[1;33m \u001b[0mdriver\u001b[0m\u001b[1;33m.\u001b[0m\u001b[0mquit\u001b[0m\u001b[1;33m(\u001b[0m\u001b[1;33m)\u001b[0m\u001b[1;33m\u001b[0m\u001b[1;33m\u001b[0m\u001b[0m\n\u001b[0m",
      "\u001b[1;31mNameError\u001b[0m: name 'driver' is not defined"
     ]
    }
   ],
   "source": [
    "driver.quit()\n"
   ]
  },
  {
   "cell_type": "code",
   "execution_count": null,
   "metadata": {},
   "outputs": [],
   "source": [
    "# csv파일 읽어오기\n",
    "import pandas as pd\n",
    "# csv_test = pd.read_csv(\"C:/Users/Kims/Desktop/HK_Project_Team5/movies.csv\")\n",
    "csv_test = pd.read_csv(r'C:\\Workspace\\AtHome\\movieScrapy\\movieScrapy\\spiders\\assets\\movies.csv')\n"
   ]
  },
  {
   "cell_type": "code",
   "execution_count": null,
   "metadata": {},
   "outputs": [],
   "source": [
    "csv_test.tail(20)"
   ]
  },
  {
   "cell_type": "code",
   "execution_count": null,
   "metadata": {},
   "outputs": [],
   "source": [
    "urls = []\n",
    "for year in map(str,range(1962,2023)):\n",
    "    ss = 'https://www.justwatch.com/kr/%EB%8F%99%EC%98%81%EC%83%81%EC%84%9C%EB%B9%84%EC%8A%A4/netflix?content_type=movie&release_year_from={}&release_year_until={}'.format(year, year)\n",
    "    urls.append(ss)\n",
    "\n",
    "urls"
   ]
  },
  {
   "cell_type": "code",
   "execution_count": 1,
   "metadata": {},
   "outputs": [
    {
     "data": {
      "text/plain": [
       "10792"
      ]
     },
     "execution_count": 1,
     "metadata": {},
     "output_type": "execute_result"
    }
   ],
   "source": [
    "# csv파일 읽어오기 ( 웨이브 )\n",
    "import pandas as pd\n",
    "# csv_test = pd.read_csv(\"C:/Users/Kims/Desktop/HK_Project_Team5/movies.csv\")\n",
    "csv_test_2 = pd.read_csv(r\"C:\\Users\\Kims\\Desktop\\HK_Project_Team5\\wavve_test2차.csv\")\n",
    "len(csv_test_2)"
   ]
  },
  {
   "cell_type": "code",
   "execution_count": 3,
   "metadata": {},
   "outputs": [
    {
     "data": {
      "text/html": [
       "<div>\n",
       "<style scoped>\n",
       "    .dataframe tbody tr th:only-of-type {\n",
       "        vertical-align: middle;\n",
       "    }\n",
       "\n",
       "    .dataframe tbody tr th {\n",
       "        vertical-align: top;\n",
       "    }\n",
       "\n",
       "    .dataframe thead th {\n",
       "        text-align: right;\n",
       "    }\n",
       "</style>\n",
       "<table border=\"1\" class=\"dataframe\">\n",
       "  <thead>\n",
       "    <tr style=\"text-align: right;\">\n",
       "      <th></th>\n",
       "      <th>title_kor</th>\n",
       "      <th>opening_date</th>\n",
       "      <th>just_rating</th>\n",
       "      <th>imdb_rating</th>\n",
       "      <th>runtime</th>\n",
       "      <th>synopsis</th>\n",
       "      <th>director</th>\n",
       "      <th>actors</th>\n",
       "      <th>genre</th>\n",
       "      <th>posterLink</th>\n",
       "    </tr>\n",
       "  </thead>\n",
       "  <tbody>\n",
       "    <tr>\n",
       "      <th>10789</th>\n",
       "      <td>특명:스피드레스큐</td>\n",
       "      <td>2021.0</td>\n",
       "      <td>NaN</td>\n",
       "      <td>NaN</td>\n",
       "      <td>1시간22분</td>\n",
       "      <td>2021년 상반기를 장악할 초대형 밀리터리 액션 무비! 거대 범죄 조직 14D를 제...</td>\n",
       "      <td>KukKok-Leung</td>\n",
       "      <td>WangHaixiang,YanJie,YanJiaying,ChenMeilin,Peng...</td>\n",
       "      <td>액션</td>\n",
       "      <td>https://images.justwatch.com/poster/243595035/...</td>\n",
       "    </tr>\n",
       "    <tr>\n",
       "      <th>10790</th>\n",
       "      <td>싱어송</td>\n",
       "      <td>2022.0</td>\n",
       "      <td>NaN</td>\n",
       "      <td>NaN</td>\n",
       "      <td>1시간42분</td>\n",
       "      <td>노래가 하고 싶어 무작정 서울로 상경한 ‘선혜’와\\n 하루 빨리 유명해지고 싶은 무...</td>\n",
       "      <td>NaO-heon</td>\n",
       "      <td>HeoGa-yoon,YooYoung-jae,MoonJiHoo</td>\n",
       "      <td>드라마</td>\n",
       "      <td>https://images.justwatch.com/poster/259943680/...</td>\n",
       "    </tr>\n",
       "    <tr>\n",
       "      <th>10791</th>\n",
       "      <td>나의 촛불</td>\n",
       "      <td>2022.0</td>\n",
       "      <td>65%</td>\n",
       "      <td>65%</td>\n",
       "      <td>1시간27분</td>\n",
       "      <td>2016년 전세계가 주목한 그 시작의 날  진보와 보수를 넘나드는 정치인들이 그날의...</td>\n",
       "      <td>JooJin-woo,KimEui-sung</td>\n",
       "      <td>SohnSuk-hee,YooSi-min,ChooMi-ae,SimSang-jung,Y...</td>\n",
       "      <td>다큐멘터리</td>\n",
       "      <td>https://images.justwatch.com/poster/263027725/...</td>\n",
       "    </tr>\n",
       "  </tbody>\n",
       "</table>\n",
       "</div>"
      ],
      "text/plain": [
       "       title_kor  opening_date just_rating imdb_rating runtime  \\\n",
       "10789  특명:스피드레스큐        2021.0         NaN         NaN  1시간22분   \n",
       "10790        싱어송        2022.0         NaN         NaN  1시간42분   \n",
       "10791      나의 촛불        2022.0         65%         65%  1시간27분   \n",
       "\n",
       "                                                synopsis  \\\n",
       "10789  2021년 상반기를 장악할 초대형 밀리터리 액션 무비! 거대 범죄 조직 14D를 제...   \n",
       "10790  노래가 하고 싶어 무작정 서울로 상경한 ‘선혜’와\\n 하루 빨리 유명해지고 싶은 무...   \n",
       "10791  2016년 전세계가 주목한 그 시작의 날  진보와 보수를 넘나드는 정치인들이 그날의...   \n",
       "\n",
       "                     director  \\\n",
       "10789            KukKok-Leung   \n",
       "10790                NaO-heon   \n",
       "10791  JooJin-woo,KimEui-sung   \n",
       "\n",
       "                                                  actors  genre  \\\n",
       "10789  WangHaixiang,YanJie,YanJiaying,ChenMeilin,Peng...     액션   \n",
       "10790                  HeoGa-yoon,YooYoung-jae,MoonJiHoo    드라마   \n",
       "10791  SohnSuk-hee,YooSi-min,ChooMi-ae,SimSang-jung,Y...  다큐멘터리   \n",
       "\n",
       "                                              posterLink  \n",
       "10789  https://images.justwatch.com/poster/243595035/...  \n",
       "10790  https://images.justwatch.com/poster/259943680/...  \n",
       "10791  https://images.justwatch.com/poster/263027725/...  "
      ]
     },
     "execution_count": 3,
     "metadata": {},
     "output_type": "execute_result"
    }
   ],
   "source": [
    "csv_test_2.tail(3)"
   ]
  },
  {
   "cell_type": "code",
   "execution_count": 9,
   "metadata": {},
   "outputs": [
    {
     "data": {
      "text/plain": [
       "title_kor        59\n",
       "opening_date     59\n",
       "just_rating     665\n",
       "imdb_rating     665\n",
       "runtime          59\n",
       "synopsis         86\n",
       "director        442\n",
       "actors          539\n",
       "genre           250\n",
       "posterLink      124\n",
       "dtype: int64"
      ]
     },
     "execution_count": 9,
     "metadata": {},
     "output_type": "execute_result"
    }
   ],
   "source": [
    "csv_test_2.isnull().sum()"
   ]
  },
  {
   "cell_type": "code",
   "execution_count": 13,
   "metadata": {},
   "outputs": [
    {
     "data": {
      "text/plain": [
       "86"
      ]
     },
     "execution_count": 13,
     "metadata": {},
     "output_type": "execute_result"
    }
   ],
   "source": [
    "# 시놉시스가 없는 영화 확인\n",
    "csv_test_2['synopsis'].isnull().sum()"
   ]
  },
  {
   "cell_type": "code",
   "execution_count": 14,
   "metadata": {},
   "outputs": [],
   "source": [
    "# 시놉시스 없는 영화 버리기\n",
    "wavve2 = csv_test_2.dropna(subset=['synopsis'])"
   ]
  },
  {
   "cell_type": "code",
   "execution_count": 15,
   "metadata": {},
   "outputs": [],
   "source": [
    "# 포스터 링크 없는 영화 버기\n",
    "wavve2 = csv_test_2.dropna(subset=['posterLink'])"
   ]
  },
  {
   "cell_type": "code",
   "execution_count": 16,
   "metadata": {},
   "outputs": [
    {
     "data": {
      "text/plain": [
       "10668"
      ]
     },
     "execution_count": 16,
     "metadata": {},
     "output_type": "execute_result"
    }
   ],
   "source": [
    "len(wavve2)\n",
    "# wavve2.isnull().sum()"
   ]
  },
  {
   "cell_type": "code",
   "execution_count": 17,
   "metadata": {},
   "outputs": [
    {
     "data": {
      "text/plain": [
       "title_kor         0\n",
       "opening_date      0\n",
       "just_rating     554\n",
       "imdb_rating     554\n",
       "runtime           0\n",
       "synopsis         16\n",
       "director        346\n",
       "actors          432\n",
       "genre           167\n",
       "posterLink        0\n",
       "dtype: int64"
      ]
     },
     "execution_count": 17,
     "metadata": {},
     "output_type": "execute_result"
    }
   ],
   "source": [
    "wavve2.isnull().sum()"
   ]
  },
  {
   "cell_type": "code",
   "execution_count": 19,
   "metadata": {},
   "outputs": [],
   "source": [
    "# 결측치 제거 후 인덱스 리셋 \n",
    "wavve2.reset_index(drop=True, inplace=True)"
   ]
  },
  {
   "cell_type": "code",
   "execution_count": null,
   "metadata": {},
   "outputs": [],
   "source": [
    "wavve2['netflix'] = 0\n",
    "wavve2['disney-plus'] = 0\n",
    "wavve2['wavve'] = 1\n",
    "wavve2['watcha'] = 0"
   ]
  },
  {
   "cell_type": "code",
   "execution_count": 23,
   "metadata": {},
   "outputs": [
    {
     "data": {
      "text/html": [
       "<div>\n",
       "<style scoped>\n",
       "    .dataframe tbody tr th:only-of-type {\n",
       "        vertical-align: middle;\n",
       "    }\n",
       "\n",
       "    .dataframe tbody tr th {\n",
       "        vertical-align: top;\n",
       "    }\n",
       "\n",
       "    .dataframe thead th {\n",
       "        text-align: right;\n",
       "    }\n",
       "</style>\n",
       "<table border=\"1\" class=\"dataframe\">\n",
       "  <thead>\n",
       "    <tr style=\"text-align: right;\">\n",
       "      <th></th>\n",
       "      <th>title_kor</th>\n",
       "      <th>opening_date</th>\n",
       "      <th>just_rating</th>\n",
       "      <th>imdb_rating</th>\n",
       "      <th>runtime</th>\n",
       "      <th>synopsis</th>\n",
       "      <th>director</th>\n",
       "      <th>actors</th>\n",
       "      <th>genre</th>\n",
       "      <th>posterLink</th>\n",
       "      <th>netflix</th>\n",
       "      <th>disney-plus</th>\n",
       "      <th>wavve</th>\n",
       "      <th>watcha</th>\n",
       "    </tr>\n",
       "  </thead>\n",
       "  <tbody>\n",
       "    <tr>\n",
       "      <th>10666</th>\n",
       "      <td>싱어송</td>\n",
       "      <td>2022.0</td>\n",
       "      <td>NaN</td>\n",
       "      <td>NaN</td>\n",
       "      <td>1시간42분</td>\n",
       "      <td>노래가 하고 싶어 무작정 서울로 상경한 ‘선혜’와\\n 하루 빨리 유명해지고 싶은 무...</td>\n",
       "      <td>NaO-heon</td>\n",
       "      <td>HeoGa-yoon,YooYoung-jae,MoonJiHoo</td>\n",
       "      <td>드라마</td>\n",
       "      <td>https://images.justwatch.com/poster/259943680/...</td>\n",
       "      <td>0</td>\n",
       "      <td>0</td>\n",
       "      <td>1</td>\n",
       "      <td>0</td>\n",
       "    </tr>\n",
       "    <tr>\n",
       "      <th>10667</th>\n",
       "      <td>나의 촛불</td>\n",
       "      <td>2022.0</td>\n",
       "      <td>65%</td>\n",
       "      <td>65%</td>\n",
       "      <td>1시간27분</td>\n",
       "      <td>2016년 전세계가 주목한 그 시작의 날  진보와 보수를 넘나드는 정치인들이 그날의...</td>\n",
       "      <td>JooJin-woo,KimEui-sung</td>\n",
       "      <td>SohnSuk-hee,YooSi-min,ChooMi-ae,SimSang-jung,Y...</td>\n",
       "      <td>다큐멘터리</td>\n",
       "      <td>https://images.justwatch.com/poster/263027725/...</td>\n",
       "      <td>0</td>\n",
       "      <td>0</td>\n",
       "      <td>1</td>\n",
       "      <td>0</td>\n",
       "    </tr>\n",
       "  </tbody>\n",
       "</table>\n",
       "</div>"
      ],
      "text/plain": [
       "      title_kor  opening_date just_rating imdb_rating runtime  \\\n",
       "10666       싱어송        2022.0         NaN         NaN  1시간42분   \n",
       "10667     나의 촛불        2022.0         65%         65%  1시간27분   \n",
       "\n",
       "                                                synopsis  \\\n",
       "10666  노래가 하고 싶어 무작정 서울로 상경한 ‘선혜’와\\n 하루 빨리 유명해지고 싶은 무...   \n",
       "10667  2016년 전세계가 주목한 그 시작의 날  진보와 보수를 넘나드는 정치인들이 그날의...   \n",
       "\n",
       "                     director  \\\n",
       "10666                NaO-heon   \n",
       "10667  JooJin-woo,KimEui-sung   \n",
       "\n",
       "                                                  actors  genre  \\\n",
       "10666                  HeoGa-yoon,YooYoung-jae,MoonJiHoo    드라마   \n",
       "10667  SohnSuk-hee,YooSi-min,ChooMi-ae,SimSang-jung,Y...  다큐멘터리   \n",
       "\n",
       "                                              posterLink  netflix  \\\n",
       "10666  https://images.justwatch.com/poster/259943680/...        0   \n",
       "10667  https://images.justwatch.com/poster/263027725/...        0   \n",
       "\n",
       "       disney-plus  wavve  watcha  \n",
       "10666            0      1       0  \n",
       "10667            0      1       0  "
      ]
     },
     "execution_count": 23,
     "metadata": {},
     "output_type": "execute_result"
    }
   ],
   "source": [
    "wavve2.tail(2)"
   ]
  },
  {
   "cell_type": "code",
   "execution_count": 24,
   "metadata": {},
   "outputs": [],
   "source": [
    "wavve2.to_csv(\"wavve.csv\")\n",
    "wavve2.to_excel(\"wavve.xlsx\")"
   ]
  },
  {
   "cell_type": "code",
   "execution_count": 49,
   "metadata": {},
   "outputs": [
    {
     "data": {
      "text/html": [
       "<div>\n",
       "<style scoped>\n",
       "    .dataframe tbody tr th:only-of-type {\n",
       "        vertical-align: middle;\n",
       "    }\n",
       "\n",
       "    .dataframe tbody tr th {\n",
       "        vertical-align: top;\n",
       "    }\n",
       "\n",
       "    .dataframe thead th {\n",
       "        text-align: right;\n",
       "    }\n",
       "</style>\n",
       "<table border=\"1\" class=\"dataframe\">\n",
       "  <thead>\n",
       "    <tr style=\"text-align: right;\">\n",
       "      <th></th>\n",
       "      <th>actors</th>\n",
       "      <th>director</th>\n",
       "      <th>genre</th>\n",
       "      <th>imdb_rating</th>\n",
       "      <th>just_rating</th>\n",
       "      <th>opening_date</th>\n",
       "      <th>posterLink</th>\n",
       "      <th>runtime</th>\n",
       "      <th>synopsis</th>\n",
       "      <th>title_kor</th>\n",
       "    </tr>\n",
       "  </thead>\n",
       "  <tbody>\n",
       "    <tr>\n",
       "      <th>5647</th>\n",
       "      <td>HidekiNagai,ItsukiŌtaki,ToshiakiInomata,TokiKo...</td>\n",
       "      <td>TakeshiKushida</td>\n",
       "      <td>스릴러,공포,로맨스,코미디</td>\n",
       "      <td>6.3</td>\n",
       "      <td>73%</td>\n",
       "      <td>2022.0</td>\n",
       "      <td>https://images.justwatch.com/poster/226608899/...</td>\n",
       "      <td>1시간29분</td>\n",
       "      <td>시간이 멈춘듯한 아버지가 남긴 사진관에서, 사진 보정 작업을 하고 있는 여성 공포증...</td>\n",
       "      <td>사진사의 여자</td>\n",
       "    </tr>\n",
       "    <tr>\n",
       "      <th>5648</th>\n",
       "      <td>VanessaAngel,BillyZane,FredStoller</td>\n",
       "      <td>RobertAdetuyi</td>\n",
       "      <td>스릴러,코미디</td>\n",
       "      <td>6.0</td>\n",
       "      <td>70%</td>\n",
       "      <td>2022.0</td>\n",
       "      <td>https://images.justwatch.com/poster/142028581/...</td>\n",
       "      <td>1시간35분</td>\n",
       "      <td>Tormented by the memories of her late-husband'...</td>\n",
       "      <td>Trouble Sleeping</td>\n",
       "    </tr>\n",
       "    <tr>\n",
       "      <th>5649</th>\n",
       "      <td>SeijiFukushi,HarukaImou,TomoyaMaeno,Hannya,Wat...</td>\n",
       "      <td>YugoSakamoto</td>\n",
       "      <td>액션,드라마</td>\n",
       "      <td>7.1</td>\n",
       "      <td>76%</td>\n",
       "      <td>2022.0</td>\n",
       "      <td>https://images.justwatch.com/poster/248812373/...</td>\n",
       "      <td>1시간26분</td>\n",
       "      <td>후카미 아키라는 어린 시절 아버지 미쓰오가 누군가에 의해 살해된 이후 일본 지하 세...</td>\n",
       "      <td>야쿠자 어쌔신</td>\n",
       "    </tr>\n",
       "  </tbody>\n",
       "</table>\n",
       "</div>"
      ],
      "text/plain": [
       "                                                 actors        director  \\\n",
       "5647  HidekiNagai,ItsukiŌtaki,ToshiakiInomata,TokiKo...  TakeshiKushida   \n",
       "5648                 VanessaAngel,BillyZane,FredStoller   RobertAdetuyi   \n",
       "5649  SeijiFukushi,HarukaImou,TomoyaMaeno,Hannya,Wat...    YugoSakamoto   \n",
       "\n",
       "               genre imdb_rating just_rating  opening_date  \\\n",
       "5647  스릴러,공포,로맨스,코미디         6.3         73%        2022.0   \n",
       "5648         스릴러,코미디         6.0         70%        2022.0   \n",
       "5649          액션,드라마         7.1         76%        2022.0   \n",
       "\n",
       "                                             posterLink runtime  \\\n",
       "5647  https://images.justwatch.com/poster/226608899/...  1시간29분   \n",
       "5648  https://images.justwatch.com/poster/142028581/...  1시간35분   \n",
       "5649  https://images.justwatch.com/poster/248812373/...  1시간26분   \n",
       "\n",
       "                                               synopsis         title_kor  \n",
       "5647  시간이 멈춘듯한 아버지가 남긴 사진관에서, 사진 보정 작업을 하고 있는 여성 공포증...           사진사의 여자  \n",
       "5648  Tormented by the memories of her late-husband'...  Trouble Sleeping  \n",
       "5649  후카미 아키라는 어린 시절 아버지 미쓰오가 누군가에 의해 살해된 이후 일본 지하 세...           야쿠자 어쌔신  "
      ]
     },
     "execution_count": 49,
     "metadata": {},
     "output_type": "execute_result"
    }
   ],
   "source": [
    "# csv파일 읽어오기 ( 왓챠 )\n",
    "import pandas as pd\n",
    "# csv_test = pd.read_csv(\"C:/Users/Kims/Desktop/HK_Project_Team5/movies.csv\")\n",
    "watcha1 = pd.read_csv(r\"C:\\Users\\Kims\\Desktop\\HK_Project_Team5\\watcha1.csv\")\n",
    "watcha1.tail(3)\n"
   ]
  },
  {
   "cell_type": "code",
   "execution_count": 50,
   "metadata": {},
   "outputs": [
    {
     "data": {
      "text/plain": [
       "actors          387\n",
       "director        259\n",
       "genre           158\n",
       "imdb_rating     416\n",
       "just_rating     416\n",
       "opening_date     35\n",
       "posterLink       78\n",
       "runtime          35\n",
       "synopsis         49\n",
       "title_kor        35\n",
       "dtype: int64"
      ]
     },
     "execution_count": 50,
     "metadata": {},
     "output_type": "execute_result"
    }
   ],
   "source": [
    "watcha1.isnull().sum()"
   ]
  },
  {
   "cell_type": "code",
   "execution_count": 51,
   "metadata": {},
   "outputs": [],
   "source": [
    "# 시놉시스 없는 영화 버기\n",
    "watcha1 = watcha1.dropna(subset=['synopsis'])"
   ]
  },
  {
   "cell_type": "code",
   "execution_count": 52,
   "metadata": {},
   "outputs": [
    {
     "data": {
      "text/plain": [
       "actors          341\n",
       "director        214\n",
       "genre           115\n",
       "imdb_rating     373\n",
       "just_rating     373\n",
       "opening_date      0\n",
       "posterLink       35\n",
       "runtime           0\n",
       "synopsis          0\n",
       "title_kor         0\n",
       "dtype: int64"
      ]
     },
     "execution_count": 52,
     "metadata": {},
     "output_type": "execute_result"
    }
   ],
   "source": [
    "watcha1.isnull().sum()"
   ]
  },
  {
   "cell_type": "code",
   "execution_count": 53,
   "metadata": {},
   "outputs": [],
   "source": [
    "# 결측치 제거 후 인덱스 리셋 \n",
    "watcha1.reset_index(drop=True, inplace=True)"
   ]
  },
  {
   "cell_type": "code",
   "execution_count": 54,
   "metadata": {},
   "outputs": [],
   "source": [
    "watcha1['netflix'] = 0\n",
    "watcha1['disney-plus'] = 0\n",
    "watcha1['wavve'] = 0\n",
    "watcha1['watcha'] = 1"
   ]
  },
  {
   "cell_type": "code",
   "execution_count": 55,
   "metadata": {},
   "outputs": [
    {
     "data": {
      "text/html": [
       "<div>\n",
       "<style scoped>\n",
       "    .dataframe tbody tr th:only-of-type {\n",
       "        vertical-align: middle;\n",
       "    }\n",
       "\n",
       "    .dataframe tbody tr th {\n",
       "        vertical-align: top;\n",
       "    }\n",
       "\n",
       "    .dataframe thead th {\n",
       "        text-align: right;\n",
       "    }\n",
       "</style>\n",
       "<table border=\"1\" class=\"dataframe\">\n",
       "  <thead>\n",
       "    <tr style=\"text-align: right;\">\n",
       "      <th></th>\n",
       "      <th>actors</th>\n",
       "      <th>director</th>\n",
       "      <th>genre</th>\n",
       "      <th>imdb_rating</th>\n",
       "      <th>just_rating</th>\n",
       "      <th>opening_date</th>\n",
       "      <th>posterLink</th>\n",
       "      <th>runtime</th>\n",
       "      <th>synopsis</th>\n",
       "      <th>title_kor</th>\n",
       "      <th>netflix</th>\n",
       "      <th>disney-plus</th>\n",
       "      <th>wavve</th>\n",
       "      <th>watcha</th>\n",
       "    </tr>\n",
       "  </thead>\n",
       "  <tbody>\n",
       "    <tr>\n",
       "      <th>5598</th>\n",
       "      <td>HidekiNagai,ItsukiŌtaki,ToshiakiInomata,TokiKo...</td>\n",
       "      <td>TakeshiKushida</td>\n",
       "      <td>스릴러,공포,로맨스,코미디</td>\n",
       "      <td>6.3</td>\n",
       "      <td>73%</td>\n",
       "      <td>2022.0</td>\n",
       "      <td>https://images.justwatch.com/poster/226608899/...</td>\n",
       "      <td>1시간29분</td>\n",
       "      <td>시간이 멈춘듯한 아버지가 남긴 사진관에서, 사진 보정 작업을 하고 있는 여성 공포증...</td>\n",
       "      <td>사진사의 여자</td>\n",
       "      <td>0</td>\n",
       "      <td>0</td>\n",
       "      <td>0</td>\n",
       "      <td>1</td>\n",
       "    </tr>\n",
       "    <tr>\n",
       "      <th>5599</th>\n",
       "      <td>VanessaAngel,BillyZane,FredStoller</td>\n",
       "      <td>RobertAdetuyi</td>\n",
       "      <td>스릴러,코미디</td>\n",
       "      <td>6.0</td>\n",
       "      <td>70%</td>\n",
       "      <td>2022.0</td>\n",
       "      <td>https://images.justwatch.com/poster/142028581/...</td>\n",
       "      <td>1시간35분</td>\n",
       "      <td>Tormented by the memories of her late-husband'...</td>\n",
       "      <td>Trouble Sleeping</td>\n",
       "      <td>0</td>\n",
       "      <td>0</td>\n",
       "      <td>0</td>\n",
       "      <td>1</td>\n",
       "    </tr>\n",
       "    <tr>\n",
       "      <th>5600</th>\n",
       "      <td>SeijiFukushi,HarukaImou,TomoyaMaeno,Hannya,Wat...</td>\n",
       "      <td>YugoSakamoto</td>\n",
       "      <td>액션,드라마</td>\n",
       "      <td>7.1</td>\n",
       "      <td>76%</td>\n",
       "      <td>2022.0</td>\n",
       "      <td>https://images.justwatch.com/poster/248812373/...</td>\n",
       "      <td>1시간26분</td>\n",
       "      <td>후카미 아키라는 어린 시절 아버지 미쓰오가 누군가에 의해 살해된 이후 일본 지하 세...</td>\n",
       "      <td>야쿠자 어쌔신</td>\n",
       "      <td>0</td>\n",
       "      <td>0</td>\n",
       "      <td>0</td>\n",
       "      <td>1</td>\n",
       "    </tr>\n",
       "  </tbody>\n",
       "</table>\n",
       "</div>"
      ],
      "text/plain": [
       "                                                 actors        director  \\\n",
       "5598  HidekiNagai,ItsukiŌtaki,ToshiakiInomata,TokiKo...  TakeshiKushida   \n",
       "5599                 VanessaAngel,BillyZane,FredStoller   RobertAdetuyi   \n",
       "5600  SeijiFukushi,HarukaImou,TomoyaMaeno,Hannya,Wat...    YugoSakamoto   \n",
       "\n",
       "               genre imdb_rating just_rating  opening_date  \\\n",
       "5598  스릴러,공포,로맨스,코미디         6.3         73%        2022.0   \n",
       "5599         스릴러,코미디         6.0         70%        2022.0   \n",
       "5600          액션,드라마         7.1         76%        2022.0   \n",
       "\n",
       "                                             posterLink runtime  \\\n",
       "5598  https://images.justwatch.com/poster/226608899/...  1시간29분   \n",
       "5599  https://images.justwatch.com/poster/142028581/...  1시간35분   \n",
       "5600  https://images.justwatch.com/poster/248812373/...  1시간26분   \n",
       "\n",
       "                                               synopsis         title_kor  \\\n",
       "5598  시간이 멈춘듯한 아버지가 남긴 사진관에서, 사진 보정 작업을 하고 있는 여성 공포증...           사진사의 여자   \n",
       "5599  Tormented by the memories of her late-husband'...  Trouble Sleeping   \n",
       "5600  후카미 아키라는 어린 시절 아버지 미쓰오가 누군가에 의해 살해된 이후 일본 지하 세...           야쿠자 어쌔신   \n",
       "\n",
       "      netflix  disney-plus  wavve  watcha  \n",
       "5598        0            0      0       1  \n",
       "5599        0            0      0       1  \n",
       "5600        0            0      0       1  "
      ]
     },
     "execution_count": 55,
     "metadata": {},
     "output_type": "execute_result"
    }
   ],
   "source": [
    "watcha1.tail(3)"
   ]
  },
  {
   "cell_type": "code",
   "execution_count": 56,
   "metadata": {},
   "outputs": [],
   "source": [
    "watcha1.to_csv(\"watcha.csv\")\n",
    "watcha1.to_excel(\"watcha.xlsx\")"
   ]
  },
  {
   "cell_type": "code",
   "execution_count": 71,
   "metadata": {},
   "outputs": [
    {
     "data": {
      "text/html": [
       "<div>\n",
       "<style scoped>\n",
       "    .dataframe tbody tr th:only-of-type {\n",
       "        vertical-align: middle;\n",
       "    }\n",
       "\n",
       "    .dataframe tbody tr th {\n",
       "        vertical-align: top;\n",
       "    }\n",
       "\n",
       "    .dataframe thead th {\n",
       "        text-align: right;\n",
       "    }\n",
       "</style>\n",
       "<table border=\"1\" class=\"dataframe\">\n",
       "  <thead>\n",
       "    <tr style=\"text-align: right;\">\n",
       "      <th></th>\n",
       "      <th>title_kor</th>\n",
       "      <th>opening_date</th>\n",
       "      <th>just_rating</th>\n",
       "      <th>imdb_rating</th>\n",
       "      <th>runtime</th>\n",
       "      <th>synopsis</th>\n",
       "      <th>director</th>\n",
       "      <th>actors</th>\n",
       "      <th>genre</th>\n",
       "      <th>posterLink</th>\n",
       "      <th>netflix</th>\n",
       "      <th>disney-plus</th>\n",
       "      <th>wavve</th>\n",
       "      <th>watcha</th>\n",
       "    </tr>\n",
       "  </thead>\n",
       "  <tbody>\n",
       "    <tr>\n",
       "      <th>16266</th>\n",
       "      <td>사진사의 여자</td>\n",
       "      <td>2022.0</td>\n",
       "      <td>73%</td>\n",
       "      <td>6.3</td>\n",
       "      <td>1시간29분</td>\n",
       "      <td>시간이 멈춘듯한 아버지가 남긴 사진관에서, 사진 보정 작업을 하고 있는 여성 공포증...</td>\n",
       "      <td>TakeshiKushida</td>\n",
       "      <td>HidekiNagai,ItsukiŌtaki,ToshiakiInomata,TokiKo...</td>\n",
       "      <td>스릴러,공포,로맨스,코미디</td>\n",
       "      <td>https://images.justwatch.com/poster/226608899/...</td>\n",
       "      <td>0</td>\n",
       "      <td>0</td>\n",
       "      <td>0</td>\n",
       "      <td>1</td>\n",
       "    </tr>\n",
       "    <tr>\n",
       "      <th>16267</th>\n",
       "      <td>Trouble Sleeping</td>\n",
       "      <td>2022.0</td>\n",
       "      <td>70%</td>\n",
       "      <td>6.0</td>\n",
       "      <td>1시간35분</td>\n",
       "      <td>Tormented by the memories of her late-husband'...</td>\n",
       "      <td>RobertAdetuyi</td>\n",
       "      <td>VanessaAngel,BillyZane,FredStoller</td>\n",
       "      <td>스릴러,코미디</td>\n",
       "      <td>https://images.justwatch.com/poster/142028581/...</td>\n",
       "      <td>0</td>\n",
       "      <td>0</td>\n",
       "      <td>0</td>\n",
       "      <td>1</td>\n",
       "    </tr>\n",
       "    <tr>\n",
       "      <th>16268</th>\n",
       "      <td>야쿠자 어쌔신</td>\n",
       "      <td>2022.0</td>\n",
       "      <td>76%</td>\n",
       "      <td>7.1</td>\n",
       "      <td>1시간26분</td>\n",
       "      <td>후카미 아키라는 어린 시절 아버지 미쓰오가 누군가에 의해 살해된 이후 일본 지하 세...</td>\n",
       "      <td>YugoSakamoto</td>\n",
       "      <td>SeijiFukushi,HarukaImou,TomoyaMaeno,Hannya,Wat...</td>\n",
       "      <td>액션,드라마</td>\n",
       "      <td>https://images.justwatch.com/poster/248812373/...</td>\n",
       "      <td>0</td>\n",
       "      <td>0</td>\n",
       "      <td>0</td>\n",
       "      <td>1</td>\n",
       "    </tr>\n",
       "  </tbody>\n",
       "</table>\n",
       "</div>"
      ],
      "text/plain": [
       "              title_kor  opening_date just_rating imdb_rating runtime  \\\n",
       "16266           사진사의 여자        2022.0         73%         6.3  1시간29분   \n",
       "16267  Trouble Sleeping        2022.0         70%         6.0  1시간35분   \n",
       "16268           야쿠자 어쌔신        2022.0         76%         7.1  1시간26분   \n",
       "\n",
       "                                                synopsis        director  \\\n",
       "16266  시간이 멈춘듯한 아버지가 남긴 사진관에서, 사진 보정 작업을 하고 있는 여성 공포증...  TakeshiKushida   \n",
       "16267  Tormented by the memories of her late-husband'...   RobertAdetuyi   \n",
       "16268  후카미 아키라는 어린 시절 아버지 미쓰오가 누군가에 의해 살해된 이후 일본 지하 세...    YugoSakamoto   \n",
       "\n",
       "                                                  actors           genre  \\\n",
       "16266  HidekiNagai,ItsukiŌtaki,ToshiakiInomata,TokiKo...  스릴러,공포,로맨스,코미디   \n",
       "16267                 VanessaAngel,BillyZane,FredStoller         스릴러,코미디   \n",
       "16268  SeijiFukushi,HarukaImou,TomoyaMaeno,Hannya,Wat...          액션,드라마   \n",
       "\n",
       "                                              posterLink  netflix  \\\n",
       "16266  https://images.justwatch.com/poster/226608899/...        0   \n",
       "16267  https://images.justwatch.com/poster/142028581/...        0   \n",
       "16268  https://images.justwatch.com/poster/248812373/...        0   \n",
       "\n",
       "       disney-plus  wavve  watcha  \n",
       "16266            0      0       1  \n",
       "16267            0      0       1  \n",
       "16268            0      0       1  "
      ]
     },
     "execution_count": 71,
     "metadata": {},
     "output_type": "execute_result"
    }
   ],
   "source": [
    "result = pd.concat([wavve2,watcha1], ignore_index=True)\n",
    "result.tail(3)"
   ]
  },
  {
   "cell_type": "code",
   "execution_count": 72,
   "metadata": {},
   "outputs": [],
   "source": [
    "result.to_excel(\"wavve_watcha.xlsx\")"
   ]
  },
  {
   "cell_type": "code",
   "execution_count": null,
   "metadata": {},
   "outputs": [],
   "source": []
  }
 ],
 "metadata": {
  "interpreter": {
   "hash": "46ae208522317b1e0ccd05dd07d6b276f13b06ba5c87d9313b8ca5c34df924de"
  },
  "kernelspec": {
   "display_name": "Python 3.9.7 ('base')",
   "language": "python",
   "name": "python3"
  },
  "language_info": {
   "codemirror_mode": {
    "name": "ipython",
    "version": 3
   },
   "file_extension": ".py",
   "mimetype": "text/x-python",
   "name": "python",
   "nbconvert_exporter": "python",
   "pygments_lexer": "ipython3",
   "version": "3.9.7"
  },
  "orig_nbformat": 4
 },
 "nbformat": 4,
 "nbformat_minor": 2
}
