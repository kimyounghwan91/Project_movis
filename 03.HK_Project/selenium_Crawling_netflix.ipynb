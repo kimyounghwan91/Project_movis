{
 "cells": [
  {
   "cell_type": "markdown",
   "metadata": {},
   "source": [
    "### BeautifulSoup 사용해서 저스트와치 상세페이지 포스터 이미지 다운로드"
   ]
  },
  {
   "cell_type": "code",
   "execution_count": 2,
   "metadata": {},
   "outputs": [
    {
     "data": {
      "text/plain": [
       "0       70457\n",
       "1        3879\n",
       "2       96657\n",
       "3       65280\n",
       "4        8065\n",
       "        ...  \n",
       "3227    64567\n",
       "3228    97147\n",
       "3229    72005\n",
       "3230    72670\n",
       "3231    77006\n",
       "Name: netflix_key-data, Length: 3232, dtype: int64"
      ]
     },
     "execution_count": 2,
     "metadata": {},
     "output_type": "execute_result"
    }
   ],
   "source": [
    "# csv파일 읽어오기 - kino_netflix\n",
    "import pandas as pd\n",
    "kino_netflix_all = pd.read_csv(\"kino/kino_netflix_all.csv\").drop([\"Unnamed: 0\"], axis=1)\n",
    "kino_netflix_all = kino_netflix_all[\"netflix_key-data\"] \n",
    "kino_netflix_all"
   ]
  },
  {
   "cell_type": "code",
   "execution_count": 5,
   "metadata": {},
   "outputs": [],
   "source": [
    "title_list =[]\n",
    "openingdate_list = []\n",
    "rotten_rate_list = []\n",
    "imdb_rate_list = []\n",
    "star_rate_list = []\n",
    "genre_list = []\n",
    "runtime_list = []\n",
    "director_list = []\n",
    "synopsis_list = []\n",
    "ac_list = []"
   ]
  },
  {
   "cell_type": "code",
   "execution_count": null,
   "metadata": {},
   "outputs": [],
   "source": [
    "from selenium import webdriver\n",
    "from selenium.webdriver.chrome.service import Service\n",
    "from webdriver_manager.chrome import ChromeDriverManager\n",
    "from selenium.webdriver.common.by import By\n",
    "from selenium.webdriver.support import expected_conditions as EC\n",
    "import time\n",
    "import pandas as pd\n",
    "import warnings\n",
    "from selenium.webdriver.support.ui import WebDriverWait\n",
    "warnings.filterwarnings(\"ignore\")\n",
    "\n",
    "def get_chrome_driver():\n",
    "    # 1. 크롬 옵션 세팅\n",
    "    chrome_options = webdriver.ChromeOptions()\n",
    "    chrome_options.add_argument(\"--headless\")\n",
    "    chrome_options.add_argument(\"incognito\")\n",
    "    chrome_options.add_argument('disable-gpu')\n",
    "    chrome_options.add_argument(\"headless\")\n",
    "    chrome_options.add_argument(\"no-sandbox\")\n",
    "    chrome_options.add_argument(\"disable-setuid-sandbox\")\n",
    "    chrome_options.add_argument(\"disable-dev-shm-usage\")\n",
    "    chrome_options.add_experimental_option(\"excludeSwitches\", ['enable-logging'])\n",
    "\n",
    "    # prefs = {'profile.default_content_setting_values': {'cookies' : 2, 'images': 2, 'plugins' : 2, 'popups': 2, 'geolocation': 2, 'notifications' : 2, 'auto_select_certificate': 2, 'fullscreen' : 2, 'mouselock' : 2, 'mixed_script': 2, 'media_stream' : 2, 'media_stream_mic' : 2, 'media_stream_camera': 2, 'protocol_handlers' : 2, 'ppapi_broker' : 2, 'automatic_downloads': 2, 'midi_sysex' : 2, 'push_messaging' : 2, 'ssl_cert_decisions': 2, 'metro_switch_to_desktop' : 2, 'protected_media_identifier': 2, 'app_banner': 2, 'site_engagement' : 2, 'durable_storage' : 2}}   \n",
    "    # chrome_options.add_experimental_option('prefs', prefs)\n",
    "    # 2. driver 생성하기\n",
    "    driver = webdriver.Chrome(\n",
    "        service=Service(ChromeDriverManager().install()), # 가장 많이 바뀐 부분\n",
    "        options=chrome_options    \n",
    "    )\n",
    "    \n",
    "    return driver\n",
    "\n",
    "def get_driver(target_url):\n",
    "    time.sleep(2)\n",
    "    driver = get_chrome_driver()\n",
    "    driver.get(target_url)\n",
    "    wait=WebDriverWait(driver, 3)\n",
    "    return driver\n",
    "\n",
    "def extract_data(driver):\n",
    "    #title_kr = driver.find_element_by_class_name('title-kr').text.strip()\n",
    "    title_kr = driver.find_element_by_xpath('//*[@id=\"contents\"]/div[2]/div[5]/div/h3').text.strip()\n",
    "    title_en = driver.find_element_by_class_name('title-en').text.strip()\n",
    "    genre = driver.find_element_by_xpath('//*[@id=\"contents\"]/div[2]/div[5]/div[1]/p/span[1]').text.replace(\"·\",\"\")\n",
    "    try:\n",
    "        openingdate = driver.find_element_by_xpath('//*[@id=\"contents\"]/div[2]/div[5]/div[1]/p/span[2]').text.replace(\"·\",\"\")\n",
    "    except:\n",
    "        openingdate = driver.find_element_by_xpath('//*[@id=\"contents\"]/div[2]/div[5]/div[1]/p/span').text.replace(\"·\",\"\")\n",
    "    \n",
    "    rotten_rate = driver.find_element_by_class_name('rotten-wrap').text.strip()\n",
    "    imdb_rate = driver.find_element_by_class_name('imdb-wrap').text.strip()\n",
    "    star_rate = driver.find_element_by_class_name('movie-star-wrap').text.strip()\n",
    "    synopsis = driver.find_element_by_class_name('synopsis').text.strip()\n",
    "    director = driver.find_element_by_xpath('//*[@id=\"synopsis\"]/article/div/div[1]/div[1]').text.replace(\"·\",\"\")\n",
    "    runtime = driver.find_element_by_xpath('//*[@id=\"contents\"]/div[4]/ul/li[1]').text.replace(\"#\",\"\")\n",
    "\n",
    "\n",
    "\n",
    "    locates = \"div.name\"\n",
    "    test_actor = driver.find_elements_by_css_selector(locates)\n",
    "    test_actor = test_actor[1:]\n",
    "    test_actor\n",
    "    actors_list = []\n",
    "    for test_actors in test_actor:\n",
    "        test_actors = test_actors.text\n",
    "        actors_list.append(test_actors)\n",
    "    actors_list = \",\".join(actors_list)\n",
    "\n",
    "\n",
    "    title_list.append(title_kr)\n",
    "    openingdate_list.append(openingdate)\n",
    "    rotten_rate_list.append(rotten_rate)\n",
    "    imdb_rate_list.append(imdb_rate)\n",
    "    star_rate_list.append(star_rate)\n",
    "    genre_list.append(genre)\n",
    "    runtime_list.append(runtime)\n",
    "    director_list.append(director)\n",
    "    synopsis_list.append(synopsis)\n",
    "    ac_list.append(actors_list)  \n",
    "\n",
    "    # print('한글:',title_kr,\",\"'영어:', title_en)\n",
    "    print(\"장르:\",genre, \"개봉일:\",openingdate,\"상영시간:\",runtime)    \n",
    "    # print(\"평점\",rotten_rate,\",\" ,imdb_rate,\",\", star_rate)\n",
    "    # print(\"시놉시스:\",synopsis)\n",
    "    # print(\"감독:\",director)\n",
    "    # print(\"출연진:\",actors_list)\n",
    "\n",
    "\n",
    "for i in kino_netflix_all:\n",
    "    target_url = \"https://m.kinolights.com/title/{}\".format(i)\n",
    "    crawling = get_driver(target_url)\n",
    "    extract_data(crawling)\n",
    "    #crawling.quit()"
   ]
  },
  {
   "cell_type": "code",
   "execution_count": 62,
   "metadata": {},
   "outputs": [],
   "source": [
    "crawling.quit()"
   ]
  },
  {
   "cell_type": "code",
   "execution_count": 7,
   "metadata": {},
   "outputs": [
    {
     "data": {
      "text/html": [
       "<div>\n",
       "<style scoped>\n",
       "    .dataframe tbody tr th:only-of-type {\n",
       "        vertical-align: middle;\n",
       "    }\n",
       "\n",
       "    .dataframe tbody tr th {\n",
       "        vertical-align: top;\n",
       "    }\n",
       "\n",
       "    .dataframe thead th {\n",
       "        text-align: right;\n",
       "    }\n",
       "</style>\n",
       "<table border=\"1\" class=\"dataframe\">\n",
       "  <thead>\n",
       "    <tr style=\"text-align: right;\">\n",
       "      <th></th>\n",
       "      <th>제목</th>\n",
       "      <th>개봉일</th>\n",
       "      <th>평점</th>\n",
       "      <th>장르</th>\n",
       "      <th>재생시간</th>\n",
       "      <th>감독</th>\n",
       "      <th>출연진</th>\n",
       "      <th>시놉시스</th>\n",
       "    </tr>\n",
       "  </thead>\n",
       "  <tbody>\n",
       "    <tr>\n",
       "      <th>57</th>\n",
       "      <td>모럴센스</td>\n",
       "      <td>2022</td>\n",
       "      <td>80% ·</td>\n",
       "      <td>멜로/로맨스</td>\n",
       "      <td>117분</td>\n",
       "      <td>박현진</td>\n",
       "      <td>서주현,이준영,이엘,서현우,안승균,이석형,백현주</td>\n",
       "      <td>합의하에 색다른 파트너가 되기로 계약을 맺은 직장 동료. 두 사람의 아주 조금(?)...</td>\n",
       "    </tr>\n",
       "    <tr>\n",
       "      <th>58</th>\n",
       "      <td>밀애</td>\n",
       "      <td>2002</td>\n",
       "      <td>- % ·</td>\n",
       "      <td>드라마</td>\n",
       "      <td>110분</td>\n",
       "      <td>변영주</td>\n",
       "      <td></td>\n",
       "      <td>격정 멜로 | 은밀한 탐닉 ...내가 잘했나요?\\n서른의 전업주부 미흔의 집에 찾아...</td>\n",
       "    </tr>\n",
       "    <tr>\n",
       "      <th>59</th>\n",
       "      <td>고잉 인 스타일</td>\n",
       "      <td>2017</td>\n",
       "      <td>82% ·</td>\n",
       "      <td>코미디</td>\n",
       "      <td>96분</td>\n",
       "      <td>잭 브라프</td>\n",
       "      <td>모건 프리먼,마이클 케인,알란 아킨,조이 킹,피터 세라피노윅,앤 마그렛,크리스토퍼 로이드</td>\n",
       "      <td>연금 동결이라니? 어느 날 갑자기 날벼락 같은 소식을 듣게 된 노년의 세 친구. 하...</td>\n",
       "    </tr>\n",
       "    <tr>\n",
       "      <th>60</th>\n",
       "      <td>드래곤 길들이기</td>\n",
       "      <td>2010</td>\n",
       "      <td>99% ·</td>\n",
       "      <td>코미디</td>\n",
       "      <td>98분</td>\n",
       "      <td>딘 데블로이스</td>\n",
       "      <td>크리스 샌더스,제이 바루첼,제라드 버틀러,아메리카 페레라,크레이그 퍼거슨,조나 힐,...</td>\n",
       "      <td>용맹한 바이킹과 사나운 드래곤들의 싸움이 끊이지 않는 버크섬. 바이킹 족장의 아들 ...</td>\n",
       "    </tr>\n",
       "    <tr>\n",
       "      <th>61</th>\n",
       "      <td>아수라</td>\n",
       "      <td>2016</td>\n",
       "      <td>83% ·</td>\n",
       "      <td>액션</td>\n",
       "      <td>132분</td>\n",
       "      <td>김성수</td>\n",
       "      <td>정우성,황정민,주지훈,곽도원,정만식,윤지혜,김해곤</td>\n",
       "      <td>강력계 형사 한도경은 이권과 성공을 위해 각종 범죄를 저지르는 악덕시장 박성배의 뒷...</td>\n",
       "    </tr>\n",
       "  </tbody>\n",
       "</table>\n",
       "</div>"
      ],
      "text/plain": [
       "          제목   개봉일     평점       장르  재생시간       감독  \\\n",
       "57      모럴센스  2022  80% ·  멜로/로맨스   117분      박현진   \n",
       "58        밀애  2002  - % ·     드라마   110분      변영주   \n",
       "59  고잉 인 스타일  2017  82% ·     코미디    96분    잭 브라프   \n",
       "60  드래곤 길들이기  2010  99% ·     코미디    98분  딘 데블로이스   \n",
       "61       아수라  2016  83% ·      액션   132분      김성수   \n",
       "\n",
       "                                                  출연진  \\\n",
       "57                         서주현,이준영,이엘,서현우,안승균,이석형,백현주   \n",
       "58                                                      \n",
       "59  모건 프리먼,마이클 케인,알란 아킨,조이 킹,피터 세라피노윅,앤 마그렛,크리스토퍼 로이드   \n",
       "60  크리스 샌더스,제이 바루첼,제라드 버틀러,아메리카 페레라,크레이그 퍼거슨,조나 힐,...   \n",
       "61                        정우성,황정민,주지훈,곽도원,정만식,윤지혜,김해곤   \n",
       "\n",
       "                                                 시놉시스  \n",
       "57  합의하에 색다른 파트너가 되기로 계약을 맺은 직장 동료. 두 사람의 아주 조금(?)...  \n",
       "58  격정 멜로 | 은밀한 탐닉 ...내가 잘했나요?\\n서른의 전업주부 미흔의 집에 찾아...  \n",
       "59  연금 동결이라니? 어느 날 갑자기 날벼락 같은 소식을 듣게 된 노년의 세 친구. 하...  \n",
       "60  용맹한 바이킹과 사나운 드래곤들의 싸움이 끊이지 않는 버크섬. 바이킹 족장의 아들 ...  \n",
       "61  강력계 형사 한도경은 이권과 성공을 위해 각종 범죄를 저지르는 악덕시장 박성배의 뒷...  "
      ]
     },
     "execution_count": 7,
     "metadata": {},
     "output_type": "execute_result"
    }
   ],
   "source": [
    "df = pd.DataFrame({\n",
    "    \"제목\":title_list,'개봉일':openingdate_list,'평점':rotten_rate_list, '장르':genre_list, '재생시간':runtime_list, '감독':director_list,\"출연진\":ac_list, \"시놉시스\":synopsis_list})\n",
    "df.tail(5)"
   ]
  },
  {
   "cell_type": "code",
   "execution_count": 68,
   "metadata": {},
   "outputs": [],
   "source": [
    "df.to_excel(\"kino_netflix_632.xlsx\")\n",
    "df.to_csv(\"kino_netflix_632.csv\")"
   ]
  },
  {
   "cell_type": "code",
   "execution_count": 24,
   "metadata": {},
   "outputs": [
    {
     "name": "stderr",
     "output_type": "stream",
     "text": [
      "\n",
      "\n",
      "====== WebDriver manager ======\n",
      "Current google-chrome version is 99.0.4844\n",
      "Get LATEST chromedriver version for 99.0.4844 google-chrome\n",
      "Trying to download new driver from https://chromedriver.storage.googleapis.com/99.0.4844.51/chromedriver_win32.zip\n",
      "Driver has been saved in cache [C:\\Users\\Kims\\.wdm\\drivers\\chromedriver\\win32\\99.0.4844.51]\n"
     ]
    }
   ],
   "source": [
    "driver = get_chrome_driver()"
   ]
  },
  {
   "cell_type": "code",
   "execution_count": 25,
   "metadata": {},
   "outputs": [],
   "source": [
    "driver.quit()"
   ]
  },
  {
   "cell_type": "code",
   "execution_count": 176,
   "metadata": {},
   "outputs": [],
   "source": [
    "#driver = get_chrome_driver()\n",
    "time.sleep(2)\n",
    "# 키노라이츠 홈페이지로 이동\n",
    "target_url = \"https://m.kinolights.com/title/70457/\"\n",
    "driver.get(target_url)"
   ]
  },
  {
   "cell_type": "code",
   "execution_count": 216,
   "metadata": {},
   "outputs": [],
   "source": [
    "target_url = \"https://m.kinolights.com/title/3879\"\n",
    "driver.get(target_url)"
   ]
  },
  {
   "cell_type": "code",
   "execution_count": 93,
   "metadata": {},
   "outputs": [
    {
     "name": "stdout",
     "output_type": "stream",
     "text": [
      "1. '해적: 도깨비 깃발'은 리뷰를 쓰기 복잡한 영화는 아니다. 오히려 아주 간단한 영화다. 그러나 나는 이 영화에 대한 생각을 정리하는데 고민이 깊어졌다. 이유는 전편 '해적: 바다로 간 산적'을 못봤기 때문이다. 결론부터 말하자면 '도깨비 깃발'은 썩 만족스런 영...\n"
     ]
    },
    {
     "data": {
      "text/plain": [
       "str"
      ]
     },
     "execution_count": 93,
     "metadata": {},
     "output_type": "execute_result"
    }
   ],
   "source": [
    "# review = driver.find_elements_by_class_name('review-content')[0].text\n",
    "# print(review)\n",
    "# type(review)"
   ]
  },
  {
   "cell_type": "code",
   "execution_count": 99,
   "metadata": {},
   "outputs": [],
   "source": [
    "import warnings\n",
    "warnings.filterwarnings(\"ignore\")"
   ]
  },
  {
   "cell_type": "code",
   "execution_count": 203,
   "metadata": {},
   "outputs": [],
   "source": [
    "driver.quit()"
   ]
  },
  {
   "cell_type": "code",
   "execution_count": 192,
   "metadata": {},
   "outputs": [
    {
     "name": "stderr",
     "output_type": "stream",
     "text": [
      "\n",
      "\n",
      "====== WebDriver manager ======\n",
      "Current google-chrome version is 99.0.4844\n",
      "Get LATEST chromedriver version for 99.0.4844 google-chrome\n",
      "Trying to download new driver from https://chromedriver.storage.googleapis.com/99.0.4844.51/chromedriver_win32.zip\n",
      "Driver has been saved in cache [C:\\Users\\Kims\\.wdm\\drivers\\chromedriver\\win32\\99.0.4844.51]\n"
     ]
    }
   ],
   "source": [
    "driver = get_chrome_driver()\n",
    "target_url = \"https://m.kinolights.com/title/41164/\"\n",
    "driver.get(target_url)"
   ]
  },
  {
   "cell_type": "code",
   "execution_count": 193,
   "metadata": {},
   "outputs": [],
   "source": [
    "title_list =[]\n",
    "openingdate_list = []\n",
    "rotten_rate_list = []\n",
    "imdb_rate_list = []\n",
    "star_rate_list = []\n",
    "genre_list = []\n",
    "runtime_list = []\n",
    "director_list = []\n",
    "synopsis_list = []\n",
    "ac_list = []"
   ]
  },
  {
   "cell_type": "code",
   "execution_count": 1,
   "metadata": {},
   "outputs": [
    {
     "ename": "NameError",
     "evalue": "name 'driver' is not defined",
     "output_type": "error",
     "traceback": [
      "\u001b[1;31m---------------------------------------------------------------------------\u001b[0m",
      "\u001b[1;31mNameError\u001b[0m                                 Traceback (most recent call last)",
      "\u001b[1;32m~\\AppData\\Local\\Temp/ipykernel_6252/1290052745.py\u001b[0m in \u001b[0;36m<module>\u001b[1;34m\u001b[0m\n\u001b[1;32m----> 1\u001b[1;33m \u001b[0mtitle_kr\u001b[0m \u001b[1;33m=\u001b[0m \u001b[0mdriver\u001b[0m\u001b[1;33m.\u001b[0m\u001b[0mfind_element_by_class_name\u001b[0m\u001b[1;33m(\u001b[0m\u001b[1;34m'title-kr'\u001b[0m\u001b[1;33m)\u001b[0m\u001b[1;33m.\u001b[0m\u001b[0mtext\u001b[0m\u001b[1;33m.\u001b[0m\u001b[0mstrip\u001b[0m\u001b[1;33m(\u001b[0m\u001b[1;33m)\u001b[0m\u001b[1;33m\u001b[0m\u001b[1;33m\u001b[0m\u001b[0m\n\u001b[0m\u001b[0;32m      2\u001b[0m \u001b[0mtitle_en\u001b[0m \u001b[1;33m=\u001b[0m \u001b[0mdriver\u001b[0m\u001b[1;33m.\u001b[0m\u001b[0mfind_element_by_class_name\u001b[0m\u001b[1;33m(\u001b[0m\u001b[1;34m'title-en'\u001b[0m\u001b[1;33m)\u001b[0m\u001b[1;33m.\u001b[0m\u001b[0mtext\u001b[0m\u001b[1;33m.\u001b[0m\u001b[0mstrip\u001b[0m\u001b[1;33m(\u001b[0m\u001b[1;33m)\u001b[0m\u001b[1;33m\u001b[0m\u001b[1;33m\u001b[0m\u001b[0m\n\u001b[0;32m      3\u001b[0m \u001b[0mgenre\u001b[0m \u001b[1;33m=\u001b[0m \u001b[0mdriver\u001b[0m\u001b[1;33m.\u001b[0m\u001b[0mfind_element_by_xpath\u001b[0m\u001b[1;33m(\u001b[0m\u001b[1;34m'//*[@id=\"contents\"]/div[2]/div[5]/div[1]/p/span[1]'\u001b[0m\u001b[1;33m)\u001b[0m\u001b[1;33m.\u001b[0m\u001b[0mtext\u001b[0m\u001b[1;33m.\u001b[0m\u001b[0mreplace\u001b[0m\u001b[1;33m(\u001b[0m\u001b[1;34m\"·\"\u001b[0m\u001b[1;33m,\u001b[0m\u001b[1;34m\"\"\u001b[0m\u001b[1;33m)\u001b[0m\u001b[1;33m\u001b[0m\u001b[1;33m\u001b[0m\u001b[0m\n\u001b[0;32m      4\u001b[0m \u001b[0mopeningdate\u001b[0m \u001b[1;33m=\u001b[0m \u001b[0mdriver\u001b[0m\u001b[1;33m.\u001b[0m\u001b[0mfind_element_by_xpath\u001b[0m\u001b[1;33m(\u001b[0m\u001b[1;34m'//*[@id=\"contents\"]/div[2]/div[5]/div[1]/p/span[2]'\u001b[0m\u001b[1;33m)\u001b[0m\u001b[1;33m.\u001b[0m\u001b[0mtext\u001b[0m\u001b[1;33m.\u001b[0m\u001b[0mreplace\u001b[0m\u001b[1;33m(\u001b[0m\u001b[1;34m\"·\"\u001b[0m\u001b[1;33m,\u001b[0m\u001b[1;34m\"\"\u001b[0m\u001b[1;33m)\u001b[0m\u001b[1;33m\u001b[0m\u001b[1;33m\u001b[0m\u001b[0m\n\u001b[0;32m      5\u001b[0m \u001b[0mrotten_rate\u001b[0m \u001b[1;33m=\u001b[0m \u001b[0mdriver\u001b[0m\u001b[1;33m.\u001b[0m\u001b[0mfind_element_by_class_name\u001b[0m\u001b[1;33m(\u001b[0m\u001b[1;34m'rotten-wrap'\u001b[0m\u001b[1;33m)\u001b[0m\u001b[1;33m.\u001b[0m\u001b[0mtext\u001b[0m\u001b[1;33m.\u001b[0m\u001b[0mstrip\u001b[0m\u001b[1;33m(\u001b[0m\u001b[1;33m)\u001b[0m\u001b[1;33m\u001b[0m\u001b[1;33m\u001b[0m\u001b[0m\n",
      "\u001b[1;31mNameError\u001b[0m: name 'driver' is not defined"
     ]
    }
   ],
   "source": [
    "title_kr = driver.find_element_by_class_name('title-kr').text.strip()\n",
    "title_en = driver.find_element_by_class_name('title-en').text.strip()\n",
    "genre = driver.find_element_by_xpath('//*[@id=\"contents\"]/div[2]/div[5]/div[1]/p/span[1]').text.replace(\"·\",\"\")\n",
    "openingdate = driver.find_element_by_xpath('//*[@id=\"contents\"]/div[2]/div[5]/div[1]/p/span[2]').text.replace(\"·\",\"\")\n",
    "rotten_rate = driver.find_element_by_class_name('rotten-wrap').text.strip()\n",
    "imdb_rate = driver.find_element_by_class_name('imdb-wrap').text.strip()\n",
    "star_rate = driver.find_element_by_class_name('movie-star-wrap').text.strip()\n",
    "synopsis = driver.find_element_by_class_name('synopsis').text.strip().replace(\"줄거리 :\",\"\").strip()\n",
    "director = driver.find_element_by_xpath('//*[@id=\"synopsis\"]/article/div/div[1]/div[1]').text.replace(\"·\",\"\")\n",
    "runtime = driver.find_element_by_xpath('//*[@id=\"contents\"]/div[4]/ul/li[1]').text.replace(\"#\",\"\")\n",
    "locates = \"div.name\"\n",
    "test_actor = driver.find_elements_by_css_selector(locates)\n",
    "test_actor = test_actor[1:] \n",
    "test_actor\n",
    "actors_list = []\n",
    "for test_actors in test_actor:\n",
    "    test_actors = test_actors.text\n",
    "    actors_list.append(test_actors)\n",
    "actors_list = \",\".join(actors_list)\n",
    "\n",
    "\n",
    "title_list.append(title_kr)\n",
    "openingdate_list.append(openingdate)\n",
    "rotten_rate_list.append(rotten_rate)\n",
    "imdb_rate_list.append(imdb_rate)\n",
    "star_rate_list.append(star_rate)\n",
    "genre_list.append(genre)\n",
    "runtime_list.append(runtime)\n",
    "director_list.append(director)\n",
    "synopsis_list.append(synopsis)\n",
    "ac_list.append(actors_list)  \n",
    "\n",
    "print('한글:',title_kr,\",\"'영어:', title_en)\n",
    "print(genre, openingdate, runtime)\n",
    "print(\"평점\",rotten_rate,\",\" ,imdb_rate,\",\", star_rate)\n",
    "print(synopsis)\n",
    "print(director)\n",
    "print(actors_list)\n"
   ]
  },
  {
   "cell_type": "code",
   "execution_count": 189,
   "metadata": {},
   "outputs": [
    {
     "data": {
      "text/html": [
       "<div>\n",
       "<style scoped>\n",
       "    .dataframe tbody tr th:only-of-type {\n",
       "        vertical-align: middle;\n",
       "    }\n",
       "\n",
       "    .dataframe tbody tr th {\n",
       "        vertical-align: top;\n",
       "    }\n",
       "\n",
       "    .dataframe thead th {\n",
       "        text-align: right;\n",
       "    }\n",
       "</style>\n",
       "<table border=\"1\" class=\"dataframe\">\n",
       "  <thead>\n",
       "    <tr style=\"text-align: right;\">\n",
       "      <th></th>\n",
       "      <th>제목</th>\n",
       "      <th>개봉일</th>\n",
       "      <th>평점</th>\n",
       "      <th>장르</th>\n",
       "      <th>재생시간</th>\n",
       "      <th>감독</th>\n",
       "      <th>출연진</th>\n",
       "      <th>시놉시스</th>\n",
       "    </tr>\n",
       "  </thead>\n",
       "  <tbody>\n",
       "    <tr>\n",
       "      <th>0</th>\n",
       "      <td>인셉션</td>\n",
       "      <td>2010</td>\n",
       "      <td>87% ·</td>\n",
       "      <td>드라마</td>\n",
       "      <td>147분</td>\n",
       "      <td>크리스토퍼 놀란</td>\n",
       "      <td>와타나베 켄,레오나르도 디카프리오,마리옹 꼬띠아르,조셉 고든 레빗,엘리엇 페이지,톰...</td>\n",
       "      <td>줄거리 : 타인의 꿈에 들어가 생각을 훔치는 코브. 라이벌 기업의 정보를 빼내려는 ...</td>\n",
       "    </tr>\n",
       "  </tbody>\n",
       "</table>\n",
       "</div>"
      ],
      "text/plain": [
       "    제목   개봉일     평점    장르  재생시간        감독  \\\n",
       "0  인셉션  2010  87% ·  드라마   147분  크리스토퍼 놀란   \n",
       "\n",
       "                                                 출연진  \\\n",
       "0  와타나베 켄,레오나르도 디카프리오,마리옹 꼬띠아르,조셉 고든 레빗,엘리엇 페이지,톰...   \n",
       "\n",
       "                                                시놉시스  \n",
       "0  줄거리 : 타인의 꿈에 들어가 생각을 훔치는 코브. 라이벌 기업의 정보를 빼내려는 ...  "
      ]
     },
     "execution_count": 189,
     "metadata": {},
     "output_type": "execute_result"
    }
   ],
   "source": [
    "df = pd.DataFrame({\n",
    "    \"제목\":title_list,'개봉일':openingdate_list,'평점':rotten_rate_list, '장르':genre_list, '재생시간':runtime_list, '감독':director_list,\"출연진\":ac_list, \"시놉시스\":synopsis_list})\n",
    "df.tail(5)"
   ]
  },
  {
   "cell_type": "code",
   "execution_count": 148,
   "metadata": {},
   "outputs": [
    {
     "name": "stdout",
     "output_type": "stream",
     "text": [
      "강하늘,한효주,이광수,권상우,채수빈,세훈,김성오\n"
     ]
    }
   ],
   "source": [
    "# locates = \"div.name\"\n",
    "# test_actor = driver.find_elements_by_css_selector(locates)\n",
    "# test_actor = test_actor[1:]\n",
    "# test_actor\n",
    "# ac_list = []\n",
    "# for test_actors in test_actor:\n",
    "#     test_actors = test_actors.text\n",
    "#     ac_list.append(test_actors)\n",
    "# ac_list = \",\".join(ac_list)\n",
    "# print(ac_list)"
   ]
  },
  {
   "cell_type": "code",
   "execution_count": 95,
   "metadata": {},
   "outputs": [],
   "source": [
    "driver.quit()"
   ]
  },
  {
   "cell_type": "code",
   "execution_count": 174,
   "metadata": {},
   "outputs": [],
   "source": [
    "driver.quit()"
   ]
  },
  {
   "cell_type": "code",
   "execution_count": null,
   "metadata": {},
   "outputs": [],
   "source": []
  }
 ],
 "metadata": {
  "interpreter": {
   "hash": "46ae208522317b1e0ccd05dd07d6b276f13b06ba5c87d9313b8ca5c34df924de"
  },
  "kernelspec": {
   "display_name": "Python 3.9.7 ('base')",
   "language": "python",
   "name": "python3"
  },
  "language_info": {
   "codemirror_mode": {
    "name": "ipython",
    "version": 3
   },
   "file_extension": ".py",
   "mimetype": "text/x-python",
   "name": "python",
   "nbconvert_exporter": "python",
   "pygments_lexer": "ipython3",
   "version": "3.9.7"
  },
  "orig_nbformat": 4
 },
 "nbformat": 4,
 "nbformat_minor": 2
}
