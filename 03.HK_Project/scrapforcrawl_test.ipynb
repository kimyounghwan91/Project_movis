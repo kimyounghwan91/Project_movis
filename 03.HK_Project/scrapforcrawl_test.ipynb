{
 "cells": [
  {
   "cell_type": "code",
   "execution_count": 23,
   "metadata": {},
   "outputs": [],
   "source": [
    "import scrapy\n",
    "import requests\n",
    "from scrapy.http import TextResponse\n",
    "from selenium import webdriver\n",
    "from selenium.webdriver.chrome.service import Service\n",
    "from webdriver_manager.chrome import ChromeDriverManager\n",
    "from selenium.webdriver.common.by import By\n",
    "from selenium.webdriver.support import expected_conditions as EC\n",
    "import time\n",
    "import pandas as pd\n",
    "from scrapy.selector import Selector\n",
    "from scrapy.selector import Selector\n",
    "from scrapy.http import HtmlResponse\n",
    "from bs4 import BeautifulSoup\n",
    "import urllib.request\n",
    "import warnings\n",
    "warnings.filterwarnings(\"ignore\")"
   ]
  },
  {
   "cell_type": "code",
   "execution_count": 24,
   "metadata": {},
   "outputs": [],
   "source": [
    "# from fake_useragent import UserAgent\n",
    "# url = \"https://www.justwatch.com/kr/%EB%8F%99%EC%98%81%EC%83%81%EC%84%9C%EB%B9%84%EC%8A%A4/netflix?content_type=movie&release_year_from=2022&release_year_until=2022\"\n",
    "# headers = { \"User-Agent\": \"Mozilla/5.0 (Macintosh; Intel Mac OS X 10_15_1) AppleWebKit/537.36 (KHTML, like Gecko) Chrome/78.0.3904.108 Safari/537.36\" }\n",
    "# req = requests.get(url, headers=headers)\n",
    "# response = TextResponse(req.url, body=req.text, encoding=\"utf-8\") \n",
    "# response"
   ]
  },
  {
   "cell_type": "code",
   "execution_count": null,
   "metadata": {},
   "outputs": [],
   "source": []
  },
  {
   "cell_type": "code",
   "execution_count": 25,
   "metadata": {},
   "outputs": [],
   "source": [
    "# #해당연도의 영화 총 개수\n",
    "# import re\n",
    "\n",
    "# total_movie_cnt = response.xpath('//*[@id=\"base\"]/div[3]/div/div[1]/div/div[1]/div[1]/text()').get()\n",
    "# numbers = int(re.sub(r'[^0-9]','', total_movie_cnt))\n",
    "# print(numbers)"
   ]
  },
  {
   "cell_type": "code",
   "execution_count": 26,
   "metadata": {},
   "outputs": [],
   "source": [
    "def get_chrome_driver():\n",
    "    # 1. 크롬 옵션 세팅\n",
    "    chrome_options = webdriver.ChromeOptions()\n",
    "    WINDOW_SIZE = \"1920,1080\"\n",
    "    \n",
    "    # chrome_options.add_argument(\"--headless\")\n",
    "    chrome_options.add_argument(\"--no-sandbox\")\n",
    "    chrome_options.add_argument(\"--disable-gpu\")\n",
    "    chrome_options.add_argument(f\"--window-size={WINDOW_SIZE}\")\n",
    "    # 2. driver 생성하기\n",
    "    driver = webdriver.Chrome(\n",
    "        service=Service(ChromeDriverManager().install()), # 가장 많이 바뀐 부분\n",
    "        options=chrome_options\n",
    "    )\n",
    "    \n",
    "    return driver"
   ]
  },
  {
   "cell_type": "code",
   "execution_count": 27,
   "metadata": {},
   "outputs": [
    {
     "name": "stderr",
     "output_type": "stream",
     "text": [
      "\n",
      "\n",
      "====== WebDriver manager ======\n",
      "Current google-chrome version is 99.0.4844\n",
      "Get LATEST chromedriver version for 99.0.4844 google-chrome\n",
      "Trying to download new driver from https://chromedriver.storage.googleapis.com/99.0.4844.51/chromedriver_win32.zip\n",
      "Driver has been saved in cache [C:\\Users\\Kims\\.wdm\\drivers\\chromedriver\\win32\\99.0.4844.51]\n"
     ]
    }
   ],
   "source": [
    "driver = get_chrome_driver()"
   ]
  },
  {
   "cell_type": "code",
   "execution_count": 28,
   "metadata": {},
   "outputs": [],
   "source": [
    "urls = []\n",
    "for year in map(str,range(2005,2006)):\n",
    "    url = 'https://www.justwatch.com/kr/%EB%8F%99%EC%98%81%EC%83%81%EC%84%9C%EB%B9%84%EC%8A%A4/netflix?content_type=movie&release_year_from={}&release_year_until={}'.format(year, year)\n",
    "    urls.append(url)"
   ]
  },
  {
   "cell_type": "code",
   "execution_count": 29,
   "metadata": {},
   "outputs": [],
   "source": [
    "for url in urls:\n",
    "    driver.get(url)\n",
    "    # 스크롤 높이 가져옴\n",
    "    last_height = driver.execute_script(\"return document.body.scrollHeight\")\n",
    "    while True:\n",
    "        # 끝까지 스크롤 다운\n",
    "        driver.execute_script(\"window.scrollTo(0, document.body.scrollHeight);\")\n",
    "        # 1초 대기\n",
    "        time.sleep(1)\n",
    "        # 스크롤 다운 후 스크롤 높이 다시 가져옴\n",
    "        new_height = driver.execute_script(\"return document.body.scrollHeight\")\n",
    "        if new_height == last_height:\n",
    "            break\n",
    "        last_height = new_height        \n",
    "\n",
    "    # detail_links = response.css('div.title-list-grid__item > a[href^=https]')\n",
    "    # detail_links = list(map(response.urljoin,detail_links))\n",
    "    # # len(detail_links)\n",
    "    # detail_links\n",
    "        elem = driver.find_elements_by_css_selector('div.title-list-grid div.title-list-grid__item a.title-list-grid__item--link')\n",
    "        linkUrls = []\n",
    "        for e in elem:\n",
    "            linkUrl = e.get_attribute('href')\n",
    "            linkUrls.append(linkUrl)    "
   ]
  },
  {
   "cell_type": "code",
   "execution_count": 30,
   "metadata": {},
   "outputs": [
    {
     "data": {
      "text/plain": [
       "44"
      ]
     },
     "execution_count": 30,
     "metadata": {},
     "output_type": "execute_result"
    }
   ],
   "source": [
    "len(linkUrls)"
   ]
  },
  {
   "cell_type": "code",
   "execution_count": 47,
   "metadata": {},
   "outputs": [],
   "source": [
    "title_list = []\n",
    "openingdate_list = []\n",
    "just_rating_list = []\n",
    "imdb_rating_list = []\n",
    "genre_list = []\n",
    "runtime_list = []\n",
    "director_list = []\n",
    "synopsis_list = []\n",
    "actors_list = []\n",
    "poster_list = []"
   ]
  },
  {
   "cell_type": "code",
   "execution_count": 48,
   "metadata": {},
   "outputs": [],
   "source": [
    "for i in range(0,len(linkUrls)):\n",
    "    url = linkUrls[i]\n",
    "    headers = { \"User-Agent\": \"Mozilla/5.0 (Macintosh; Intel Mac OS X 10_15_1) AppleWebKit/537.36 (KHTML, like Gecko) Chrome/78.0.3904.108 Safari/537.36\" }\n",
    "    req = requests.get(url, headers=headers)\n",
    "    response = TextResponse(req.url, body=req.text, encoding=\"utf-8\")\n",
    "    response\n",
    "\n",
    "    \n",
    "    title_kor = response.css(\"div.title-block > div > h1::text\").get().strip()        \n",
    "    try:\n",
    "        opening_date = response.css(\"div.title-block > div > span::text\").get().replace(\"(\",\"\").replace(\")\",\"\").strip()\n",
    "    except:\n",
    "        opening_date = None\n",
    "    try:\n",
    "        just_rating = response.css('div.detail-infos > div > div > div > a::text')[0].get().strip()\n",
    "    except:\n",
    "        just_rating = None\n",
    "    try:\n",
    "    \n",
    "        imdb_rating = response.css('div.detail-infos > div > div > div > a::text')[1].get().strip().split(\" \")[0]\n",
    "    except:\n",
    "        imdb_rating = None   \n",
    "    genre = response.xpath('//*[@id=\"base\"]/div[2]/div/div[2]/div[2]/div/div[1]/div[1]/div/div[2]/span/text()').getall()     # 뽑아낸 값이 리스트형태로 뽑힘 str 형태로 바꿔야함 모르겠음..\n",
    "    genre = \",\".join(genre).replace(\" \",\"\")\n",
    "    genre = genre\n",
    "    runtime = response.xpath('//*[@id=\"base\"]/div[2]/div/div[2]/div[2]/div/div[1]/div[1]/div[3]/div[2]/text()').getall()\n",
    "    runtime = \",\".join(runtime).replace(\" \",\"\")\n",
    "    runtime = runtime\n",
    "    director = response.xpath('//*[@id=\"base\"]/div[2]/div/div[2]/div[2]/div/div[1]/div[1]/div[4]/div[2]/span/a/text()').getall() # 뽑아낸 값이 리스트형태로 뽑힘 str 형태로 바꿔야함 모르겠음..\n",
    "    director = \",\".join(director).replace(\" \",\"\")\n",
    "    director = director\n",
    "    actors = response.xpath('//*[@id=\"base\"]/div[2]/div/div[2]/div[2]/div/div[1]/div[3]/div/div/a/text()').getall() # 뽑아낸 값이 리스트형태로 뽑힘 str 형태로 바꿔야함 모르겠음...\n",
    "    actors = \",\".join(actors).replace(\" \",\"\")\n",
    "    actors = actors\n",
    "    \n",
    "    try:\n",
    "        synopsis = response.xpath('//*[@id=\"base\"]/div[2]/div/div[2]/div[2]/div/div[1]/div[4]/p/span/text()').get()\n",
    "    except:\n",
    "        synopsis= None\n",
    "\n",
    "    poster = response.xpath('//*[@id=\"base\"]/div[2]/div/div[1]/div/aside/div/div/picture').css('img').attrib['data-src']\n",
    " \n",
    "    \n",
    "    \n",
    "\n",
    "\n",
    "    title_list.append(title_kor)\n",
    "    openingdate_list.append(opening_date)\n",
    "    just_rating_list.append(just_rating)\n",
    "    imdb_rating_list.append(imdb_rating)\n",
    "    genre_list.append(genre)\n",
    "    runtime_list.append(runtime)\n",
    "    director_list.append(director)\n",
    "    synopsis_list.append(synopsis)\n",
    "    actors_list.append(actors)\n",
    "    poster_list.append(poster)"
   ]
  },
  {
   "cell_type": "code",
   "execution_count": 49,
   "metadata": {},
   "outputs": [
    {
     "data": {
      "text/plain": [
       "44"
      ]
     },
     "execution_count": 49,
     "metadata": {},
     "output_type": "execute_result"
    }
   ],
   "source": [
    "len(title_list)"
   ]
  },
  {
   "cell_type": "code",
   "execution_count": 50,
   "metadata": {},
   "outputs": [
    {
     "data": {
      "text/plain": [
       "44"
      ]
     },
     "execution_count": 50,
     "metadata": {},
     "output_type": "execute_result"
    }
   ],
   "source": [
    "len(poster_list)"
   ]
  },
  {
   "cell_type": "code",
   "execution_count": 51,
   "metadata": {},
   "outputs": [
    {
     "data": {
      "text/plain": [
       "['5.5',\n",
       " '7.0',\n",
       " '7.8',\n",
       " '6.7',\n",
       " '7.7',\n",
       " '6.9',\n",
       " '6.5',\n",
       " '6.4',\n",
       " '7.4',\n",
       " '7.2',\n",
       " '7.0',\n",
       " '6.5',\n",
       " '6.5',\n",
       " '7.6',\n",
       " '7.4',\n",
       " '6.9',\n",
       " '6.2',\n",
       " '7.7',\n",
       " '7.3',\n",
       " '5.9',\n",
       " '6.6',\n",
       " '6.7',\n",
       " '7.7',\n",
       " '6.8',\n",
       " '7.2',\n",
       " '5.9',\n",
       " '6.4',\n",
       " '7.0',\n",
       " None,\n",
       " '7.1',\n",
       " '6.0',\n",
       " '6.3',\n",
       " '7.4',\n",
       " '6.8',\n",
       " '5.8',\n",
       " '7.0',\n",
       " '6.6',\n",
       " '6.0',\n",
       " '6.3',\n",
       " '6.9',\n",
       " '5.8',\n",
       " '6.6',\n",
       " '6.2',\n",
       " '6.0']"
      ]
     },
     "execution_count": 51,
     "metadata": {},
     "output_type": "execute_result"
    }
   ],
   "source": [
    "imdb_rating_list"
   ]
  },
  {
   "cell_type": "code",
   "execution_count": 53,
   "metadata": {},
   "outputs": [
    {
     "name": "stdout",
     "output_type": "stream",
     "text": [
      "제목: 공공의 적 2 개봉일: 2005 저스트와치 평점: 72% IMDB 평점: 6.0 장르: 스릴러,드라마,액션 재생시간: 2시간28분 감독: KangWoo-suk 출연자: SolKyung-gu,JungJoon-ho,KangShin-il,ParkGeun-hyung,ByunHee-bong,ParkSang-wook,UhmTae-woong,JeongGyu-su,ChoiJung-woo,ParkWoong 시놉시스: 검찰청 최고의 꼴통검사 강철중, 룸싸롱은 주로 쳐들어 가기 위해 자주 들르고 책상머리의 서류철 들여다보기 보다 컵라면 우물거리며 잠복근무가 체질인 그는 나쁜 짓 하는 놈 잡기 위해 부하와 동료의 피를 볼 순 없다는 일념으로 총기류 사용도 마다하지 않는 다혈질 검사다. 그렇지만 어제도 오늘도 그의 하루는 늘 나름대로 스마일~로 시작된다.  그런 그에게 명선 재단 이사장 한상우 사건이 접수되고 특유의 기질로 나쁜 냄새를 직감한 강검사, 자기 담당도 아닌 사건을 조사하기 시작한다. 명선고교는 다름아닌 강검사의 모교이며 학교 재단 이사장의 둘째 아들인 한상우 또한 자신과 3년 동안 같은 반에서 수학한 동기동창이었던 것. 재단을 물려받기로 되어 있던 명선 재단 큰 아들의 사고로 인해 재단 이사장으로 급부상한 한상우, 때마침 명선 재단 큰 아들이 숨을 거두고 그 죽음에 대한 의문이 제기되면서 강철중 검사의 수사는 큰 파문을 불러 일으킨다. 이에 철중은 조사인의 자격으로 상우를 검찰청에서 마주하게 되는데.\n"
     ]
    }
   ],
   "source": [
    "print(\"제목:\",title_kor, \"개봉일:\",opening_date,\"저스트와치 평점:\", just_rating,\"IMDB 평점:\",imdb_rating, \"장르:\",genre, \"재생시간:\",runtime, \"감독:\",director,\"출연자:\", actors, \"시놉시스:\",synopsis)"
   ]
  },
  {
   "cell_type": "code",
   "execution_count": 55,
   "metadata": {},
   "outputs": [
    {
     "data": {
      "text/html": [
       "<div>\n",
       "<style scoped>\n",
       "    .dataframe tbody tr th:only-of-type {\n",
       "        vertical-align: middle;\n",
       "    }\n",
       "\n",
       "    .dataframe tbody tr th {\n",
       "        vertical-align: top;\n",
       "    }\n",
       "\n",
       "    .dataframe thead th {\n",
       "        text-align: right;\n",
       "    }\n",
       "</style>\n",
       "<table border=\"1\" class=\"dataframe\">\n",
       "  <thead>\n",
       "    <tr style=\"text-align: right;\">\n",
       "      <th></th>\n",
       "      <th>제목</th>\n",
       "      <th>개봉일</th>\n",
       "      <th>imdb평점</th>\n",
       "    </tr>\n",
       "  </thead>\n",
       "  <tbody>\n",
       "    <tr>\n",
       "      <th>0</th>\n",
       "      <td>Kureyon Shinchan: Densetsu o Yobu Buriburi: Sa...</td>\n",
       "      <td>2005</td>\n",
       "      <td>5.5</td>\n",
       "    </tr>\n",
       "    <tr>\n",
       "      <th>1</th>\n",
       "      <td>콘스탄틴</td>\n",
       "      <td>2005</td>\n",
       "      <td>7.0</td>\n",
       "    </tr>\n",
       "    <tr>\n",
       "      <th>2</th>\n",
       "      <td>오만과 편견</td>\n",
       "      <td>2005</td>\n",
       "      <td>7.8</td>\n",
       "    </tr>\n",
       "    <tr>\n",
       "      <th>3</th>\n",
       "      <td>찰리와 초콜릿 공장</td>\n",
       "      <td>2005</td>\n",
       "      <td>6.7</td>\n",
       "    </tr>\n",
       "    <tr>\n",
       "      <th>4</th>\n",
       "      <td>브로크백 마운틴</td>\n",
       "      <td>2005</td>\n",
       "      <td>7.7</td>\n",
       "    </tr>\n",
       "    <tr>\n",
       "      <th>5</th>\n",
       "      <td>마다가스카</td>\n",
       "      <td>2005</td>\n",
       "      <td>6.9</td>\n",
       "    </tr>\n",
       "    <tr>\n",
       "      <th>6</th>\n",
       "      <td>우주전쟁</td>\n",
       "      <td>2005</td>\n",
       "      <td>6.5</td>\n",
       "    </tr>\n",
       "    <tr>\n",
       "      <th>7</th>\n",
       "      <td>연애의 목적</td>\n",
       "      <td>2005</td>\n",
       "      <td>6.4</td>\n",
       "    </tr>\n",
       "    <tr>\n",
       "      <th>8</th>\n",
       "      <td>유령 신부</td>\n",
       "      <td>2005</td>\n",
       "      <td>7.4</td>\n",
       "    </tr>\n",
       "    <tr>\n",
       "      <th>9</th>\n",
       "      <td>디센트</td>\n",
       "      <td>2005</td>\n",
       "      <td>7.2</td>\n",
       "    </tr>\n",
       "    <tr>\n",
       "      <th>10</th>\n",
       "      <td>자헤드: 그들만의 전쟁</td>\n",
       "      <td>2005</td>\n",
       "      <td>7.0</td>\n",
       "    </tr>\n",
       "    <tr>\n",
       "      <th>11</th>\n",
       "      <td>미스터 &amp; 미세스 스미스</td>\n",
       "      <td>2005</td>\n",
       "      <td>6.5</td>\n",
       "    </tr>\n",
       "    <tr>\n",
       "      <th>12</th>\n",
       "      <td>거북이는 의외로 빨리 헤엄친다</td>\n",
       "      <td>2005</td>\n",
       "      <td>6.5</td>\n",
       "    </tr>\n",
       "    <tr>\n",
       "      <th>13</th>\n",
       "      <td>친절한 금자씨</td>\n",
       "      <td>2005</td>\n",
       "      <td>7.6</td>\n",
       "    </tr>\n",
       "    <tr>\n",
       "      <th>14</th>\n",
       "      <td>게이샤의 추억</td>\n",
       "      <td>2005</td>\n",
       "      <td>7.4</td>\n",
       "    </tr>\n",
       "    <tr>\n",
       "      <th>15</th>\n",
       "      <td>시노비</td>\n",
       "      <td>2005</td>\n",
       "      <td>6.9</td>\n",
       "    </tr>\n",
       "    <tr>\n",
       "      <th>16</th>\n",
       "      <td>저스트 프렌드</td>\n",
       "      <td>2005</td>\n",
       "      <td>6.2</td>\n",
       "    </tr>\n",
       "    <tr>\n",
       "      <th>17</th>\n",
       "      <td>말아톤</td>\n",
       "      <td>2005</td>\n",
       "      <td>7.7</td>\n",
       "    </tr>\n",
       "    <tr>\n",
       "      <th>18</th>\n",
       "      <td>오징어와 고래</td>\n",
       "      <td>2005</td>\n",
       "      <td>7.3</td>\n",
       "    </tr>\n",
       "    <tr>\n",
       "      <th>19</th>\n",
       "      <td>아미티빌 호러</td>\n",
       "      <td>2005</td>\n",
       "      <td>5.9</td>\n",
       "    </tr>\n",
       "    <tr>\n",
       "      <th>20</th>\n",
       "      <td>혈의 누</td>\n",
       "      <td>2005</td>\n",
       "      <td>6.6</td>\n",
       "    </tr>\n",
       "    <tr>\n",
       "      <th>21</th>\n",
       "      <td>내 생애 가장 아름다운 일주일</td>\n",
       "      <td>2005</td>\n",
       "      <td>6.7</td>\n",
       "    </tr>\n",
       "    <tr>\n",
       "      <th>22</th>\n",
       "      <td>웰컴 투 동막골</td>\n",
       "      <td>2005</td>\n",
       "      <td>7.7</td>\n",
       "    </tr>\n",
       "    <tr>\n",
       "      <th>23</th>\n",
       "      <td>용서받지 못한 자</td>\n",
       "      <td>2005</td>\n",
       "      <td>6.8</td>\n",
       "    </tr>\n",
       "    <tr>\n",
       "      <th>24</th>\n",
       "      <td>주먹이 운다</td>\n",
       "      <td>2005</td>\n",
       "      <td>7.2</td>\n",
       "    </tr>\n",
       "    <tr>\n",
       "      <th>25</th>\n",
       "      <td>가문의 영광 2 - 가문의 위기</td>\n",
       "      <td>2005</td>\n",
       "      <td>5.9</td>\n",
       "    </tr>\n",
       "    <tr>\n",
       "      <th>26</th>\n",
       "      <td>이니셜 D</td>\n",
       "      <td>2005</td>\n",
       "      <td>6.4</td>\n",
       "    </tr>\n",
       "    <tr>\n",
       "      <th>27</th>\n",
       "      <td>나나</td>\n",
       "      <td>2005</td>\n",
       "      <td>7.0</td>\n",
       "    </tr>\n",
       "    <tr>\n",
       "      <th>28</th>\n",
       "      <td>태극권</td>\n",
       "      <td>2005</td>\n",
       "      <td>None</td>\n",
       "    </tr>\n",
       "    <tr>\n",
       "      <th>29</th>\n",
       "      <td>흑사회</td>\n",
       "      <td>2005</td>\n",
       "      <td>7.1</td>\n",
       "    </tr>\n",
       "    <tr>\n",
       "      <th>30</th>\n",
       "      <td>마파도</td>\n",
       "      <td>2005</td>\n",
       "      <td>6.0</td>\n",
       "    </tr>\n",
       "    <tr>\n",
       "      <th>31</th>\n",
       "      <td>미스터 소크라테스</td>\n",
       "      <td>2005</td>\n",
       "      <td>6.3</td>\n",
       "    </tr>\n",
       "    <tr>\n",
       "      <th>32</th>\n",
       "      <td>왕의 남자</td>\n",
       "      <td>2005</td>\n",
       "      <td>7.4</td>\n",
       "    </tr>\n",
       "    <tr>\n",
       "      <th>33</th>\n",
       "      <td>메종 드 히미코</td>\n",
       "      <td>2005</td>\n",
       "      <td>6.8</td>\n",
       "    </tr>\n",
       "    <tr>\n",
       "      <th>34</th>\n",
       "      <td>분홍신</td>\n",
       "      <td>2005</td>\n",
       "      <td>5.8</td>\n",
       "    </tr>\n",
       "    <tr>\n",
       "      <th>35</th>\n",
       "      <td>극장전</td>\n",
       "      <td>2005</td>\n",
       "      <td>7.0</td>\n",
       "    </tr>\n",
       "    <tr>\n",
       "      <th>36</th>\n",
       "      <td>야수와 미녀</td>\n",
       "      <td>2005</td>\n",
       "      <td>6.6</td>\n",
       "    </tr>\n",
       "    <tr>\n",
       "      <th>37</th>\n",
       "      <td>작업의 정석</td>\n",
       "      <td>2005</td>\n",
       "      <td>6.0</td>\n",
       "    </tr>\n",
       "    <tr>\n",
       "      <th>38</th>\n",
       "      <td>박수칠 때 떠나라</td>\n",
       "      <td>2005</td>\n",
       "      <td>6.3</td>\n",
       "    </tr>\n",
       "    <tr>\n",
       "      <th>39</th>\n",
       "      <td>그때 그 사람들</td>\n",
       "      <td>2005</td>\n",
       "      <td>6.9</td>\n",
       "    </tr>\n",
       "    <tr>\n",
       "      <th>40</th>\n",
       "      <td>태풍</td>\n",
       "      <td>2005</td>\n",
       "      <td>5.8</td>\n",
       "    </tr>\n",
       "    <tr>\n",
       "      <th>41</th>\n",
       "      <td>루팡 3세 천사의 책략 - 꿈의 조각은 살인의 향기</td>\n",
       "      <td>2005</td>\n",
       "      <td>6.6</td>\n",
       "    </tr>\n",
       "    <tr>\n",
       "      <th>42</th>\n",
       "      <td>미스터 주부 퀴즈왕</td>\n",
       "      <td>2005</td>\n",
       "      <td>6.2</td>\n",
       "    </tr>\n",
       "    <tr>\n",
       "      <th>43</th>\n",
       "      <td>공공의 적 2</td>\n",
       "      <td>2005</td>\n",
       "      <td>6.0</td>\n",
       "    </tr>\n",
       "  </tbody>\n",
       "</table>\n",
       "</div>"
      ],
      "text/plain": [
       "                                                   제목   개봉일 imdb평점\n",
       "0   Kureyon Shinchan: Densetsu o Yobu Buriburi: Sa...  2005    5.5\n",
       "1                                                콘스탄틴  2005    7.0\n",
       "2                                              오만과 편견  2005    7.8\n",
       "3                                          찰리와 초콜릿 공장  2005    6.7\n",
       "4                                            브로크백 마운틴  2005    7.7\n",
       "5                                               마다가스카  2005    6.9\n",
       "6                                                우주전쟁  2005    6.5\n",
       "7                                              연애의 목적  2005    6.4\n",
       "8                                               유령 신부  2005    7.4\n",
       "9                                                 디센트  2005    7.2\n",
       "10                                       자헤드: 그들만의 전쟁  2005    7.0\n",
       "11                                      미스터 & 미세스 스미스  2005    6.5\n",
       "12                                   거북이는 의외로 빨리 헤엄친다  2005    6.5\n",
       "13                                            친절한 금자씨  2005    7.6\n",
       "14                                            게이샤의 추억  2005    7.4\n",
       "15                                                시노비  2005    6.9\n",
       "16                                            저스트 프렌드  2005    6.2\n",
       "17                                                말아톤  2005    7.7\n",
       "18                                            오징어와 고래  2005    7.3\n",
       "19                                            아미티빌 호러  2005    5.9\n",
       "20                                               혈의 누  2005    6.6\n",
       "21                                   내 생애 가장 아름다운 일주일  2005    6.7\n",
       "22                                           웰컴 투 동막골  2005    7.7\n",
       "23                                          용서받지 못한 자  2005    6.8\n",
       "24                                             주먹이 운다  2005    7.2\n",
       "25                                  가문의 영광 2 - 가문의 위기  2005    5.9\n",
       "26                                              이니셜 D  2005    6.4\n",
       "27                                                 나나  2005    7.0\n",
       "28                                                태극권  2005   None\n",
       "29                                                흑사회  2005    7.1\n",
       "30                                                마파도  2005    6.0\n",
       "31                                          미스터 소크라테스  2005    6.3\n",
       "32                                              왕의 남자  2005    7.4\n",
       "33                                           메종 드 히미코  2005    6.8\n",
       "34                                                분홍신  2005    5.8\n",
       "35                                                극장전  2005    7.0\n",
       "36                                             야수와 미녀  2005    6.6\n",
       "37                                             작업의 정석  2005    6.0\n",
       "38                                          박수칠 때 떠나라  2005    6.3\n",
       "39                                           그때 그 사람들  2005    6.9\n",
       "40                                                 태풍  2005    5.8\n",
       "41                       루팡 3세 천사의 책략 - 꿈의 조각은 살인의 향기  2005    6.6\n",
       "42                                         미스터 주부 퀴즈왕  2005    6.2\n",
       "43                                            공공의 적 2  2005    6.0"
      ]
     },
     "execution_count": 55,
     "metadata": {},
     "output_type": "execute_result"
    }
   ],
   "source": [
    "import pandas as pd\n",
    "# df = pd.DataFrame({\n",
    "#     \"제목\":title_list,\"개봉일\":openingdate_list,\"저스트와치 평점\":just_rating_list,\"장르\":genre_list,\"재생시간\":runtime_list, \"감독\":director_list,\"시놉시스\":synopsis_list})\n",
    "# df.tail(5)\n",
    "df = pd.DataFrame({\n",
    "    \"제목\":title_list,\"개봉일\":openingdate_list, \"imdb평점\":imdb_rating_list})\n",
    "df"
   ]
  },
  {
   "cell_type": "code",
   "execution_count": 12,
   "metadata": {},
   "outputs": [],
   "source": [
    "driver.quit()\n"
   ]
  },
  {
   "cell_type": "code",
   "execution_count": 65,
   "metadata": {},
   "outputs": [],
   "source": [
    "# csv파일 읽어오기\n",
    "import pandas as pd\n",
    "# csv_test = pd.read_csv(\"C:/Users/Kims/Desktop/HK_Project_Team5/movies.csv\")\n",
    "csv_test = pd.read_csv(r'C:\\Workspace\\AtHome\\Justwath_Scrapy\\moviedata\\MovieCrawlerFile_disney.csv')\n"
   ]
  },
  {
   "cell_type": "code",
   "execution_count": 113,
   "metadata": {},
   "outputs": [
    {
     "data": {
      "text/html": [
       "<div>\n",
       "<style scoped>\n",
       "    .dataframe tbody tr th:only-of-type {\n",
       "        vertical-align: middle;\n",
       "    }\n",
       "\n",
       "    .dataframe tbody tr th {\n",
       "        vertical-align: top;\n",
       "    }\n",
       "\n",
       "    .dataframe thead th {\n",
       "        text-align: right;\n",
       "    }\n",
       "</style>\n",
       "<table border=\"1\" class=\"dataframe\">\n",
       "  <thead>\n",
       "    <tr style=\"text-align: right;\">\n",
       "      <th></th>\n",
       "      <th>actors</th>\n",
       "      <th>director</th>\n",
       "      <th>genre</th>\n",
       "      <th>imdb_rating</th>\n",
       "      <th>just_rating</th>\n",
       "      <th>opening_date</th>\n",
       "      <th>posterLink</th>\n",
       "      <th>runtime</th>\n",
       "      <th>synopsis</th>\n",
       "      <th>title_kor</th>\n",
       "    </tr>\n",
       "  </thead>\n",
       "  <tbody>\n",
       "    <tr>\n",
       "      <th>973</th>\n",
       "      <td>BenAffleck,RosamundPike,NeilPatrickHarris,Tyle...</td>\n",
       "      <td>DavidFincher</td>\n",
       "      <td>스릴러,드라마</td>\n",
       "      <td>8.1</td>\n",
       "      <td>88%</td>\n",
       "      <td>2014.0</td>\n",
       "      <td>https://images.justwatch.com/poster/177088991/...</td>\n",
       "      <td>2시간29분</td>\n",
       "      <td>모두가 부러워하는 삶을 살아가는 완벽한 커플인 닉과 에이미. 결혼 5주년 기념일 아...</td>\n",
       "      <td>나를 찾아줘</td>\n",
       "    </tr>\n",
       "    <tr>\n",
       "      <th>974</th>\n",
       "      <td>TaronEgerton,ColinFirth,MarkStrong,SamuelL.Jac...</td>\n",
       "      <td>MatthewVaughn</td>\n",
       "      <td>코미디,스릴러,액션</td>\n",
       "      <td>7.7</td>\n",
       "      <td>85%</td>\n",
       "      <td>2014.0</td>\n",
       "      <td>https://images.justwatch.com/poster/187271737/...</td>\n",
       "      <td>2시간9분</td>\n",
       "      <td>높은 IQ, 주니어 체조대회 2년 연속 우승! 그러나 학교 중퇴, 해병대 중도 하차...</td>\n",
       "      <td>킹스맨: 시크릿 에이전트</td>\n",
       "    </tr>\n",
       "    <tr>\n",
       "      <th>975</th>\n",
       "      <td>MattDamon,JessicaChastain,KristenWiig,JeffDani...</td>\n",
       "      <td>RidleyScott</td>\n",
       "      <td>드라마,SF</td>\n",
       "      <td>8.0</td>\n",
       "      <td>87%</td>\n",
       "      <td>2015.0</td>\n",
       "      <td>https://images.justwatch.com/poster/176289750/...</td>\n",
       "      <td>2시간22분</td>\n",
       "      <td>NASA 소속의 아레스 3 탐사대는 화성에 도착한 지 6일째 되는 날 거대한 모래 ...</td>\n",
       "      <td>마션</td>\n",
       "    </tr>\n",
       "    <tr>\n",
       "      <th>976</th>\n",
       "      <td>MichaelFassbender,KatherineWaterston,BillyCrud...</td>\n",
       "      <td>RidleyScott</td>\n",
       "      <td>공포,SF,스릴러</td>\n",
       "      <td>6.4</td>\n",
       "      <td>71%</td>\n",
       "      <td>2017.0</td>\n",
       "      <td>https://images.justwatch.com/poster/8573813/s592</td>\n",
       "      <td>2시간3분</td>\n",
       "      <td>2천명의 승객과 12명의 승무원을 실은 커버넌트호는 새로운 행성의 개척과 이주를 위...</td>\n",
       "      <td>에이리언: 커버넌트</td>\n",
       "    </tr>\n",
       "    <tr>\n",
       "      <th>977</th>\n",
       "      <td>KeriRussell,JessePlemons,JeremyThomas,GrahamGr...</td>\n",
       "      <td>ScottCooper</td>\n",
       "      <td>공포,판타지,스릴러,드라마,액션,범죄</td>\n",
       "      <td>5.9</td>\n",
       "      <td>71%</td>\n",
       "      <td>2021.0</td>\n",
       "      <td>https://images.justwatch.com/poster/257452810/...</td>\n",
       "      <td>1시간39분</td>\n",
       "      <td>오리건의 작은 마을 선생 (케리 러셀), 지역 보안관인 그녀의 오빠 (제시 플레몬스...</td>\n",
       "      <td>앤틀러스</td>\n",
       "    </tr>\n",
       "  </tbody>\n",
       "</table>\n",
       "</div>"
      ],
      "text/plain": [
       "                                                actors       director  \\\n",
       "973  BenAffleck,RosamundPike,NeilPatrickHarris,Tyle...   DavidFincher   \n",
       "974  TaronEgerton,ColinFirth,MarkStrong,SamuelL.Jac...  MatthewVaughn   \n",
       "975  MattDamon,JessicaChastain,KristenWiig,JeffDani...    RidleyScott   \n",
       "976  MichaelFassbender,KatherineWaterston,BillyCrud...    RidleyScott   \n",
       "977  KeriRussell,JessePlemons,JeremyThomas,GrahamGr...    ScottCooper   \n",
       "\n",
       "                    genre imdb_rating just_rating  opening_date  \\\n",
       "973               스릴러,드라마         8.1         88%        2014.0   \n",
       "974            코미디,스릴러,액션         7.7         85%        2014.0   \n",
       "975                드라마,SF         8.0         87%        2015.0   \n",
       "976             공포,SF,스릴러         6.4         71%        2017.0   \n",
       "977  공포,판타지,스릴러,드라마,액션,범죄         5.9         71%        2021.0   \n",
       "\n",
       "                                            posterLink runtime  \\\n",
       "973  https://images.justwatch.com/poster/177088991/...  2시간29분   \n",
       "974  https://images.justwatch.com/poster/187271737/...   2시간9분   \n",
       "975  https://images.justwatch.com/poster/176289750/...  2시간22분   \n",
       "976   https://images.justwatch.com/poster/8573813/s592   2시간3분   \n",
       "977  https://images.justwatch.com/poster/257452810/...  1시간39분   \n",
       "\n",
       "                                              synopsis      title_kor  \n",
       "973  모두가 부러워하는 삶을 살아가는 완벽한 커플인 닉과 에이미. 결혼 5주년 기념일 아...         나를 찾아줘  \n",
       "974  높은 IQ, 주니어 체조대회 2년 연속 우승! 그러나 학교 중퇴, 해병대 중도 하차...  킹스맨: 시크릿 에이전트  \n",
       "975  NASA 소속의 아레스 3 탐사대는 화성에 도착한 지 6일째 되는 날 거대한 모래 ...             마션  \n",
       "976  2천명의 승객과 12명의 승무원을 실은 커버넌트호는 새로운 행성의 개척과 이주를 위...     에이리언: 커버넌트  \n",
       "977  오리건의 작은 마을 선생 (케리 러셀), 지역 보안관인 그녀의 오빠 (제시 플레몬스...           앤틀러스  "
      ]
     },
     "execution_count": 113,
     "metadata": {},
     "output_type": "execute_result"
    }
   ],
   "source": [
    "csv_test.tail(5)"
   ]
  },
  {
   "cell_type": "code",
   "execution_count": 158,
   "metadata": {},
   "outputs": [
    {
     "data": {
      "text/plain": [
       "'185385933'"
      ]
     },
     "execution_count": 158,
     "metadata": {},
     "output_type": "execute_result"
    }
   ],
   "source": [
    "csv_test[\"posterLink\"][900].split(\"poster/\")[1].split(\"/\")[0]"
   ]
  },
  {
   "cell_type": "code",
   "execution_count": 194,
   "metadata": {},
   "outputs": [
    {
     "data": {
      "text/plain": [
       "978"
      ]
     },
     "execution_count": 194,
     "metadata": {},
     "output_type": "execute_result"
    }
   ],
   "source": [
    "link = csv_test[\"posterLink\"]\n",
    "len(link)"
   ]
  },
  {
   "cell_type": "code",
   "execution_count": 197,
   "metadata": {},
   "outputs": [
    {
     "data": {
      "text/plain": [
       "978"
      ]
     },
     "execution_count": 197,
     "metadata": {},
     "output_type": "execute_result"
    }
   ],
   "source": [
    "len(link)"
   ]
  },
  {
   "cell_type": "code",
   "execution_count": 195,
   "metadata": {},
   "outputs": [
    {
     "data": {
      "text/plain": [
       "978"
      ]
     },
     "execution_count": 195,
     "metadata": {},
     "output_type": "execute_result"
    }
   ],
   "source": [
    "xs = []\n",
    "for i in range(0,len(link)):\n",
    "    x = link[i]\n",
    "    xs.append(x)\n",
    "len(xs)"
   ]
  },
  {
   "cell_type": "code",
   "execution_count": 198,
   "metadata": {},
   "outputs": [
    {
     "ename": "TypeError",
     "evalue": "expected string or bytes-like object",
     "output_type": "error",
     "traceback": [
      "\u001b[1;31m---------------------------------------------------------------------------\u001b[0m",
      "\u001b[1;31mTypeError\u001b[0m                                 Traceback (most recent call last)",
      "\u001b[1;32m~\\AppData\\Local\\Temp/ipykernel_18052/2714293319.py\u001b[0m in \u001b[0;36m<module>\u001b[1;34m\u001b[0m\n\u001b[0;32m      1\u001b[0m \u001b[1;32mfor\u001b[0m \u001b[0mi\u001b[0m \u001b[1;32min\u001b[0m \u001b[0mrange\u001b[0m\u001b[1;33m(\u001b[0m\u001b[1;36m0\u001b[0m\u001b[1;33m,\u001b[0m\u001b[0mlen\u001b[0m\u001b[1;33m(\u001b[0m\u001b[0mlink\u001b[0m\u001b[1;33m)\u001b[0m\u001b[1;33m)\u001b[0m\u001b[1;33m:\u001b[0m\u001b[1;33m\u001b[0m\u001b[1;33m\u001b[0m\u001b[0m\n\u001b[0;32m      2\u001b[0m     \u001b[0mx\u001b[0m \u001b[1;33m=\u001b[0m \u001b[0mcsv_test\u001b[0m\u001b[1;33m[\u001b[0m\u001b[1;34m\"posterLink\"\u001b[0m\u001b[1;33m]\u001b[0m\u001b[1;33m[\u001b[0m\u001b[0mi\u001b[0m\u001b[1;33m]\u001b[0m\u001b[1;33m\u001b[0m\u001b[1;33m\u001b[0m\u001b[0m\n\u001b[1;32m----> 3\u001b[1;33m     \u001b[0mnumber\u001b[0m \u001b[1;33m=\u001b[0m \u001b[0mre\u001b[0m\u001b[1;33m.\u001b[0m\u001b[0mfindall\u001b[0m\u001b[1;33m(\u001b[0m\u001b[1;34m'\\d+'\u001b[0m\u001b[1;33m,\u001b[0m \u001b[0mx\u001b[0m\u001b[1;33m)\u001b[0m\u001b[1;33m[\u001b[0m\u001b[1;36m0\u001b[0m\u001b[1;33m]\u001b[0m\u001b[1;33m\u001b[0m\u001b[1;33m\u001b[0m\u001b[0m\n\u001b[0m\u001b[0;32m      4\u001b[0m \u001b[1;33m\u001b[0m\u001b[0m\n",
      "\u001b[1;32m~\\anaconda3\\lib\\re.py\u001b[0m in \u001b[0;36mfindall\u001b[1;34m(pattern, string, flags)\u001b[0m\n\u001b[0;32m    239\u001b[0m \u001b[1;33m\u001b[0m\u001b[0m\n\u001b[0;32m    240\u001b[0m     Empty matches are included in the result.\"\"\"\n\u001b[1;32m--> 241\u001b[1;33m     \u001b[1;32mreturn\u001b[0m \u001b[0m_compile\u001b[0m\u001b[1;33m(\u001b[0m\u001b[0mpattern\u001b[0m\u001b[1;33m,\u001b[0m \u001b[0mflags\u001b[0m\u001b[1;33m)\u001b[0m\u001b[1;33m.\u001b[0m\u001b[0mfindall\u001b[0m\u001b[1;33m(\u001b[0m\u001b[0mstring\u001b[0m\u001b[1;33m)\u001b[0m\u001b[1;33m\u001b[0m\u001b[1;33m\u001b[0m\u001b[0m\n\u001b[0m\u001b[0;32m    242\u001b[0m \u001b[1;33m\u001b[0m\u001b[0m\n\u001b[0;32m    243\u001b[0m \u001b[1;32mdef\u001b[0m \u001b[0mfinditer\u001b[0m\u001b[1;33m(\u001b[0m\u001b[0mpattern\u001b[0m\u001b[1;33m,\u001b[0m \u001b[0mstring\u001b[0m\u001b[1;33m,\u001b[0m \u001b[0mflags\u001b[0m\u001b[1;33m=\u001b[0m\u001b[1;36m0\u001b[0m\u001b[1;33m)\u001b[0m\u001b[1;33m:\u001b[0m\u001b[1;33m\u001b[0m\u001b[1;33m\u001b[0m\u001b[0m\n",
      "\u001b[1;31mTypeError\u001b[0m: expected string or bytes-like object"
     ]
    }
   ],
   "source": [
    "for i in range(0,len(link)):\n",
    "    x = csv_test[\"posterLink\"][i]\n",
    "    number = re.findall('\\d+', x)[0]\n",
    "    \n"
   ]
  },
  {
   "cell_type": "code",
   "execution_count": null,
   "metadata": {},
   "outputs": [],
   "source": []
  },
  {
   "cell_type": "code",
   "execution_count": 186,
   "metadata": {},
   "outputs": [
    {
     "data": {
      "text/plain": [
       "'18697230'"
      ]
     },
     "execution_count": 186,
     "metadata": {},
     "output_type": "execute_result"
    }
   ],
   "source": [
    "import re\n",
    "x = csv_test[\"posterLink\"][0]\n",
    "number = re.findall('\\d+', x)[0]\n",
    "\n",
    "number"
   ]
  },
  {
   "cell_type": "code",
   "execution_count": null,
   "metadata": {},
   "outputs": [],
   "source": []
  },
  {
   "cell_type": "code",
   "execution_count": null,
   "metadata": {},
   "outputs": [],
   "source": [
    "urls = []\n",
    "for year in map(str,range(1962,2023)):\n",
    "    ss = 'https://www.justwatch.com/kr/%EB%8F%99%EC%98%81%EC%83%81%EC%84%9C%EB%B9%84%EC%8A%A4/netflix?content_type=movie&release_year_from={}&release_year_until={}'.format(year, year)\n",
    "    urls.append(ss)\n",
    "\n",
    "urls"
   ]
  },
  {
   "cell_type": "code",
   "execution_count": 20,
   "metadata": {},
   "outputs": [],
   "source": [
    "x = \"7.3 (27k)\""
   ]
  },
  {
   "cell_type": "code",
   "execution_count": 22,
   "metadata": {},
   "outputs": [
    {
     "data": {
      "text/plain": [
       "'7.3'"
      ]
     },
     "execution_count": 22,
     "metadata": {},
     "output_type": "execute_result"
    }
   ],
   "source": [
    "x.split(\" \")[0]"
   ]
  },
  {
   "cell_type": "code",
   "execution_count": 2,
   "metadata": {
    "vscode": {
     "languageId": "javascript"
    }
   },
   "outputs": [
    {
     "ename": "SyntaxError",
     "evalue": "invalid syntax (Temp/ipykernel_20856/234169970.py, line 1)",
     "output_type": "error",
     "traceback": [
      "\u001b[1;36m  File \u001b[1;32m\"C:\\Users\\Kims\\AppData\\Local\\Temp/ipykernel_20856/234169970.py\"\u001b[1;36m, line \u001b[1;32m1\u001b[0m\n\u001b[1;33m    let result = 0;\u001b[0m\n\u001b[1;37m        ^\u001b[0m\n\u001b[1;31mSyntaxError\u001b[0m\u001b[1;31m:\u001b[0m invalid syntax\n"
     ]
    }
   ],
   "source": []
  },
  {
   "cell_type": "markdown",
   "metadata": {},
   "source": []
  },
  {
   "cell_type": "code",
   "execution_count": null,
   "metadata": {},
   "outputs": [],
   "source": []
  }
 ],
 "metadata": {
  "interpreter": {
   "hash": "46ae208522317b1e0ccd05dd07d6b276f13b06ba5c87d9313b8ca5c34df924de"
  },
  "kernelspec": {
   "display_name": "Python 3.9.7 ('base')",
   "language": "python",
   "name": "python3"
  },
  "language_info": {
   "codemirror_mode": {
    "name": "ipython",
    "version": 3
   },
   "file_extension": ".py",
   "mimetype": "text/x-python",
   "name": "python",
   "nbconvert_exporter": "python",
   "pygments_lexer": "ipython3",
   "version": "3.9.7"
  },
  "orig_nbformat": 4
 },
 "nbformat": 4,
 "nbformat_minor": 2
}
