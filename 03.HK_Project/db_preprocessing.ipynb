{
 "cells": [
  {
   "cell_type": "code",
   "execution_count": 21,
   "metadata": {},
   "outputs": [],
   "source": [
    "# csv파일 읽어오기 ( 왓챠 )\n",
    "import pandas as pd\n",
    "watcha = pd.read_csv(r\"C:\\Users\\Kims\\Desktop\\HK_Project_Team5\\scraping_data\\DB_crawl_fn\\watcha.csv\")\n"
   ]
  },
  {
   "cell_type": "code",
   "execution_count": 22,
   "metadata": {},
   "outputs": [
    {
     "data": {
      "text/html": [
       "<div>\n",
       "<style scoped>\n",
       "    .dataframe tbody tr th:only-of-type {\n",
       "        vertical-align: middle;\n",
       "    }\n",
       "\n",
       "    .dataframe tbody tr th {\n",
       "        vertical-align: top;\n",
       "    }\n",
       "\n",
       "    .dataframe thead th {\n",
       "        text-align: right;\n",
       "    }\n",
       "</style>\n",
       "<table border=\"1\" class=\"dataframe\">\n",
       "  <thead>\n",
       "    <tr style=\"text-align: right;\">\n",
       "      <th></th>\n",
       "      <th>actors</th>\n",
       "      <th>director</th>\n",
       "      <th>genre</th>\n",
       "      <th>imdb_rating</th>\n",
       "      <th>just_rating</th>\n",
       "      <th>opening_date</th>\n",
       "      <th>posterLink</th>\n",
       "      <th>runtime</th>\n",
       "      <th>synopsis</th>\n",
       "      <th>title_kor</th>\n",
       "      <th>netflix</th>\n",
       "      <th>disney-plus</th>\n",
       "      <th>wavve</th>\n",
       "      <th>watcha</th>\n",
       "    </tr>\n",
       "  </thead>\n",
       "  <tbody>\n",
       "    <tr>\n",
       "      <th>5565</th>\n",
       "      <td>SeijiFukushi,HarukaImou,TomoyaMaeno,Hannya,Wat...</td>\n",
       "      <td>YugoSakamoto</td>\n",
       "      <td>액션,드라마</td>\n",
       "      <td>7.1</td>\n",
       "      <td>76%</td>\n",
       "      <td>2022</td>\n",
       "      <td>https://images.justwatch.com/poster/248812373/...</td>\n",
       "      <td>1시간26분</td>\n",
       "      <td>후카미 아키라는 어린 시절 아버지 미쓰오가 누군가에 의해 살해된 이후 일본 지하 세...</td>\n",
       "      <td>야쿠자 어쌔신</td>\n",
       "      <td>0</td>\n",
       "      <td>0</td>\n",
       "      <td>0</td>\n",
       "      <td>1</td>\n",
       "    </tr>\n",
       "  </tbody>\n",
       "</table>\n",
       "</div>"
      ],
      "text/plain": [
       "                                                 actors      director   genre  \\\n",
       "5565  SeijiFukushi,HarukaImou,TomoyaMaeno,Hannya,Wat...  YugoSakamoto  액션,드라마   \n",
       "\n",
       "     imdb_rating just_rating  opening_date  \\\n",
       "5565         7.1         76%          2022   \n",
       "\n",
       "                                             posterLink runtime  \\\n",
       "5565  https://images.justwatch.com/poster/248812373/...  1시간26분   \n",
       "\n",
       "                                               synopsis title_kor  netflix  \\\n",
       "5565  후카미 아키라는 어린 시절 아버지 미쓰오가 누군가에 의해 살해된 이후 일본 지하 세...   야쿠자 어쌔신        0   \n",
       "\n",
       "      disney-plus  wavve  watcha  \n",
       "5565            0      0       1  "
      ]
     },
     "execution_count": 22,
     "metadata": {},
     "output_type": "execute_result"
    }
   ],
   "source": [
    "# 불러온 csv 파일의 불필요한 칼럼 제거\n",
    "watcha.drop([\"Unnamed: 0\"], axis=1, inplace=True)\n",
    "watcha.tail(1)\n"
   ]
  },
  {
   "cell_type": "code",
   "execution_count": 23,
   "metadata": {},
   "outputs": [
    {
     "data": {
      "text/plain": [
       "['actors',\n",
       " 'director',\n",
       " 'genre',\n",
       " 'imdb_rating',\n",
       " 'just_rating',\n",
       " 'opening_date',\n",
       " 'posterLink',\n",
       " 'runtime',\n",
       " 'synopsis',\n",
       " 'title_kor',\n",
       " 'netflix',\n",
       " 'disney-plus',\n",
       " 'wavve',\n",
       " 'watcha']"
      ]
     },
     "execution_count": 23,
     "metadata": {},
     "output_type": "execute_result"
    }
   ],
   "source": [
    "# 컬럼 순서 바꾸기 위해서 컬럼명 확인\n",
    "watcha.columns.tolist()"
   ]
  },
  {
   "cell_type": "code",
   "execution_count": 24,
   "metadata": {},
   "outputs": [],
   "source": [
    "# 컬럼 순서 바꾸기\n",
    "watcha = watcha[['title_kor', 'opening_date', 'just_rating','imdb_rating', 'runtime','synopsis', 'director','actors', 'genre', 'posterLink', 'netflix', 'disney-plus', 'wavve', 'watcha']]"
   ]
  },
  {
   "cell_type": "code",
   "execution_count": null,
   "metadata": {},
   "outputs": [],
   "source": [
    "watcha.tail(3)"
   ]
  },
  {
   "cell_type": "code",
   "execution_count": 27,
   "metadata": {},
   "outputs": [],
   "source": [
    "watcha.to_csv(\"watcha.csv\")"
   ]
  },
  {
   "cell_type": "code",
   "execution_count": 28,
   "metadata": {},
   "outputs": [],
   "source": [
    "import pandas as pd\n",
    "import re\n",
    "import pymysql"
   ]
  },
  {
   "cell_type": "code",
   "execution_count": null,
   "metadata": {},
   "outputs": [],
   "source": []
  },
  {
   "cell_type": "code",
   "execution_count": 29,
   "metadata": {},
   "outputs": [],
   "source": [
    "# ProgrammingError: nan can not be used with MySQL 에러 방지\n",
    "# MySQL이 파이썬의 NaN을 받아들이지 못하므로, 모두 None로 변경한다.\n",
    "watcha = watcha.where((pd.notnull(watcha)), None)"
   ]
  },
  {
   "cell_type": "code",
   "execution_count": 30,
   "metadata": {},
   "outputs": [],
   "source": [
    "# 1. 데이터베이스 연결\n",
    "db = pymysql.connect(host='3.35.111.73', port=3306, user='carbon', password='1111',\n",
    "                     db='MOVIS_db', charset='utf8')   # charset: 인코딩 설정\n",
    "\n",
    "# 2. curosr 사용\n",
    "cursor = db.cursor() \n",
    "\n",
    "# 3. 쿼리문 작성\n",
    "# 컬럼명: 테이블의 컬럼명과 동일하게 입력\n",
    "# %s 개수: 컬럼 개수만큼 입력\n",
    "sql = 'INSERT INTO watcha(title ,opening_date ,just_rating ,imdb_rating ,runtime ,synopsis ,director ,actors ,genre ,poster_link, netflix, disneyplus, wavve, watcha) VALUES(%s, %s, %s, %s, %s, %s, %s, %s, %s, %s, %s,%s, %s, %s)'\n",
    "\n",
    "# 4. 데이터 import\n",
    "for idx in range(len(watcha)):\n",
    "    cursor.execute(sql, tuple(watcha.values[idx]))\n",
    "\n",
    "# 5. 데이터베이스 업데이트 및 작업 종료\n",
    "db.commit() \n",
    "\n",
    "# 6. 데이터베이스 닫기 \n",
    "db.close() "
   ]
  },
  {
   "cell_type": "code",
   "execution_count": 1,
   "metadata": {},
   "outputs": [
    {
     "data": {
      "text/html": [
       "<div>\n",
       "<style scoped>\n",
       "    .dataframe tbody tr th:only-of-type {\n",
       "        vertical-align: middle;\n",
       "    }\n",
       "\n",
       "    .dataframe tbody tr th {\n",
       "        vertical-align: top;\n",
       "    }\n",
       "\n",
       "    .dataframe thead th {\n",
       "        text-align: right;\n",
       "    }\n",
       "</style>\n",
       "<table border=\"1\" class=\"dataframe\">\n",
       "  <thead>\n",
       "    <tr style=\"text-align: right;\">\n",
       "      <th></th>\n",
       "      <th>id</th>\n",
       "      <th>title</th>\n",
       "      <th>release</th>\n",
       "      <th>just_rating</th>\n",
       "      <th>imdb_rating</th>\n",
       "      <th>runtime</th>\n",
       "      <th>synopsis</th>\n",
       "      <th>director</th>\n",
       "      <th>actors</th>\n",
       "      <th>genre</th>\n",
       "      <th>poster_link</th>\n",
       "      <th>netflix</th>\n",
       "      <th>disney</th>\n",
       "      <th>wavve</th>\n",
       "      <th>watcha</th>\n",
       "    </tr>\n",
       "  </thead>\n",
       "  <tbody>\n",
       "    <tr>\n",
       "      <th>14669</th>\n",
       "      <td>238715177</td>\n",
       "      <td>리치 앤 스트레인지</td>\n",
       "      <td>1931</td>\n",
       "      <td>61%</td>\n",
       "      <td>5.7</td>\n",
       "      <td>1시간23분</td>\n",
       "      <td>영화는 노동자인 프레드와 그의 부인 에밀리가 그들이 살아있는 동안 평생 뭐든지 할 ...</td>\n",
       "      <td>AlfredHitchcock</td>\n",
       "      <td>HenryKendall,JoanBarry,PercyMarmont,BettyAmann...</td>\n",
       "      <td>드라마,로맨스,코미디,스릴러</td>\n",
       "      <td>https://images.justwatch.com/poster/238715177/...</td>\n",
       "      <td>0</td>\n",
       "      <td>0</td>\n",
       "      <td>1</td>\n",
       "      <td>1</td>\n",
       "    </tr>\n",
       "    <tr>\n",
       "      <th>14670</th>\n",
       "      <td>56081718</td>\n",
       "      <td>공공의 적</td>\n",
       "      <td>1931</td>\n",
       "      <td>81%</td>\n",
       "      <td>7.6</td>\n",
       "      <td>1시간23분</td>\n",
       "      <td>금주령 시대 탐 파워스는 술집 당구장 등을 어슬렁대며 퍼티 노우즈 같은 불량한 친구...</td>\n",
       "      <td>WilliamA.Wellman</td>\n",
       "      <td>JamesCagney,JeanHarlow,EdwardWoods,JoanBlondel...</td>\n",
       "      <td>드라마,범죄</td>\n",
       "      <td>https://images.justwatch.com/poster/56081718/s592</td>\n",
       "      <td>0</td>\n",
       "      <td>0</td>\n",
       "      <td>1</td>\n",
       "      <td>1</td>\n",
       "    </tr>\n",
       "    <tr>\n",
       "      <th>14671</th>\n",
       "      <td>18697230</td>\n",
       "      <td>증기선 윌리</td>\n",
       "      <td>1928</td>\n",
       "      <td>80%</td>\n",
       "      <td>80%</td>\n",
       "      <td>8min</td>\n",
       "      <td>첫 미키 마우스 애니메이션 개봉작이자 동시 녹음을 활용한 최초의 애니메이션 배 위의...</td>\n",
       "      <td>UbIwerks</td>\n",
       "      <td>WaltDisney</td>\n",
       "      <td>애니메이션</td>\n",
       "      <td>https://images.justwatch.com/poster/18697230/s592</td>\n",
       "      <td>0</td>\n",
       "      <td>1</td>\n",
       "      <td>0</td>\n",
       "      <td>0</td>\n",
       "    </tr>\n",
       "  </tbody>\n",
       "</table>\n",
       "</div>"
      ],
      "text/plain": [
       "              id       title  release just_rating imdb_rating runtime  \\\n",
       "14669  238715177  리치 앤 스트레인지     1931         61%         5.7  1시간23분   \n",
       "14670   56081718       공공의 적     1931         81%         7.6  1시간23분   \n",
       "14671   18697230      증기선 윌리     1928         80%         80%    8min   \n",
       "\n",
       "                                                synopsis          director  \\\n",
       "14669  영화는 노동자인 프레드와 그의 부인 에밀리가 그들이 살아있는 동안 평생 뭐든지 할 ...   AlfredHitchcock   \n",
       "14670  금주령 시대 탐 파워스는 술집 당구장 등을 어슬렁대며 퍼티 노우즈 같은 불량한 친구...  WilliamA.Wellman   \n",
       "14671  첫 미키 마우스 애니메이션 개봉작이자 동시 녹음을 활용한 최초의 애니메이션 배 위의...          UbIwerks   \n",
       "\n",
       "                                                  actors            genre  \\\n",
       "14669  HenryKendall,JoanBarry,PercyMarmont,BettyAmann...  드라마,로맨스,코미디,스릴러   \n",
       "14670  JamesCagney,JeanHarlow,EdwardWoods,JoanBlondel...           드라마,범죄   \n",
       "14671                                         WaltDisney            애니메이션   \n",
       "\n",
       "                                             poster_link  netflix  disney  \\\n",
       "14669  https://images.justwatch.com/poster/238715177/...        0       0   \n",
       "14670  https://images.justwatch.com/poster/56081718/s592        0       0   \n",
       "14671  https://images.justwatch.com/poster/18697230/s592        0       1   \n",
       "\n",
       "       wavve  watcha  \n",
       "14669      1       1  \n",
       "14670      1       1  \n",
       "14671      0       0  "
      ]
     },
     "execution_count": 1,
     "metadata": {},
     "output_type": "execute_result"
    }
   ],
   "source": [
    "# csv파일 읽어오기 ( 전체)\n",
    "import pandas as pd\n",
    "movie = pd.read_csv(r\"C:\\Users\\Kims\\Desktop\\HK_Project_Team5\\scraping_data\\DB_crawl_fn\\synopsis_filter.csv\")\n",
    "# movie.drop([\"Unnamed: 0\"], axis=1, inplace=True)\n",
    "movie.tail(3)"
   ]
  },
  {
   "cell_type": "code",
   "execution_count": 5,
   "metadata": {},
   "outputs": [],
   "source": [
    "import pandas as pd\n",
    "import re\n",
    "import pymysql\n",
    "\n",
    "movie = movie.where((pd.notnull(movie)), None)\n"
   ]
  },
  {
   "cell_type": "code",
   "execution_count": 6,
   "metadata": {},
   "outputs": [],
   "source": [
    "# 1. 데이터베이스 연결\n",
    "db = pymysql.connect(host='3.35.111.73', port=3306, user='carbon', password='1111',\n",
    "                     db='MOVIS_db', charset='utf8mb4')   # charset: 인코딩 설정\n",
    "\n",
    "# 2. curosr 사용\n",
    "cursor = db.cursor() \n",
    "\n",
    "# 3. 쿼리문 작성\n",
    "# 컬럼명: 테이블의 컬럼명과 동일하게 입력\n",
    "# %s 개수: 컬럼 개수만큼 입력\n",
    "sql = 'INSERT INTO movie(id,title ,opening_date ,just_rating ,imdb_rating ,runtime ,synopsis ,director ,actors ,genre ,poster_link, netflix, disneyplus, wavve, watcha) VALUES(%s, %s, %s, %s, %s, %s, %s, %s, %s, %s, %s, %s,%s, %s, %s)'\n",
    "\n",
    "# 4. 데이터 import\n",
    "for idx in range(len(movie)):\n",
    "    cursor.execute(sql, tuple(movie.values[idx]))\n",
    "\n",
    "# 5. 데이터베이스 업데이트 및 작업 종료\n",
    "db.commit() \n",
    "\n",
    "# 6. 데이터베이스 닫기 \n",
    "db.close() "
   ]
  },
  {
   "cell_type": "markdown",
   "metadata": {},
   "source": []
  },
  {
   "cell_type": "code",
   "execution_count": 4,
   "metadata": {},
   "outputs": [],
   "source": [
    "db.close() "
   ]
  },
  {
   "cell_type": "code",
   "execution_count": null,
   "metadata": {},
   "outputs": [],
   "source": []
  }
 ],
 "metadata": {
  "interpreter": {
   "hash": "46ae208522317b1e0ccd05dd07d6b276f13b06ba5c87d9313b8ca5c34df924de"
  },
  "kernelspec": {
   "display_name": "Python 3.9.7 ('base')",
   "language": "python",
   "name": "python3"
  },
  "language_info": {
   "codemirror_mode": {
    "name": "ipython",
    "version": 3
   },
   "file_extension": ".py",
   "mimetype": "text/x-python",
   "name": "python",
   "nbconvert_exporter": "python",
   "pygments_lexer": "ipython3",
   "version": "3.9.7"
  },
  "orig_nbformat": 4
 },
 "nbformat": 4,
 "nbformat_minor": 2
}
