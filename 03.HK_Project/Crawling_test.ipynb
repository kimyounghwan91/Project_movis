{
 "cells": [
  {
   "cell_type": "markdown",
   "metadata": {},
   "source": [
    "### BeautifulSoup 사용해서 저스트와치 상세페이지 포스터 이미지 다운로드"
   ]
  },
  {
   "cell_type": "code",
   "execution_count": 313,
   "metadata": {},
   "outputs": [
    {
     "data": {
      "text/plain": [
       "'yeojayi-hamjeong'"
      ]
     },
     "execution_count": 313,
     "metadata": {},
     "output_type": "execute_result"
    }
   ],
   "source": [
    "# csv파일 읽어오기\n",
    "import pandas as pd\n",
    "csv_test = pd.read_csv(\"C:/Users/Kims/Desktop/HK_Project_Team5/key_wavve.csv\")\n",
    "csv_test.head()\n",
    "csv_test2 = csv_test.drop([\"Unnamed: 0\"], axis=1)\n",
    "csv_test03 = csv_test2['~03']\n",
    "csv_test03.values[1090]"
   ]
  },
  {
   "cell_type": "markdown",
   "metadata": {},
   "source": [
    "#### 영화 poster 크롤링 "
   ]
  },
  {
   "cell_type": "code",
   "execution_count": 135,
   "metadata": {},
   "outputs": [],
   "source": [
    "import urllib.request\n",
    "from bs4 import BeautifulSoup\n",
    "path = \"crawled_img/\"\n",
    "target_url = \"https://www.justwatch.com/kr/%EC%98%81%ED%99%94/{}\".format(i)\n",
    "for i in csv_test03.values[0:30]:\n",
    "    req = urllib.request.Request(target_url)\n",
    "    res = urllib.request.urlopen(target_url).read()\n",
    "    target_url = \"https://www.justwatch.com/kr/%EC%98%81%ED%99%94/{}\".format(i)\n",
    "    soup = BeautifulSoup(res, 'html.parser') # soup을 이용해 url를 parser    \n",
    "    poster = soup.find(\"div\", class_=\"title-poster title-poster--no-radius-bottom\") # 포스터 태그로 이동\n",
    "    filename = poster.find(\"img\")[\"alt\"]\n",
    "    filename = \"\".join(i for i in filename if i not in \"\\/:*?<>|\")\n",
    "    img_url = poster.find(\"img\")[\"data-src\"]# 포스터 태그에서 img의 경로를 받아온다 \n",
    "    \n",
    "    urllib.request.urlretrieve(img_url, path+'/'+filename+'.jpg') # urlretrieve는 다운로드 함수, 경로지정,# img.alt 는 이미지 이름"
   ]
  },
  {
   "cell_type": "code",
   "execution_count": 38,
   "metadata": {},
   "outputs": [
    {
     "name": "stdout",
     "output_type": "stream",
     "text": [
      " 귀여운 여인   (1990)  원제: Pretty Woman\n"
     ]
    }
   ],
   "source": [
    "# title 태그로 이동\n",
    "title = soup.find(\"div\", class_=\"title-block\")\n",
    "# title태그에서 제목 \n",
    "title_kor = title.find(\"h1\").get_text()\n",
    "# title태그에서 개봉일\n",
    "opening_data = title.find(\"span\", class_=\"text-muted\").get_text()\n",
    "# title태그에서 원제 가져오기\n",
    "origin_title = title.find(\"h3\").get_text()\n",
    "\n",
    "\n",
    "print(title_kor, opening_data, origin_title)\n"
   ]
  },
  {
   "cell_type": "markdown",
   "metadata": {},
   "source": [
    "### 세부정보는 통으로 크롤링이 가능하지만 DT로 분류시에 문제가 발생할 가능성이 있음\n",
    "ex) ㅣ장르ㅣ SF, 액션, 드라마 와 같은 형태로 불러와질수있도록 해야할것같음"
   ]
  },
  {
   "cell_type": "code",
   "execution_count": 39,
   "metadata": {},
   "outputs": [],
   "source": [
    "soup = BeautifulSoup(res, 'html.parser')\n",
    "# detail info태그로 이동\n",
    "rate = soup.find_all(\"div\", class_=\"detail-infos\")"
   ]
  },
  {
   "cell_type": "code",
   "execution_count": 212,
   "metadata": {},
   "outputs": [],
   "source": [
    "actorsList = []"
   ]
  },
  {
   "cell_type": "code",
   "execution_count": 297,
   "metadata": {},
   "outputs": [
    {
     "name": "stdout",
     "output_type": "stream",
     "text": [
      "['Daniel Radcliffe', 'Rupert Grint', 'Emma Watson', 'Richard Harris', 'Tom Felton', 'Alan Rickman', 'Robbie Coltrane', 'Maggie Smith', 'Richard Griffiths', 'Ian Hart', 'Fiona Shaw', 'John Hurt', 'David Bradley', 'Matthew Lewis', 'Sean Biggerstaff', 'Warwick Davis', 'Harry Melling', 'James Phelps', 'Oliver Phelps', 'John Cleese', 'Chris Rankin', 'Alfred Enoch', 'Devon Murray', 'Jamie Waylett', 'Josh Herdman', 'Zoë Wanamaker', 'Julie Walters', 'Bonnie Wright', 'Luke Youngblood', 'Verne Troyer', 'Adrian Rawlins', 'Geraldine Somerville', 'Elizabeth Spriggs', 'Richard Bremmer', 'Nina Young', 'Terence Bayler', 'Harry Taylor', 'Jean Southern', 'Leslie Phillips', 'Simon Fisher-Becker', 'Derek Deadman', 'Ray Fearon', 'Eleanor Columbus', 'Ben Borowiecki', 'Danielle Tabor', 'Leilah Sutherland', 'Emily Dale', 'Will Theakston', 'Scot Fearn', 'Saunders Triplets', 'Kieri Kennedy', 'Leila Hoffman', 'Julianne Hough', 'Zoe Sugg', 'Jimmy Vee', 'Derek Hough', 'Dani Harmer', 'Mark Ballas']\n"
     ]
    },
    {
     "data": {
      "text/plain": [
       "str"
      ]
     },
     "execution_count": 297,
     "metadata": {},
     "output_type": "execute_result"
    }
   ],
   "source": [
    "# 출연진 가져오기 - 배우명 가져오기\n",
    "target_url = \"https://www.justwatch.com/kr/%EC%98%81%ED%99%94/harry-potter-and-the-philosophers-stone\"\n",
    "html = urllib.request.urlopen(target_url).read()\n",
    "soup = BeautifulSoup(html, \"html.parser\")\n",
    "actors = soup.find(\"div\", class_=\"hidden-horizontal-scrollbar__items\")\n",
    "actors = actors.find_all(\"a\", class_=\"title-credit-name\")\n",
    "actors_list = []\n",
    "for actor in actors:    \n",
    "    actor = actor.get_text().strip()\n",
    "    actors_list.append(actor)\n",
    "print(actors_list)\n",
    "type(actors_list[0])\n"
   ]
  },
  {
   "cell_type": "code",
   "execution_count": 214,
   "metadata": {},
   "outputs": [
    {
     "name": "stdout",
     "output_type": "stream",
     "text": [
      "[['Daniel Radcliffe', 'Rupert Grint', 'Emma Watson', 'Richard Harris', 'Tom Felton', 'Alan Rickman', 'Robbie Coltrane', 'Maggie Smith', 'Richard Griffiths', 'Ian Hart', 'Fiona Shaw', 'John Hurt', 'David Bradley', 'Matthew Lewis', 'Sean Biggerstaff', 'Warwick Davis', 'Harry Melling', 'James Phelps', 'Oliver Phelps', 'John Cleese', 'Chris Rankin', 'Alfred Enoch', 'Devon Murray', 'Jamie Waylett', 'Josh Herdman', 'Zoë Wanamaker', 'Julie Walters', 'Bonnie Wright', 'Luke Youngblood', 'Verne Troyer', 'Adrian Rawlins', 'Geraldine Somerville', 'Elizabeth Spriggs', 'Richard Bremmer', 'Nina Young', 'Terence Bayler', 'Harry Taylor', 'Jean Southern', 'Leslie Phillips', 'Simon Fisher-Becker', 'Derek Deadman', 'Ray Fearon', 'Eleanor Columbus', 'Ben Borowiecki', 'Danielle Tabor', 'Leilah Sutherland', 'Emily Dale', 'Will Theakston', 'Scot Fearn', 'Saunders Triplets', 'Kieri Kennedy', 'Leila Hoffman', 'Julianne Hough', 'Zoe Sugg', 'Jimmy Vee', 'Derek Hough', 'Dani Harmer', 'Mark Ballas']]\n"
     ]
    }
   ],
   "source": [
    "print(actorsList)"
   ]
  },
  {
   "cell_type": "code",
   "execution_count": 92,
   "metadata": {},
   "outputs": [
    {
     "name": "stdout",
     "output_type": "stream",
     "text": [
      "해리 포터는 위압적인 버논 숙부와 냉담한 이모 페투니아, 욕심 많고 버릇없는 사촌 더즐리 밑에서 갖은 구박을 견디며 계단 밑 벽장에서 생활한다. 이모네 식구들 역시 해리와의 동거가 불편하기는 마찬가지. 이모 페투니아에겐 해리가 이상한 언니 부부에 관한 기억을 떠올리게 만드는 달갑지 않은 존재다. 11살 생일이 며칠 앞으로 다가왔지만 한번도 생일파티를 치르거나 제대로 된 생일선물을 받아 본 적이 없는 해리로서는 특별히 신날 것도 기대 할 것도 없다. 11살 생일을 며칠 앞둔 어느 날 해리에게 초록색 잉크로 쓰여진 한 통의 편지가 배달된다. 그 편지의 내용은 다름 아닌 해리의 11살 생일을 맞이하여 호그와트에서 보낸 입학 초대장이었다. 그리고 해리의 생일을 축하하러 온 거인 해그리드는 해리가 모르고 있었던 해리의 진정한 정체를 알려주는데...\n"
     ]
    }
   ],
   "source": [
    "# 시놉시스 copy-selector 로 가져오기 \n",
    "# 가장 마지막 부분의 있는 :nth-child()  부분은 지워주어야함\n",
    "# 예시) #base > div.jw-info-box > div > div.jw-info-box__container-content > div:nth-child(2) > div:nth-child(6) > div:nth-child(1) > div:nth-child() <- 이곳 마지막부분을 지워야함 > p > span\n",
    "target_url = \"https://www.justwatch.com/kr/%EC%98%81%ED%99%94/harry-potter-and-the-philosophers-stone\"\n",
    "html = urllib.request.urlopen(target_url).read()\n",
    "soup = BeautifulSoup(html, \"html.parser\")\n",
    "synopsis = soup.select(\"#base > div.jw-info-box > div > div.jw-info-box__container-content > div:nth-child(2) > div > div > div > p > span\")\n",
    "print(synopsis[0].get_text())"
   ]
  },
  {
   "cell_type": "code",
   "execution_count": 42,
   "metadata": {},
   "outputs": [
    {
     "name": "stdout",
     "output_type": "stream",
     "text": [
      "평점 87%  7.6 (742k) 장르판타지 , 액션 , 가족 재생 시간2시간 32분 감독 Chris Columbus\n"
     ]
    }
   ],
   "source": [
    "# 가져와야 할 detail_info 정보의 태그를 가져온다\n",
    "detail_info = soup.find(\"div\", {\"class\": \"title-info visible-xs visible-sm\"})\n",
    "divs = detail_info.find_all(\"div\")\n",
    "for div in divs:\n",
    "        div_2 = soup.find_all(\"div\", class_=\"detail-infos\")\n",
    "        rate = div_2[0].text.strip()\n",
    "        genre = div_2[1].text.strip()\n",
    "        runtime = div_2[2].text.strip()\n",
    "        director = div_2[3].text.strip()\n",
    "print(rate, genre, runtime,director)              "
   ]
  },
  {
   "cell_type": "code",
   "execution_count": 2,
   "metadata": {},
   "outputs": [
    {
     "data": {
      "text/html": [
       "<div>\n",
       "<style scoped>\n",
       "    .dataframe tbody tr th:only-of-type {\n",
       "        vertical-align: middle;\n",
       "    }\n",
       "\n",
       "    .dataframe tbody tr th {\n",
       "        vertical-align: top;\n",
       "    }\n",
       "\n",
       "    .dataframe thead th {\n",
       "        text-align: right;\n",
       "    }\n",
       "</style>\n",
       "<table border=\"1\" class=\"dataframe\">\n",
       "  <thead>\n",
       "    <tr style=\"text-align: right;\">\n",
       "      <th></th>\n",
       "      <th>Unnamed: 0</th>\n",
       "      <th>~03</th>\n",
       "      <th>04~11</th>\n",
       "      <th>12~14</th>\n",
       "      <th>15~16</th>\n",
       "      <th>17~18</th>\n",
       "      <th>19~20</th>\n",
       "      <th>21~22</th>\n",
       "    </tr>\n",
       "  </thead>\n",
       "  <tbody>\n",
       "    <tr>\n",
       "      <th>0</th>\n",
       "      <td>0</td>\n",
       "      <td>banjiyi-jewang-banji-weonjeongdae</td>\n",
       "      <td>the-time-travelers-wife</td>\n",
       "      <td>john-wick</td>\n",
       "      <td>13sigan</td>\n",
       "      <td>murder-on-the-orient-express</td>\n",
       "      <td>bugseumateu</td>\n",
       "      <td>peurenci-diseupaeci</td>\n",
       "    </tr>\n",
       "    <tr>\n",
       "      <th>1</th>\n",
       "      <td>1</td>\n",
       "      <td>namsaegdaemun</td>\n",
       "      <td>peuropojeu</td>\n",
       "      <td>the-grand-budapest-hotel</td>\n",
       "      <td>miseu-seulroun</td>\n",
       "      <td>the-witch-part-1-the-subversion</td>\n",
       "      <td>jokeo</td>\n",
       "      <td>ssing2gedeo</td>\n",
       "    </tr>\n",
       "    <tr>\n",
       "      <th>2</th>\n",
       "      <td>2</td>\n",
       "      <td>meolholraendeu-deuraibeu</td>\n",
       "      <td>the-prestige</td>\n",
       "      <td>begin-again</td>\n",
       "      <td>fantastic-beasts-and-where-to-find-them</td>\n",
       "      <td>redi-peulreieo-weon</td>\n",
       "      <td>1917</td>\n",
       "      <td>dyun</td>\n",
       "    </tr>\n",
       "    <tr>\n",
       "      <th>3</th>\n",
       "      <td>3</td>\n",
       "      <td>harry-potter-and-the-philosophers-stone</td>\n",
       "      <td>the-debt</td>\n",
       "      <td>the-dark-knight-rises</td>\n",
       "      <td>maedeu-maegseu-bunnoyi-doro</td>\n",
       "      <td>asako</td>\n",
       "      <td>peoseuteu-kau</td>\n",
       "      <td>benom-2-res-deeo-bi-kaniji</td>\n",
       "    </tr>\n",
       "    <tr>\n",
       "      <th>4</th>\n",
       "      <td>4</td>\n",
       "      <td>peolpeu-pigsyeon</td>\n",
       "      <td>inception</td>\n",
       "      <td>whiplash</td>\n",
       "      <td>keontaegteu</td>\n",
       "      <td>benom</td>\n",
       "      <td>megi</td>\n",
       "      <td>deo-raseuteu-dyueol</td>\n",
       "    </tr>\n",
       "  </tbody>\n",
       "</table>\n",
       "</div>"
      ],
      "text/plain": [
       "   Unnamed: 0                                      ~03  \\\n",
       "0           0        banjiyi-jewang-banji-weonjeongdae   \n",
       "1           1                            namsaegdaemun   \n",
       "2           2                 meolholraendeu-deuraibeu   \n",
       "3           3  harry-potter-and-the-philosophers-stone   \n",
       "4           4                         peolpeu-pigsyeon   \n",
       "\n",
       "                     04~11                     12~14  \\\n",
       "0  the-time-travelers-wife                 john-wick   \n",
       "1               peuropojeu  the-grand-budapest-hotel   \n",
       "2             the-prestige               begin-again   \n",
       "3                 the-debt     the-dark-knight-rises   \n",
       "4                inception                  whiplash   \n",
       "\n",
       "                                     15~16                            17~18  \\\n",
       "0                                  13sigan     murder-on-the-orient-express   \n",
       "1                           miseu-seulroun  the-witch-part-1-the-subversion   \n",
       "2  fantastic-beasts-and-where-to-find-them              redi-peulreieo-weon   \n",
       "3              maedeu-maegseu-bunnoyi-doro                            asako   \n",
       "4                              keontaegteu                            benom   \n",
       "\n",
       "           19~20                       21~22  \n",
       "0    bugseumateu         peurenci-diseupaeci  \n",
       "1          jokeo                 ssing2gedeo  \n",
       "2           1917                        dyun  \n",
       "3  peoseuteu-kau  benom-2-res-deeo-bi-kaniji  \n",
       "4           megi         deo-raseuteu-dyueol  "
      ]
     },
     "execution_count": 2,
     "metadata": {},
     "output_type": "execute_result"
    }
   ],
   "source": [
    "# csv파일 읽어오기\n",
    "import pandas as pd\n",
    "csv_test = pd.read_csv(\"C:/Users/Kims/Desktop/HK_Project_Team5/key_wavve.csv\")\n",
    "csv_test.head()"
   ]
  },
  {
   "cell_type": "code",
   "execution_count": 298,
   "metadata": {},
   "outputs": [],
   "source": [
    "csv_test2 = csv_test.drop([\"Unnamed: 0\"], axis=1)\n",
    "csv_test03 = csv_test2['~03']\n",
    "csv_test03.values[1026]"
   ]
  },
  {
   "cell_type": "code",
   "execution_count": 302,
   "metadata": {},
   "outputs": [],
   "source": [
    "title_list =[]\n",
    "openingdate_list = []\n",
    "rate_list = []\n",
    "genre_list = []\n",
    "runtime_list = []\n",
    "director_list = []\n",
    "synopsis_list = []\n",
    "ac_list = []"
   ]
  },
  {
   "cell_type": "code",
   "execution_count": 317,
   "metadata": {},
   "outputs": [
    {
     "ename": "IndexError",
     "evalue": "list index out of range",
     "output_type": "error",
     "traceback": [
      "\u001b[1;31m---------------------------------------------------------------------------\u001b[0m",
      "\u001b[1;31mIndexError\u001b[0m                                Traceback (most recent call last)",
      "\u001b[1;32m~\\AppData\\Local\\Temp/ipykernel_18152/1039489956.py\u001b[0m in \u001b[0;36m<module>\u001b[1;34m\u001b[0m\n\u001b[0;32m     62\u001b[0m     \u001b[0mtarget_url\u001b[0m \u001b[1;33m=\u001b[0m \u001b[1;34m\"https://www.justwatch.com/kr/%EC%98%81%ED%99%94/{}\"\u001b[0m\u001b[1;33m.\u001b[0m\u001b[0mformat\u001b[0m\u001b[1;33m(\u001b[0m\u001b[0mi\u001b[0m\u001b[1;33m)\u001b[0m\u001b[1;33m\u001b[0m\u001b[1;33m\u001b[0m\u001b[0m\n\u001b[0;32m     63\u001b[0m     \u001b[0msoup\u001b[0m \u001b[1;33m=\u001b[0m \u001b[0mget_soup\u001b[0m\u001b[1;33m(\u001b[0m\u001b[0mtarget_url\u001b[0m\u001b[1;33m)\u001b[0m\u001b[1;33m\u001b[0m\u001b[1;33m\u001b[0m\u001b[0m\n\u001b[1;32m---> 64\u001b[1;33m     \u001b[0mextract_data\u001b[0m\u001b[1;33m(\u001b[0m\u001b[0msoup\u001b[0m\u001b[1;33m)\u001b[0m\u001b[1;33m\u001b[0m\u001b[1;33m\u001b[0m\u001b[0m\n\u001b[0m",
      "\u001b[1;32m~\\AppData\\Local\\Temp/ipykernel_18152/1039489956.py\u001b[0m in \u001b[0;36mextract_data\u001b[1;34m(soup)\u001b[0m\n\u001b[0;32m     32\u001b[0m     \u001b[0mtitle_kor\u001b[0m \u001b[1;33m=\u001b[0m \u001b[0mtitle\u001b[0m\u001b[1;33m.\u001b[0m\u001b[0mfind\u001b[0m\u001b[1;33m(\u001b[0m\u001b[1;34m\"h1\"\u001b[0m\u001b[1;33m)\u001b[0m\u001b[1;33m.\u001b[0m\u001b[0mget_text\u001b[0m\u001b[1;33m(\u001b[0m\u001b[1;33m)\u001b[0m\u001b[1;33m.\u001b[0m\u001b[0mstrip\u001b[0m\u001b[1;33m(\u001b[0m\u001b[1;33m)\u001b[0m\u001b[1;33m\u001b[0m\u001b[1;33m\u001b[0m\u001b[0m\n\u001b[0;32m     33\u001b[0m     \u001b[0mopening_data\u001b[0m \u001b[1;33m=\u001b[0m \u001b[0mtitle\u001b[0m\u001b[1;33m.\u001b[0m\u001b[0mfind\u001b[0m\u001b[1;33m(\u001b[0m\u001b[1;34m\"span\"\u001b[0m\u001b[1;33m,\u001b[0m \u001b[0mclass_\u001b[0m\u001b[1;33m=\u001b[0m\u001b[1;34m\"text-muted\"\u001b[0m\u001b[1;33m)\u001b[0m\u001b[1;33m.\u001b[0m\u001b[0mget_text\u001b[0m\u001b[1;33m(\u001b[0m\u001b[1;33m)\u001b[0m\u001b[1;33m.\u001b[0m\u001b[0mstrip\u001b[0m\u001b[1;33m(\u001b[0m\u001b[1;33m)\u001b[0m\u001b[1;33m\u001b[0m\u001b[1;33m\u001b[0m\u001b[0m\n\u001b[1;32m---> 34\u001b[1;33m     \u001b[0msynopsis\u001b[0m \u001b[1;33m=\u001b[0m \u001b[0msoup\u001b[0m\u001b[1;33m.\u001b[0m\u001b[0mselect\u001b[0m\u001b[1;33m(\u001b[0m\u001b[1;34m\"#base > div.jw-info-box > div > div.jw-info-box__container-content > div:nth-child(2) > div > div > div > p > span\"\u001b[0m\u001b[1;33m)\u001b[0m\u001b[1;33m[\u001b[0m\u001b[1;36m0\u001b[0m\u001b[1;33m]\u001b[0m\u001b[1;33m.\u001b[0m\u001b[0mtext\u001b[0m\u001b[1;33m.\u001b[0m\u001b[0mstrip\u001b[0m\u001b[1;33m(\u001b[0m\u001b[1;33m)\u001b[0m\u001b[1;33m\u001b[0m\u001b[1;33m\u001b[0m\u001b[0m\n\u001b[0m\u001b[0;32m     35\u001b[0m     \u001b[1;32mtry\u001b[0m\u001b[1;33m:\u001b[0m\u001b[1;33m\u001b[0m\u001b[1;33m\u001b[0m\u001b[0m\n\u001b[0;32m     36\u001b[0m         \u001b[0msynopsis\u001b[0m\u001b[1;33m\u001b[0m\u001b[1;33m\u001b[0m\u001b[0m\n",
      "\u001b[1;31mIndexError\u001b[0m: list index out of range"
     ]
    }
   ],
   "source": [
    "from urllib.request import urlopen\n",
    "from bs4 import BeautifulSoup\n",
    "import urllib.request\n",
    "\n",
    "\n",
    "\n",
    "def get_soup(target_url):\n",
    "    html = urllib.request.urlopen(target_url)\n",
    "    soup = BeautifulSoup(html, \"html.parser\")\n",
    "    return soup\n",
    "\n",
    "def extract_data(soup):\n",
    "    detail_info = soup.find(\"div\", {\"class\": \"title-info visible-xs visible-sm\"})\n",
    "    divs = detail_info.find_all(\"div\")    \n",
    "    div_2 = soup.find_all(\"div\", class_=\"detail-infos\")\n",
    "    rate = div_2[0].text.strip().replace(\"평점\",\"\")\n",
    "    genre = div_2[1].text.strip().replace(\"장르\",\"\")\n",
    "    runtime = div_2[2].text.strip().replace(\"재생 시간\",\"\")\n",
    "    director = div_2[3].text.strip().replace(\"감독\",\"\")\n",
    "\n",
    "\n",
    "    actors = soup.find(\"div\", class_=\"hidden-horizontal-scrollbar__items\")\n",
    "    actors = actors.find_all(\"a\", class_=\"title-credit-name\")\n",
    "    actors_list = []\n",
    "    for actor in actors:\n",
    "        actor = actor.get_text().strip()\n",
    "        actors_list.append(actor)\n",
    "    actors_list = \",\".join(actors_list)   #여기까지 tpye은 스트링 출력\n",
    "\n",
    "    title = soup.find(\"div\", class_=\"title-block\")\n",
    "    title_kor = title.find(\"h1\").get_text().strip()\n",
    "    opening_data = title.find(\"span\", class_=\"text-muted\").get_text().strip()\n",
    "    synopsis = soup.select(\"#base > div.jw-info-box > div > div.jw-info-box__container-content > div:nth-child(2) > div > div > div > p > span\")[0].text.strip()\n",
    "    try:\n",
    "        synopsis\n",
    "    except IndexError:\n",
    "        pass\n",
    "        \n",
    "    \n",
    "    # if synopsis == None or synopsis == '':\n",
    "    #     synopsis = None\n",
    "    \n",
    "   \n",
    "    title_list.append(title_kor)\n",
    "    openingdate_list.append(opening_data)\n",
    "    rate_list.append(rate)\n",
    "    genre_list.append(genre)\n",
    "    runtime_list.append(runtime)\n",
    "    director_list.append(director)\n",
    "    synopsis_list.append(synopsis)\n",
    "    ac_list.append(actors_list)\n",
    "    print(\"=======================================================================================================================================\")\n",
    "    print(title_kor, opening_data, rate, genre, runtime, director)\n",
    "    print(synopsis)\n",
    "    print(ac_list)\n",
    "\n",
    "\n",
    "for i in csv_test03.values[1090:1100]:\n",
    "    target_url = \"https://www.justwatch.com/kr/%EC%98%81%ED%99%94/{}\".format(i)\n",
    "    soup = get_soup(target_url)\n",
    "    extract_data(soup)"
   ]
  },
  {
   "cell_type": "code",
   "execution_count": 306,
   "metadata": {},
   "outputs": [
    {
     "data": {
      "text/html": [
       "<div>\n",
       "<style scoped>\n",
       "    .dataframe tbody tr th:only-of-type {\n",
       "        vertical-align: middle;\n",
       "    }\n",
       "\n",
       "    .dataframe tbody tr th {\n",
       "        vertical-align: top;\n",
       "    }\n",
       "\n",
       "    .dataframe thead th {\n",
       "        text-align: right;\n",
       "    }\n",
       "</style>\n",
       "<table border=\"1\" class=\"dataframe\">\n",
       "  <thead>\n",
       "    <tr style=\"text-align: right;\">\n",
       "      <th></th>\n",
       "      <th>제목</th>\n",
       "      <th>개봉일</th>\n",
       "      <th>평점</th>\n",
       "      <th>장르</th>\n",
       "      <th>재생시간</th>\n",
       "      <th>감독</th>\n",
       "      <th>시놉시스</th>\n",
       "    </tr>\n",
       "  </thead>\n",
       "  <tbody>\n",
       "    <tr>\n",
       "      <th>0</th>\n",
       "      <td>반지의 제왕: 반지 원정대</td>\n",
       "      <td>(2001)</td>\n",
       "      <td>96%  8.9 (1m)</td>\n",
       "      <td>판타지 , 액션 , 드라마</td>\n",
       "      <td>2시간 59분</td>\n",
       "      <td>Peter Jackson</td>\n",
       "      <td>호빗이라 불리우는 난장이 종족 중의 한 명인 프로도는 자신의 삼촌에게서 우연히 절대...</td>\n",
       "    </tr>\n",
       "    <tr>\n",
       "      <th>1</th>\n",
       "      <td>남색대문</td>\n",
       "      <td>(2002)</td>\n",
       "      <td>79%  7.3 (3k)</td>\n",
       "      <td>드라마 , 로맨스 , Made in Europe</td>\n",
       "      <td>1시간 25분</td>\n",
       "      <td>Yee Chin-Yen</td>\n",
       "      <td>고등학생인 커로우와 위에전은 자매처럼 지내는 단짝 친구이다. 위에전은 수영부의 장스...</td>\n",
       "    </tr>\n",
       "    <tr>\n",
       "      <th>2</th>\n",
       "      <td>멀홀랜드 드라이브</td>\n",
       "      <td>(2001)</td>\n",
       "      <td>86%  7.9 (344k)</td>\n",
       "      <td>스릴러 , 드라마 , Made in Europe</td>\n",
       "      <td>2시간 27분</td>\n",
       "      <td>David Lynch</td>\n",
       "      <td>헐리웃 스타의 꿈을 안고 LA에 온 베티(나오미 왓츠)는 멀홀랜드 드라이브에서 일어...</td>\n",
       "    </tr>\n",
       "    <tr>\n",
       "      <th>3</th>\n",
       "      <td>해리 포터와 마법사의 돌</td>\n",
       "      <td>(2001)</td>\n",
       "      <td>87%  7.6 (742k)</td>\n",
       "      <td>판타지 , 액션 , 가족</td>\n",
       "      <td>2시간 32분</td>\n",
       "      <td>Chris Columbus</td>\n",
       "      <td>해리 포터는 위압적인 버논 숙부와 냉담한 이모 페투니아, 욕심 많고 버릇없는 사촌 ...</td>\n",
       "    </tr>\n",
       "    <tr>\n",
       "      <th>4</th>\n",
       "      <td>펄프 픽션</td>\n",
       "      <td>(1994)</td>\n",
       "      <td>95%  8.9 (1m)</td>\n",
       "      <td>스릴러 , 범죄 , 드라마</td>\n",
       "      <td>2시간 34분</td>\n",
       "      <td>Quentin Tarantino</td>\n",
       "      <td>펌프킨와 허니 버니가 레스토랑에서 강도 행각을 벌이기 시작한다. 빈센트와 그 동료 ...</td>\n",
       "    </tr>\n",
       "    <tr>\n",
       "      <th>...</th>\n",
       "      <td>...</td>\n",
       "      <td>...</td>\n",
       "      <td>...</td>\n",
       "      <td>...</td>\n",
       "      <td>...</td>\n",
       "      <td>...</td>\n",
       "      <td>...</td>\n",
       "    </tr>\n",
       "    <tr>\n",
       "      <th>1084</th>\n",
       "      <td>잃어버린 지평선</td>\n",
       "      <td>(1937)</td>\n",
       "      <td>81%  7.7 (12k)</td>\n",
       "      <td>드라마 , 판타지</td>\n",
       "      <td>2시간 12분</td>\n",
       "      <td>Frank Capra</td>\n",
       "      <td>극동지역 역사학자이자 작가인 로버트(Robert Conway: 로날드 콜먼 분)가 ...</td>\n",
       "    </tr>\n",
       "    <tr>\n",
       "      <th>1085</th>\n",
       "      <td>아이거 빙벽</td>\n",
       "      <td>(1975)</td>\n",
       "      <td>70%  6.4 (19k)</td>\n",
       "      <td>드라마 , 스릴러 , 액션 , 범죄</td>\n",
       "      <td>2시간 3분</td>\n",
       "      <td>Clint Eastwood</td>\n",
       "      <td>미술사학 교수인 햄록 박사(클린트 이스트우드)는 사실 첩보기관에서 살인청부업자로도 ...</td>\n",
       "    </tr>\n",
       "    <tr>\n",
       "      <th>1086</th>\n",
       "      <td>황비홍: 철계투오공</td>\n",
       "      <td>(1993)</td>\n",
       "      <td>71%  6.7 (3k)</td>\n",
       "      <td>액션 , 코미디 , 역사</td>\n",
       "      <td>1시간 40분</td>\n",
       "      <td>Wong Jing</td>\n",
       "      <td>청조 말엽, 중국은 밀려드는 외세로 시국이 불안하고 황비홍의 보지림(寶之林)은 넘치...</td>\n",
       "    </tr>\n",
       "    <tr>\n",
       "      <th>1087</th>\n",
       "      <td>동갑내기 과외하기</td>\n",
       "      <td>(2003)</td>\n",
       "      <td>73%  6.6 (2k)</td>\n",
       "      <td>코미디 , 로맨스</td>\n",
       "      <td>1시간 50분</td>\n",
       "      <td>Kim Kyung-hyung</td>\n",
       "      <td>아버지의 실직으로 닭집 딸이 된 수완(김하늘 분), 대학 2학년인 그녀는 등록금을 ...</td>\n",
       "    </tr>\n",
       "    <tr>\n",
       "      <th>1088</th>\n",
       "      <td>가문의 영광</td>\n",
       "      <td>(2002)</td>\n",
       "      <td>65%  6.1</td>\n",
       "      <td>범죄 , 코미디 , 로맨스</td>\n",
       "      <td>1시간 53분</td>\n",
       "      <td>Chung Hung-soon</td>\n",
       "      <td>준수한 외모에 서울 법대를 졸업한 엘리트 사업가 박대서(정준호). 어느 날 생판 모...</td>\n",
       "    </tr>\n",
       "  </tbody>\n",
       "</table>\n",
       "<p>1089 rows × 7 columns</p>\n",
       "</div>"
      ],
      "text/plain": [
       "                  제목     개봉일                평점                          장르  \\\n",
       "0     반지의 제왕: 반지 원정대  (2001)     96%  8.9 (1m)              판타지 , 액션 , 드라마   \n",
       "1               남색대문  (2002)     79%  7.3 (3k)  드라마 , 로맨스 , Made in Europe   \n",
       "2          멀홀랜드 드라이브  (2001)   86%  7.9 (344k)  스릴러 , 드라마 , Made in Europe   \n",
       "3      해리 포터와 마법사의 돌  (2001)   87%  7.6 (742k)               판타지 , 액션 , 가족   \n",
       "4              펄프 픽션  (1994)     95%  8.9 (1m)              스릴러 , 범죄 , 드라마   \n",
       "...              ...     ...               ...                         ...   \n",
       "1084        잃어버린 지평선  (1937)    81%  7.7 (12k)                   드라마 , 판타지   \n",
       "1085          아이거 빙벽  (1975)    70%  6.4 (19k)         드라마 , 스릴러 , 액션 , 범죄   \n",
       "1086      황비홍: 철계투오공  (1993)     71%  6.7 (3k)               액션 , 코미디 , 역사   \n",
       "1087       동갑내기 과외하기  (2003)     73%  6.6 (2k)                   코미디 , 로맨스   \n",
       "1088          가문의 영광  (2002)          65%  6.1              범죄 , 코미디 , 로맨스   \n",
       "\n",
       "         재생시간                  감독  \\\n",
       "0     2시간 59분       Peter Jackson   \n",
       "1     1시간 25분        Yee Chin-Yen   \n",
       "2     2시간 27분         David Lynch   \n",
       "3     2시간 32분      Chris Columbus   \n",
       "4     2시간 34분   Quentin Tarantino   \n",
       "...       ...                 ...   \n",
       "1084  2시간 12분         Frank Capra   \n",
       "1085   2시간 3분      Clint Eastwood   \n",
       "1086  1시간 40분           Wong Jing   \n",
       "1087  1시간 50분     Kim Kyung-hyung   \n",
       "1088  1시간 53분     Chung Hung-soon   \n",
       "\n",
       "                                                   시놉시스  \n",
       "0     호빗이라 불리우는 난장이 종족 중의 한 명인 프로도는 자신의 삼촌에게서 우연히 절대...  \n",
       "1     고등학생인 커로우와 위에전은 자매처럼 지내는 단짝 친구이다. 위에전은 수영부의 장스...  \n",
       "2     헐리웃 스타의 꿈을 안고 LA에 온 베티(나오미 왓츠)는 멀홀랜드 드라이브에서 일어...  \n",
       "3     해리 포터는 위압적인 버논 숙부와 냉담한 이모 페투니아, 욕심 많고 버릇없는 사촌 ...  \n",
       "4     펌프킨와 허니 버니가 레스토랑에서 강도 행각을 벌이기 시작한다. 빈센트와 그 동료 ...  \n",
       "...                                                 ...  \n",
       "1084  극동지역 역사학자이자 작가인 로버트(Robert Conway: 로날드 콜먼 분)가 ...  \n",
       "1085  미술사학 교수인 햄록 박사(클린트 이스트우드)는 사실 첩보기관에서 살인청부업자로도 ...  \n",
       "1086  청조 말엽, 중국은 밀려드는 외세로 시국이 불안하고 황비홍의 보지림(寶之林)은 넘치...  \n",
       "1087  아버지의 실직으로 닭집 딸이 된 수완(김하늘 분), 대학 2학년인 그녀는 등록금을 ...  \n",
       "1088  준수한 외모에 서울 법대를 졸업한 엘리트 사업가 박대서(정준호). 어느 날 생판 모...  \n",
       "\n",
       "[1089 rows x 7 columns]"
      ]
     },
     "execution_count": 306,
     "metadata": {},
     "output_type": "execute_result"
    }
   ],
   "source": [
    "df = pd.DataFrame({\n",
    "    \"제목\":title_list,'개봉일':openingdate_list,'평점':rate_list, '장르':genre_list, '재생시간':runtime_list, '감독':director_list,\"시놉시스\":synopsis_list})\n",
    "df"
   ]
  },
  {
   "cell_type": "code",
   "execution_count": 309,
   "metadata": {},
   "outputs": [],
   "source": [
    "df.to_excel(\"test4.xlsx\")"
   ]
  },
  {
   "cell_type": "code",
   "execution_count": null,
   "metadata": {},
   "outputs": [],
   "source": []
  }
 ],
 "metadata": {
  "interpreter": {
   "hash": "46ae208522317b1e0ccd05dd07d6b276f13b06ba5c87d9313b8ca5c34df924de"
  },
  "kernelspec": {
   "display_name": "Python 3.9.7 ('base')",
   "language": "python",
   "name": "python3"
  },
  "language_info": {
   "codemirror_mode": {
    "name": "ipython",
    "version": 3
   },
   "file_extension": ".py",
   "mimetype": "text/x-python",
   "name": "python",
   "nbconvert_exporter": "python",
   "pygments_lexer": "ipython3",
   "version": "3.9.7"
  },
  "orig_nbformat": 4
 },
 "nbformat": 4,
 "nbformat_minor": 2
}
