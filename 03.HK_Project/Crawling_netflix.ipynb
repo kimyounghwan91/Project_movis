{
 "cells": [
  {
   "cell_type": "markdown",
   "metadata": {},
   "source": [
    "### BeautifulSoup 사용해서 저스트와치 상세페이지 포스터 이미지 다운로드"
   ]
  },
  {
   "cell_type": "code",
   "execution_count": 7,
   "metadata": {},
   "outputs": [
    {
     "data": {
      "text/plain": [
       "'namsaegdaemun'"
      ]
     },
     "execution_count": 7,
     "metadata": {},
     "output_type": "execute_result"
    }
   ],
   "source": [
    "# csv파일 읽어오기\n",
    "import pandas as pd\n",
    "csv_netflix1 = pd.read_excel(\"netflix_start_17년.xlsx\")\n",
    "csv_netflix1 .head()\n",
    "csv_netflix1 = csv_netflix1.drop([\"Unnamed: 0\"], axis=1)\n",
    "csv_netflix1 = csv_netflix1['start_2017']\n",
    "csv_netflix1.loc[0]"
   ]
  },
  {
   "cell_type": "code",
   "execution_count": 3,
   "metadata": {},
   "outputs": [],
   "source": [
    "title_list =[]\n",
    "openingdate_list = []\n",
    "rate_list = []\n",
    "genre_list = []\n",
    "runtime_list = []\n",
    "director_list = []\n",
    "synopsis_list = []\n",
    "ac_list = []"
   ]
  },
  {
   "cell_type": "code",
   "execution_count": null,
   "metadata": {},
   "outputs": [],
   "source": [
    "from urllib.request import urlopen\n",
    "from bs4 import BeautifulSoup\n",
    "import urllib.request\n",
    "\n",
    "\n",
    "def get_soup(target_url):\n",
    "    html = urllib.request.urlopen(target_url)\n",
    "    soup = BeautifulSoup(html, \"html.parser\")\n",
    "    return soup\n",
    "\n",
    "def extract_data(soup):\n",
    "    try:\n",
    "        detail_info = soup.find(\"div\", class_=\"title-info visible-xs visible-sm\")\n",
    "    except IndexError:\n",
    "        detail_info\n",
    "    \n",
    "    detile_infos = soup.find_all(\"div\", class_=\"detail-infos\")\n",
    "    rate = detile_infos[0].text.strip().replace(\"평점\",\"\")\n",
    "    genre = detile_infos[1].text.strip().replace(\"장르\",\"\")\n",
    "    runtime = detile_infos[2].text.strip().replace(\"재생 시간\",\"\")\n",
    "    director = detile_infos[3].text.strip().replace(\"감독\",\"\")\n",
    "    actors = soup.find(\"div\", class_=\"hidden-horizontal-scrollbar__items\")\n",
    "    actors = actors.find_all(\"a\", class_=\"title-credit-name\")\n",
    "    actors_list = []\n",
    "    for actor in actors:\n",
    "        actor = actor.get_text().strip()\n",
    "        actors_list.append(actor)         # 함수 내에서 for 문으로 뽑아낸 값을 actor_list로 저장\n",
    "    actors_list = \",\".join(actors_list)   #여기까지 tpye은 스트링 출력\n",
    "\n",
    "    title = soup.find(\"div\", class_=\"title-block\")\n",
    "    title_kor = title.find(\"h1\").get_text().strip()\n",
    "    opening_data = title.find(\"span\", class_=\"text-muted\").get_text().strip()    \n",
    "    try:\n",
    "        synopsis = soup.select(\"#base > div.jw-info-box > div > div.jw-info-box__container-content > div:nth-child(2) > div > div > div > p > span\")[0].text.strip()\n",
    "    except:\n",
    "        synopsis=None\n",
    "    \n",
    "   \n",
    "   \n",
    "    title_list.append(title_kor)\n",
    "    openingdate_list.append(opening_data)\n",
    "    rate_list.append(rate)\n",
    "    genre_list.append(genre)\n",
    "    runtime_list.append(runtime)\n",
    "    director_list.append(director)\n",
    "    synopsis_list.append(synopsis)\n",
    "    ac_list.append(actors_list)                 # 위 for 문에서 뽑아낸 데이터 정보를 함수 밖의 ac_list로 저장\n",
    "    \n",
    "    print(\"=======================================================================================================================================\")\n",
    "    print(title_kor, opening_data, rate, genre, runtime, director)\n",
    "    print(synopsis)\n",
    "    print(actors_list)    # 함수값 안에서의 출연진 값이 print 값으로 표시됨\n",
    "\n",
    "\n",
    "for i in csv_netflix1[822:]:\n",
    "    target_url = \"https://www.justwatch.com/kr/%EC%98%81%ED%99%94/{}\".format(i)\n",
    "    soup = get_soup(target_url)\n",
    "    extract_data(soup)"
   ]
  },
  {
   "cell_type": "code",
   "execution_count": 5,
   "metadata": {},
   "outputs": [
    {
     "data": {
      "text/html": [
       "<div>\n",
       "<style scoped>\n",
       "    .dataframe tbody tr th:only-of-type {\n",
       "        vertical-align: middle;\n",
       "    }\n",
       "\n",
       "    .dataframe tbody tr th {\n",
       "        vertical-align: top;\n",
       "    }\n",
       "\n",
       "    .dataframe thead th {\n",
       "        text-align: right;\n",
       "    }\n",
       "</style>\n",
       "<table border=\"1\" class=\"dataframe\">\n",
       "  <thead>\n",
       "    <tr style=\"text-align: right;\">\n",
       "      <th></th>\n",
       "      <th>제목</th>\n",
       "      <th>개봉일</th>\n",
       "      <th>평점</th>\n",
       "      <th>장르</th>\n",
       "      <th>재생시간</th>\n",
       "      <th>감독</th>\n",
       "      <th>출연진</th>\n",
       "      <th>시놉시스</th>\n",
       "    </tr>\n",
       "  </thead>\n",
       "  <tbody>\n",
       "    <tr>\n",
       "      <th>817</th>\n",
       "      <td>짱구는 못말려 극장판: 태풍을 부르는 장엄한 전설의 전쟁</td>\n",
       "      <td>(2002)</td>\n",
       "      <td>75%  7.2</td>\n",
       "      <td>애니메이션 , 역사</td>\n",
       "      <td>1시간 35분</td>\n",
       "      <td>Keiichi Hara</td>\n",
       "      <td>Akiko Yajima,Miki Narahashi,Keiji Fujiwara,Sat...</td>\n",
       "      <td>어느 날 밤 짱구 가족은 동시에 사극에서 본 듯한 아름다운 여성이 나오는 꿈을 꾼다...</td>\n",
       "    </tr>\n",
       "    <tr>\n",
       "      <th>818</th>\n",
       "      <td>원더 휠</td>\n",
       "      <td>(2017)</td>\n",
       "      <td>70%  6.2 (28k)</td>\n",
       "      <td>드라마 , 로맨스</td>\n",
       "      <td>1시간 41분</td>\n",
       "      <td>Woody Allen</td>\n",
       "      <td>Jim Belushi,Juno Temple,Justin Timberlake,Kate...</td>\n",
       "      <td>웨이트리스로 일하는 지니는 해변의 안전요원 믹키와 사랑에 빠진다.  예상치 못한 캐...</td>\n",
       "    </tr>\n",
       "    <tr>\n",
       "      <th>819</th>\n",
       "      <td>베테랑</td>\n",
       "      <td>(2015)</td>\n",
       "      <td>76%  7.0 (6k)</td>\n",
       "      <td>코미디 , 범죄 , 스릴러 , 액션</td>\n",
       "      <td>1시간 59분</td>\n",
       "      <td>Ryoo Seung-wan</td>\n",
       "      <td>Hwang Jung-min,Yoo Ah-in,Yoo Hae-jin,Oh Dal-su...</td>\n",
       "      <td>한 번 꽂힌 것은 무조건 끝을 보는 행동파 서도철은 겁 없고, 못 잡는 것 없고, ...</td>\n",
       "    </tr>\n",
       "    <tr>\n",
       "      <th>820</th>\n",
       "      <td>함께 있을 수 있다면</td>\n",
       "      <td>(2007)</td>\n",
       "      <td>73%  6.8 (11k)</td>\n",
       "      <td>로맨스 , Made in Europe , 드라마</td>\n",
       "      <td>1시간 37분</td>\n",
       "      <td>Claude Berri</td>\n",
       "      <td>Audrey Tautou,Guillaume Canet,Laurent Stocker,...</td>\n",
       "      <td>화가 지망생이지만 환경미화원으로 생계를 유지하고 있는 카미유. 적막한 도시 생활 속...</td>\n",
       "    </tr>\n",
       "    <tr>\n",
       "      <th>821</th>\n",
       "      <td>자객 섭은낭</td>\n",
       "      <td>(2015)</td>\n",
       "      <td>70%  6.3 (16k)</td>\n",
       "      <td>드라마 , 액션 , 역사</td>\n",
       "      <td>1시간 45분</td>\n",
       "      <td>Hou Hsiao-hsien</td>\n",
       "      <td>Shu Qi,Chang Chen,Nikki Hsieh,Sheu Fang-Yi,Eth...</td>\n",
       "      <td>9세기 초 당나라. 고위 관료의 딸로 태어났지만, 정혼자와의 이별 후 부패한 관리를...</td>\n",
       "    </tr>\n",
       "  </tbody>\n",
       "</table>\n",
       "</div>"
      ],
      "text/plain": [
       "                                  제목     개봉일               평점  \\\n",
       "817  짱구는 못말려 극장판: 태풍을 부르는 장엄한 전설의 전쟁  (2002)         75%  7.2   \n",
       "818                             원더 휠  (2017)   70%  6.2 (28k)   \n",
       "819                              베테랑  (2015)    76%  7.0 (6k)   \n",
       "820                      함께 있을 수 있다면  (2007)   73%  6.8 (11k)   \n",
       "821                           자객 섭은낭  (2015)   70%  6.3 (16k)   \n",
       "\n",
       "                             장르     재생시간                감독  \\\n",
       "817                  애니메이션 , 역사  1시간 35분      Keiichi Hara   \n",
       "818                   드라마 , 로맨스  1시간 41분       Woody Allen   \n",
       "819         코미디 , 범죄 , 스릴러 , 액션  1시간 59분    Ryoo Seung-wan   \n",
       "820  로맨스 , Made in Europe , 드라마  1시간 37분      Claude Berri   \n",
       "821               드라마 , 액션 , 역사  1시간 45분   Hou Hsiao-hsien   \n",
       "\n",
       "                                                   출연진  \\\n",
       "817  Akiko Yajima,Miki Narahashi,Keiji Fujiwara,Sat...   \n",
       "818  Jim Belushi,Juno Temple,Justin Timberlake,Kate...   \n",
       "819  Hwang Jung-min,Yoo Ah-in,Yoo Hae-jin,Oh Dal-su...   \n",
       "820  Audrey Tautou,Guillaume Canet,Laurent Stocker,...   \n",
       "821  Shu Qi,Chang Chen,Nikki Hsieh,Sheu Fang-Yi,Eth...   \n",
       "\n",
       "                                                  시놉시스  \n",
       "817  어느 날 밤 짱구 가족은 동시에 사극에서 본 듯한 아름다운 여성이 나오는 꿈을 꾼다...  \n",
       "818  웨이트리스로 일하는 지니는 해변의 안전요원 믹키와 사랑에 빠진다.  예상치 못한 캐...  \n",
       "819  한 번 꽂힌 것은 무조건 끝을 보는 행동파 서도철은 겁 없고, 못 잡는 것 없고, ...  \n",
       "820  화가 지망생이지만 환경미화원으로 생계를 유지하고 있는 카미유. 적막한 도시 생활 속...  \n",
       "821  9세기 초 당나라. 고위 관료의 딸로 태어났지만, 정혼자와의 이별 후 부패한 관리를...  "
      ]
     },
     "execution_count": 5,
     "metadata": {},
     "output_type": "execute_result"
    }
   ],
   "source": [
    "df = pd.DataFrame({\n",
    "    \"제목\":title_list,'개봉일':openingdate_list,'평점':rate_list, '장르':genre_list, '재생시간':runtime_list, '감독':director_list,\"출연진\":ac_list, \"시놉시스\":synopsis_list})\n",
    "df.tail(5)"
   ]
  },
  {
   "cell_type": "code",
   "execution_count": 147,
   "metadata": {},
   "outputs": [],
   "source": [
    "df.to_excel(\"test2019~20년.xlsx\")"
   ]
  },
  {
   "cell_type": "code",
   "execution_count": 148,
   "metadata": {},
   "outputs": [],
   "source": [
    "df.to_csv(\"test2019~20년.csv\")"
   ]
  },
  {
   "cell_type": "code",
   "execution_count": null,
   "metadata": {},
   "outputs": [],
   "source": []
  }
 ],
 "metadata": {
  "interpreter": {
   "hash": "46ae208522317b1e0ccd05dd07d6b276f13b06ba5c87d9313b8ca5c34df924de"
  },
  "kernelspec": {
   "display_name": "Python 3.9.7 ('base')",
   "language": "python",
   "name": "python3"
  },
  "language_info": {
   "codemirror_mode": {
    "name": "ipython",
    "version": 3
   },
   "file_extension": ".py",
   "mimetype": "text/x-python",
   "name": "python",
   "nbconvert_exporter": "python",
   "pygments_lexer": "ipython3",
   "version": "3.9.7"
  },
  "orig_nbformat": 4
 },
 "nbformat": 4,
 "nbformat_minor": 2
}
